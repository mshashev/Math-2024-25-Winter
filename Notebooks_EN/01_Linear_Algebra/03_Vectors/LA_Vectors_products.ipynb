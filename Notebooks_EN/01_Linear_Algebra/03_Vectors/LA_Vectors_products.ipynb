{
  "cells": [
    {
      "cell_type": "markdown",
      "metadata": {
        "id": "1BL2LypyeoFy"
      },
      "source": [
        "# Vectors - Scalar, Vector, Mixed Products\n",
        "\n",
        "## Scalar Product\n",
        "\n",
        "The scalar product (also called the dot product) of two vectors is an operation that returns a scalar value. It is defined as the sum of the products of the corresponding components of two vectors.\n",
        "\n",
        "For two vectors $\\mathbf{a}$ and $\\mathbf{b}$ in the space $\\mathbb{R}^n$, where:\n",
        "\n",
        "$$\n",
        "\\mathbf{a} = [a_1, a_2, \\dots, a_n], \\quad \\mathbf{b} = [b_1, b_2, \\dots, b_n]\n",
        "$$\n",
        "\n",
        "The scalar product is defined as follows:\n",
        "\n",
        "$$\n",
        "\\mathbf{a} \\cdot \\mathbf{b} = a_1b_1 + a_2b_2 + \\dots + a_nb_n = \\sum_{i=1}^{n} a_i b_i\n",
        "$$\n",
        "\n",
        "Example for three-dimensional space ($ \\mathbb{R}^3 $):\n",
        "\n",
        "For vectors $\\mathbf{a} = [a_1, a_2, a_3]$ and $\\mathbf{b} = [b_1, b_2, b_3]$, the scalar product is:\n",
        "\n",
        "$$\n",
        "\\mathbf{a} \\cdot \\mathbf{b} = a_1b_1 + a_2b_2 + a_3b_3\n",
        "$$\n",
        "\n",
        "The scalar product returns a number that measures the \"similarity of direction\" between two vectors. If $\\mathbf{a} \\cdot \\mathbf{b} = 0$, the vectors are perpendicular.\n",
        "\n",
        "Alternatively, the scalar product can be expressed as:\n",
        "\n",
        "$$\n",
        "\\mathbf{a} \\cdot \\mathbf{b} = \\|\\mathbf{a}\\| \\|\\mathbf{b}\\| \\cos(\\theta),\n",
        "$$\n",
        "which is the product of the magnitudes of vectors $\\mathbf{a}$ and $\\mathbf{b}$ multiplied by the cosine of the angle between them.\n",
        "\n",
        "## Vector Product\n",
        "\n",
        "The vector product (also called the cross product) is an operation that returns a new vector perpendicular to the two input vectors. It is defined only in three-dimensional space $ \\mathbb{R}^3 $.\n",
        "\n",
        "For two vectors $ \\mathbf{a} = [a_1, a_2, a_3] $ and $ \\mathbf{b} = [b_1, b_2, b_3] $, the vector product $ \\mathbf{a} \times \\mathbf{b} $ is defined as:\n",
        "\n",
        "$$ \\mathbf{a} \t\\times \\mathbf{b} =\n",
        "\\begin{vmatrix}\n",
        "\\mathbf{i} & \\mathbf{j} & \\mathbf{k} \\\\\n",
        "a_1 & a_2 & a_3 \\\\\n",
        "b_1 & b_2 & b_3\n",
        "\\end{vmatrix}\n",
        "$$\n",
        "\n",
        "Where $ \\mathbf{i}, \\mathbf{j}, \\mathbf{k} $ are unit vectors along the $ x, y, z $ axes. Interestingly, to calculate the vector product and obtain the resulting vector, we use the determinant (a scalar) of the matrix (a second-order tensor) whose rows are the basis vectors (vectors) and the components of the vectors (scalars).\n",
        "\n",
        "The vector product can be expressed in expanded form:\n",
        "\n",
        "$$ \\mathbf{a} \t\\times \\mathbf{b} = \\left( a_2b_3 - a_3b_2 \\right)\\mathbf{i} - \\left( a_1b_3 - a_3b_1 \\right)\\mathbf{j} + \\left( a_1b_2 - a_2b_1 \\right)\\mathbf{k} $$\n",
        "\n",
        "The result of the vector product is a new vector:\n",
        "\n",
        "$$ \\mathbf{c} = \\mathbf{a} \t\\times \\mathbf{b} = [a_2b_3 - a_3b_2, a_3b_1 - a_1b_3, a_1b_2 - a_2b_1] $$\n",
        "\n",
        "The vector product returns a vector $\\mathbf{c}$ perpendicular to the plane defined by $ \\mathbf{a} $ and $ \\mathbf{b} $, and its magnitude is equal to the area of the parallelogram whose sides are defined by the vectors $ \\mathbf{a} $ and $ \\mathbf{b} $\n",
        "$$\n",
        "|\\mathbf{c}| = |\\mathbf{a}| |\\mathbf{b}| \\sin \\theta\n",
        "$$\n",
        "\n",
        "where $\theta$ is the angle between the vectors. The direction of vector $\\vec{c}$ is determined by the right-hand rule.\n",
        "\n",
        "## Mixed Product\n",
        "\n",
        "The mixed product of three vectors $\\mathbf{a}, \\mathbf{b}, \\mathbf{c}$ is defined as:\n",
        "\n",
        "$$\n",
        "\\mathbf{a} \\cdot \\left( \\mathbf{b} \\times \\mathbf{c} \\right)\n",
        "$$\n",
        "\n",
        "This is equivalent to the scalar product $\\mathbf{a} \\times \\left( \\mathbf{b} \\times \\mathbf{c} \\right)$.\n",
        "\n",
        "The mixed product is equal to zero if the vectors $\\mathbf{a}, \\mathbf{b}, \\mathbf{c}$ are collinear or parallel.\n",
        "\n",
        "The volume of the parallelepiped defined by three vectors $\\mathbf{a}, \\mathbf{b}, \\mathbf{c}$ is equal to the absolute value of the mixed product of these vectors.\n",
        "\n",
        "## Implementation"
      ]
    },
    {
      "cell_type": "code",
      "execution_count": null,
      "metadata": {
        "id": "0lZbmuJZeoF3"
      },
      "outputs": [],
      "source": [
        "import sympy as sp\n",
        "# Vector definitions\n",
        "a = sp.Matrix([1, 2, 3])\n",
        "b = sp.Matrix([4, 5, 6])\n",
        "c = sp.Matrix([7, 0, 9])\n",
        "d = sp.Matrix([0, 2, 0])"
      ]
    },
    {
      "cell_type": "code",
      "execution_count": null,
      "metadata": {
        "id": "291CBuZreoF5"
      },
      "outputs": [],
      "source": [
        "# Display vector c\n",
        "c"
      ]
    },
    {
      "cell_type": "code",
      "execution_count": null,
      "metadata": {
        "id": "22k3K9hmeoF6"
      },
      "outputs": [],
      "source": [
        "# Adding vectors a and b\n",
        "a + b"
      ]
    },
    {
      "cell_type": "code",
      "execution_count": null,
      "metadata": {
        "id": "txedU_I3eoF6"
      },
      "outputs": [],
      "source": [
        "# Dot product of a and b\n",
        "(1*4 + 2*5 + 3*6) == a.dot(b)"
      ]
    },
    {
      "cell_type": "code",
      "execution_count": null,
      "metadata": {
        "id": "Eu_PSsepeoF7"
      },
      "outputs": [],
      "source": [
        "# Cross product of a and c\n",
        "# a = [1, 2, 3]\n",
        "# c = [7, 0, 9]\n",
        "\n",
        "# As an aid, write the vectors as 3x3 matrices\n",
        "# i, j, k\n",
        "# 1, 2, 3\n",
        "# 7, 0, 9\n",
        "\n",
        "# Now\n",
        "comp1 = (2*9 - 3*0)\n",
        "comp2 = -(1*9 - 3*7)\n",
        "comp3 = (1*0 - 2*7)\n",
        "\n",
        "# Result\n",
        "sp.Matrix([comp1, comp2, comp3]) == a.cross(c)"
      ]
    },
    {
      "cell_type": "code",
      "execution_count": null,
      "metadata": {
        "id": "2ljf7e3meoF7"
      },
      "outputs": [],
      "source": [
        "# Perpendicularity of vectors\n",
        "# c = [7, 0, 9]\n",
        "# d = [0, 2, 0]\n",
        "\n",
        "# If the dot product of vectors is equal to 0, they are perpendicular\n",
        "dot_product = 7*0 + 0*2 + 9*0\n",
        "dot_product == 0"
      ]
    },
    {
      "cell_type": "markdown",
      "metadata": {
        "id": "2tRGYmgVeoF8"
      },
      "source": [
        "## Applications\n",
        "\n",
        "### Calculating the Angle Between Vectors\n",
        "\n",
        "$$\n",
        "\\cos \\theta = \\frac{\\mathbf{a} \\cdot \\mathbf{b}}{\\|\\mathbf{a}\\| \\|\\mathbf{b}\\|}\n",
        "$$\n",
        "\n",
        "### Checking Vector Perpendicularity\n",
        "\n",
        "Vectors $\\mathbf{a}$ and $\\mathbf{b}$ are perpendicular if their dot product is zero:\n",
        "$$\n",
        "\\mathbf{a} \\cdot \\mathbf{b} = 0\n",
        "\\quad \\Leftrightarrow \\quad\n",
        " \\mathbf{a} \\perp \\mathbf{b}\n",
        "$$\n",
        "\n",
        "### Finding Projections of Vectors onto Other Vectors\n",
        "\n",
        "$$\n",
        "\\text{Projection} = \\frac{\\mathbf{a} \\cdot \\mathbf{b}}{\\|\\mathbf{b}\\|}\n",
        "$$\n",
        "\n",
        "### Calculating Work Done by a Force in Physics\n",
        "\n",
        "For a force $\\mathbf{F} = (F_x, F_y, F_z)$ acting along a displacement $\\mathbf{d} = (d_x, d_y, d_z)$, work is calculated as:\n",
        "\n",
        "$$\n",
        "W = \\mathbf{F} \\cdot \\mathbf{d} = |\\mathbf{F}| |\\mathbf{d}| \\cos \\theta = F_x d_x + F_y d_y + F_z d_z\n",
        "$$\n",
        "\n",
        "### Torque\n",
        "\n",
        "In physics: torque is the vector product of the force vector and the arm of the force:\n",
        "\n",
        "$$\n",
        "\\mathbf{M} = \\mathbf{r} \\times \\mathbf{F}\n",
        "$$\n",
        "\n",
        "### Calculating the Area of a Parallelogram\n",
        "\n",
        "The area of a parallelogram spanned by two vectors:\n",
        "\n",
        "$$\n",
        "\\text{Area}_{r} = \\mathbf{a} \\times \\mathbf{b} = |\\mathbf{a}| |\\mathbf{b}| \\sin \\theta\n",
        "$$\n",
        "\n",
        "### Calculating the Area of a Triangle\n",
        "\n",
        "The area of a triangle spanned by two vectors $\\mathbf{a}$ and $\\mathbf{b}$:\n",
        "\n",
        "$$\n",
        "\\text{Area}_{t} = \\frac{1}{2} |\\mathbf{a} \\times \\mathbf{b}|\n",
        "$$\n",
        "\n",
        "### Calculating the Volume of Parallelepipeds and Tetrahedrons\n",
        "\n",
        "The mixed product of vectors is used to calculate the volume of parallelepipeds and tetrahedrons. For three vectors **$\\mathbf{a}$**, **$\\mathbf{b}$**, and **$\\mathbf{c}$**, the volume of the parallelepiped is given by:\n",
        "\n",
        "$$\n",
        "V = |\\mathbf{a} \\cdot (\\mathbf{b} \\times \\mathbf{c})|\n",
        "$$\n",
        "(Note: **| |** here denotes the absolute value, not the magnitude!)\n",
        "\n",
        "### Checking Coplanarity of Three Vectors\n",
        "\n",
        "If the mixed product of three vectors is equal to zero, it means that the vectors are coplanar. Otherwise, they form a tetrahedron.\n",
        "\n",
        "---\n",
        "\n",
        "## Student Exercises\n",
        "\n",
        "A. Perform the addition of vector $[2, 1]$ to vector $[-1, 1]$. Plot both vectors and their sum on a graph.\n",
        "\n",
        "B. Calculate the area of the triangle spanned by vectors $[2, 1]$ and $[-1, 1]$.\n",
        "\n",
        "C. Calculate the volume of the parallelepiped spanned by vectors $[2, 1]$, $[-1, 1]$, and $[1, 2]$.\n",
        "\n",
        "D. Check if vectors $[2, 1]$ and $[-1, 1]$ are perpendicular.\n",
        "\n",
        "E. Calculate the angle in degrees between vectors $[4,2,1]$ and $[1,3,2]$.\n",
        "\n",
        "F. For three-dimensional vectors: $\\mathbf{a}=[a_x, a_y, a_z]$, $\\mathbf{b}=[b_x, b_y, b_z]$, $\\mathbf{c}=[c_x, c_y, c_z]$, prove that the following identity is satisfied:\n",
        "\n",
        "$$\n",
        "\\mathbf{a} \\times (\\mathbf{b} \\times \\mathbf{c}) = (\\mathbf{a} \\cdot \\mathbf{c}) \\mathbf{b} - (\\mathbf{a} \\cdot \\mathbf{b}) \\mathbf{c}.\n",
        "$$"
      ]
    },
    {
      "cell_type": "markdown",
      "source": [
        "#${A}$\n",
        "\n",
        "$\\vec{a}(2,1) \\quad \\vec{b}(-1,1)$\n",
        "\n",
        "$\\vec{a}+\\vec{b}=((2+(-1)),(1+1))=(1,2)$\n",
        "\n",
        "https://www.geogebra.org/calculator/kzcytmus\n",
        "\n",
        "![Снимок экрана 2024-11-17 в 21.39.35.png](data:image/png;base64,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)"
      ],
      "metadata": {
        "id": "nlxsFEN2e6xi"
      }
    },
    {
      "cell_type": "markdown",
      "source": [
        "#${B}$\n",
        "$Area \\;formula: \\frac{1}{2}\\cdot det\\begin{vmatrix} a_x & b_x \\\\a_y & b_y \\end{vmatrix}$\n",
        "\n",
        "$\\vec{a}(2,1)\\quad \\vec{b}(-1,1) \\quad\\Rightarrow\\quad \\begin{vmatrix} 2 & 1 \\\\ -1 & 1 \\end{vmatrix} $\n",
        "\n",
        "$det \\begin{vmatrix} 2 & 1 \\\\ -1 & 1 \\end{vmatrix}= 2+1=3$\n",
        "\n",
        "$Area=\\frac{1}{2}\\cdot3=1,5$"
      ],
      "metadata": {
        "id": "e2xkosiGfZ0I"
      }
    },
    {
      "cell_type": "markdown",
      "source": [
        "#${D}$\n",
        "\n",
        "To determine if two vectors are perpendicular, we can use the dot product. If the dot product of two vectors is zero, then they are perpendicular.\n",
        "\n",
        "$\\vec{a}(2,1)\\quad\\vec{b}(-1,1)$\n",
        "\n",
        "$\\vec{a}\\cdot\\vec{b}=(2\\cdot(-1)+1\\cdot1)=-1$\n",
        "\n",
        "Since the dot product is not zero, vectors are not perpendicular."
      ],
      "metadata": {
        "id": "QJW7roddiRxl"
      }
    },
    {
      "cell_type": "markdown",
      "source": [
        "#${E}$\n",
        "\n",
        "$\\vec{a}(4,2,1)\\quad\\vec{b}(1,3,2)$\n",
        "\n",
        "$\\vec{a}\\cdot\\vec{b}=|\\vec{a}|\\cdot|\\vec{b}|cos\\gamma$\n",
        "\n",
        "$\\gamma=arccos\\frac{\\vec{a}\\cdot\\vec{b}}{|\\vec{a}|\\cdot|\\vec{b}|}$\n",
        "\n",
        "$|\\vec{a}|^2=4^2+2^2+1^2 \\Rightarrow |\\vec{a}|=\\sqrt{16+4+1} \\Rightarrow |\\vec{a}|=\\sqrt{21}$\n",
        "\n",
        "$|\\vec{b}|^2=1^2+3^2+2^2 \\Rightarrow |\\vec{b}|=\\sqrt{1+9+4} \\Rightarrow |\\vec{b}|=\\sqrt{14}$\n",
        "\n",
        "$\\gamma=arccos(\\frac{12}{\\sqrt{21}\\cdot\\sqrt{14}}) \\Rightarrow \\gamma≈45,58^0$"
      ],
      "metadata": {
        "id": "FlhXsqxDjAkD"
      }
    },
    {
      "cell_type": "markdown",
      "source": [
        "#$E$\n",
        "\n",
        "$b\\times c=\\begin{vmatrix} i & j & k \\\\ b_x & b_y & b_z \\\\ c_x & c_y & c_z \\end{vmatrix}=i(b_yc_z)- j(b_xc_z-b_zc_x)+k(b_xc_y-b_yc_x)$\n",
        "\n",
        "$a\\times()$"
      ],
      "metadata": {
        "id": "wCeBK4cDkZWl"
      }
    }
  ],
  "metadata": {
    "kernelspec": {
      "display_name": "Python 3 (ipykernel)",
      "language": "python",
      "name": "python3",
      "path": "/media/dch/Disk2/Vizja/Math-2024-25-Winter/.venv/share/jupyter/kernels/python3"
    },
    "colab": {
      "provenance": []
    }
  },
  "nbformat": 4,
  "nbformat_minor": 0
}