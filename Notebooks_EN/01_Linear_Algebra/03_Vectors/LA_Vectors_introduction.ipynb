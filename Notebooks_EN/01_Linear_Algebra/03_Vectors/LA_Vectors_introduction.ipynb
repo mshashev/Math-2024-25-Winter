{
  "cells": [
    {
      "cell_type": "markdown",
      "metadata": {
        "id": "39e3jxdNoCMX"
      },
      "source": [
        "# Vectors - Introduction\n",
        "\n",
        "**Vectors** are quantities that have both magnitude and direction in space. They are used to describe various physical quantities such as velocity, force, or electric field intensity. Unlike scalars, which have only magnitude (e.g., mass, temperature), vectors require a direction to be specified.\n",
        "\n",
        "A vector is represented with an arrow above the symbol $\\vec{a}$ or in bold type $\\mathbf{a}$.\n",
        "- The magnitude of a vector can be written as $\\vec{a}|$ or $a$.\n",
        "- A vector of length 1 is called a unit vector and is denoted by $\\hat{\\mathbf{a}} = \\frac{\\vec{a}}{|\\vec{a}|}$.\n",
        "\n",
        "**Example:**\n",
        "\n",
        "The vector $\\mathbf{a}= [3, 4]$ has a magnitude $a = 5$, and the corresponding unit vector (unit vector along the direction of vector $\\mathbf{a}$) is expressed as $\\hat{\\mathbf{a}} = \\left[\\frac{3}{5}, \\frac{4}{5}\\right]$.\n"
      ]
    },
    {
      "cell_type": "code",
      "execution_count": null,
      "metadata": {
        "id": "SiWrc1GHoCMa",
        "outputId": "c58822bc-1ce0-4980-89be-28350a964d85"
      },
      "outputs": [
        {
          "data": {
            "text/latex": [
              "$\\displaystyle \\sqrt{a_{x}^{2} + a_{y}^{2}}$"
            ],
            "text/plain": [
              "sqrt(a_x**2 + a_y**2)"
            ]
          },
          "execution_count": 2,
          "metadata": {},
          "output_type": "execute_result"
        }
      ],
      "source": [
        "import sympy as sp  # import the sympy module\n",
        "\n",
        "# For vector $\\mathbf{a} = [a_x, a_y]$, the magnitude is given by the formula:\n",
        "# $$ |\\mathbf{a}| = a = \\sqrt{a_x^2 + a_y^2} $$\n",
        "\n",
        "a_x, a_y = sp.symbols('a_x a_y')  # Step 1: Define symbolic variables a_x and a_y\n",
        "magnitude_a = sp.sqrt(a_x**2 + a_y**2)  # Step 2: Create the formula for the magnitude of vector a\n",
        "magnitude_a  # Step 3: Display the result"
      ]
    },
    {
      "cell_type": "code",
      "execution_count": null,
      "metadata": {
        "id": "ay5-cCvioCMd",
        "outputId": "00d5908e-2035-4138-f4d4-a4b440cab479"
      },
      "outputs": [
        {
          "data": {
            "text/latex": [
              "$\\displaystyle 5.0$"
            ],
            "text/plain": [
              "5.00000000000000"
            ]
          },
          "execution_count": 3,
          "metadata": {},
          "output_type": "execute_result"
        }
      ],
      "source": [
        "# Assign values to a_x and a_y\n",
        "a_x = 3  # x component of the vector\n",
        "a_y = 4  # y component of the vector\n",
        "\n",
        "magnitude_a = sp.sqrt(a_x**2 + a_y**2)  # Calculate the magnitude of the vector for a_x = 3 and a_y = 4\n",
        "magnitude_a.evalf()  # Numerically calculate the magnitude of the vector (expected result: 5)"
      ]
    },
    {
      "cell_type": "markdown",
      "metadata": {
        "id": "tYSKd2L_oCMe"
      },
      "source": [
        "## Vector Addition\n",
        "\n",
        "Vector addition involves adding the corresponding components of vectors of the same length.\n",
        "\n",
        "For two vectors $\\mathbf{a}$ and $\\mathbf{b}$ in the space $\\mathbb{R}^n$, where:\n",
        "\n",
        "$$\n",
        "\\mathbf{a} = [a_1, a_2, \\dots, a_n], \\quad \\mathbf{b} = [b_1, b_2, \\dots, b_n]\n",
        "$$\n",
        "\n",
        "Vector addition is defined as follows:\n",
        "\n",
        "$$\n",
        "\\mathbf{a} + \\mathbf{b} = [a_1 + b_1, a_2 + b_2, \\dots, a_n + b_n]\n",
        "$$\n",
        "\n",
        "## Scalar Multiplication of a Vector\n",
        "\n",
        "Scalar multiplication of a vector involves multiplying each component of the vector by the same number.\n",
        "\n",
        "For a vector $\\mathbf{a}$ and a scalar $k$:\n",
        "\n",
        "$$\n",
        "k \\mathbf{a} = [k a_1, k a_2, \\dots, k a_n]\n",
        "$$\n",
        "\n",
        "## Vectors in the Plane and Space\n",
        "\n",
        "**Vectors in 2D:**\n",
        "\n",
        "If $\\mathbf{a} = [a_x, a_y]$, then the magnitude is given by the formula $|\\mathbf{a}| = a = \\sqrt{a_x^2 + a_y^2}$.\n",
        "\n",
        "**Vectors in 3D:**\n",
        "\n",
        "If $\\mathbf{a} = [a_x, a_y, a_z]$, then the magnitude of the vector is $|\\mathbf{a}| = a = \\sqrt{a_x^2 + a_y^2 + a_z^2}$.\n",
        "\n",
        "## Plotting a Vector"
      ]
    },
    {
      "cell_type": "code",
      "execution_count": null,
      "metadata": {
        "id": "oOWm85mroCMf",
        "outputId": "db167bd0-b792-4bcd-a684-784cd1311a85"
      },
      "outputs": [
        {
          "data": {
            "image/png": "[encoded data removed]",
            "text/plain": [
              "<Figure size 640x480 with 1 Axes>"
            ]
          },
          "metadata": {},
          "output_type": "display_data"
        }
      ],
      "source": [
        "import matplotlib.pyplot as plt # import the matplotlib.pyplot module\n",
        "\n",
        "plt.figure() # create a new figure\n",
        "plt.quiver(0, 0, 3, 4, angles='xy', scale_units='xy', scale=1, color='r') # quick way to plot a vector quiver(x_start, y_start, x_end, y_end)\n",
        "plt.xlim(0, 5) # set x-axis range\n",
        "plt.ylim(0, 5) # set y-axis range\n",
        "plt.grid(True) # enable grid\n",
        "plt.gca().set_aspect('equal') # set equal scaling on x and y axes\n",
        "plt.show()"
      ]
    },
    {
      "cell_type": "markdown",
      "metadata": {
        "id": "x9V-kaV1oCMf"
      },
      "source": [
        "## Example of Simple Vector Implementation in Python\n",
        "\n",
        "Given vectors $\\mathbf{a}=[1, 2]$ and $\\mathbf{b}=[3, 4]$, we want to calculate their sum $\\mathbf{c}=\\mathbf{a}+\\mathbf{b}= [1+3, 2+4] = [4, 6]$"
      ]
    },
    {
      "cell_type": "code",
      "execution_count": null,
      "metadata": {
        "id": "LJjzxgcIoCMg",
        "outputId": "1492557e-00d5-49f8-f8df-b9af0f4ec0a2"
      },
      "outputs": [
        {
          "data": {
            "text/plain": [
              "[4, 6]"
            ]
          },
          "execution_count": 5,
          "metadata": {},
          "output_type": "execute_result"
        }
      ],
      "source": [
        "import sympy as sp # import the sympy module\n",
        "\n",
        "a=[1, 2] # vector a\n",
        "b=[3, 4] # vector b\n",
        "c = [a[0] + b[0], a[1] + b[1]] # sum of vectors a and b\n",
        "c # display the result"
      ]
    },
    {
      "cell_type": "markdown",
      "metadata": {
        "id": "HavFxQlPoCMg"
      },
      "source": [
        "## Example of Better Vector Implementation in Python\n",
        "\n",
        "Vectors are represented as column matrices. Then vector addition is the same as matrix addition."
      ]
    },
    {
      "cell_type": "code",
      "execution_count": null,
      "metadata": {
        "id": "DK3sL_UPoCMg",
        "outputId": "db54c68f-058f-4741-bc59-d07b68879c3f"
      },
      "outputs": [
        {
          "data": {
            "text/latex": [
              "$\\displaystyle \\left[\\begin{matrix}12\\\\5\\\\18\\end{matrix}\\right]$"
            ],
            "text/plain": [
              "Matrix([\n",
              "[12],\n",
              "[ 5],\n",
              "[18]])"
            ]
          },
          "execution_count": 6,
          "metadata": {},
          "output_type": "execute_result"
        }
      ],
      "source": [
        "import sympy as sp\n",
        "\n",
        "# Vector definitions\n",
        "a = sp.Matrix([1, 2, 3])\n",
        "b = sp.Matrix([4, 5, 6])\n",
        "c = sp.Matrix([7, 0, 9])\n",
        "d = sp.Matrix([0, 2, 0])\n",
        "\n",
        "a + b + c - d # An operation involving addition and subtraction of vectors"
      ]
    },
    {
      "cell_type": "markdown",
      "metadata": {
        "id": "DBfKsNxnoCMh"
      },
      "source": [
        "## Plotting Vector Addition\n",
        "\n",
        "Example: $\\mathbf{a}=[2,1]$ and $\\mathbf{b}=[1,2]$ results in vector $\\mathbf{c}=\\mathbf{a}+\\mathbf{b}=[3,3]$."
      ]
    },
    {
      "cell_type": "code",
      "execution_count": null,
      "metadata": {
        "id": "2i6rtRzgoCMh",
        "outputId": "af2e5b7a-df22-4cb4-f86f-8b4d48cb4c05"
      },
      "outputs": [
        {
          "data": {
            "image/png": "[encoded data removed]",
            "text/plain": [
              "<Figure size 640x480 with 1 Axes>"
            ]
          },
          "metadata": {},
          "output_type": "display_data"
        }
      ],
      "source": [
        "import matplotlib.pyplot as plt # import the matplotlib.pyplot module #example of vector addition in two-dimensional space\n",
        "\n",
        "plt.figure() # create a new figure\n",
        "plt.quiver(0, 0, 2, 1, angles='xy', scale_units='xy', scale=1, color='r') # quick way to plot vectors quiver(x_start, y_start, x_end, y_end)\n",
        "plt.quiver(0, 0, 1, 2, angles='xy', scale_units='xy', scale=1, color='b') # quick way to plot vectors quiver(x_start, y_start, x_end, y_end)\n",
        "plt.quiver(0, 0, 3, 3, angles='xy', scale_units='xy', scale=1, color='g') # quick way to plot vectors quiver(x_start, y_start, x_end, y_end)\n",
        "plt.xlim(-1, 4) # set x-axis range\n",
        "plt.ylim(-1, 4) # set y-axis range\n",
        "plt.grid(True) # enable grid\n",
        "plt.gca().set_aspect('equal') # set equal scaling on x and y axes\n",
        "plt.show()"
      ]
    },
    {
      "cell_type": "markdown",
      "metadata": {
        "id": "Da-cp0psoCMi"
      },
      "source": [
        "## Coordinate Systems in the Plane and Space\n",
        "\n",
        "**Cartesian Coordinate System** is the basic coordinate system in which points in space are specified by their distances from fixed axes: $x$, $y$ (for 2D) and $z$ (for 3D).\n",
        "\n",
        "- In 2D, each point can be written as $(x, y)$.\n",
        "- In 3D, points are of the form $(x, y, z)$.\n",
        "\n",
        "**Polar Coordinate System** is used in 2D and defines a point by its distance from the origin (r) and the angle (θ) relative to the reference axis.\n",
        "\n",
        "**Spherical Coordinate System** is used in 3D and defines a point by its distance from the origin (r), azimuth angle (θ), and elevation angle (φ).\n",
        "\n",
        "Vectors can be represented using components in the Cartesian coordinate system, where each component corresponds to the distance of the point from the respective coordinate axis.\n",
        "\n",
        "- For a vector in two-dimensional space: $\\mathbf{a} = [a_x, a_y] = a_x\\hat{\\mathbf{i}} + a_y\\hat{\\mathbf{j}}$\n",
        "- For a vector in three-dimensional space: $\\mathbf{a} = [a_x, a_y, a_z] = a_x\\hat{\\mathbf{i}} + a_y\\hat{\\mathbf{j}} + a_z\\hat{\\mathbf{k}}$\n",
        "\n",
        "## Basis\n",
        "\n",
        "**Basis** of vectors is a set of vectors that spans a vector space. In Cartesian space, the standard basis vectors are $\\hat{\\mathbf{i}}, \\hat{\\mathbf{j}}, \\hat{\\mathbf{k}}$.\n",
        "\n",
        "For 2D:\n",
        "\n",
        "$$\n",
        "\\hat{\\mathbf{i}} = [1, 0], \\quad \\hat{\\mathbf{j}} = [0, 1]\n",
        "$$\n",
        "\n",
        "For 3D:\n",
        "\n",
        "$$\n",
        "\\hat{\\mathbf{i}} = [1, 0, 0], \\quad \\hat{\\mathbf{j}} = [0, 1, 0], \\quad \\hat{\\mathbf{k}} = [0, 0, 1]\n",
        "$$\n",
        "\n",
        "These basis vectors are unit vectors and are perpendicular to each other.\n",
        "\n",
        "### Finding the Coordinates of a Vector in a New Basis\n",
        "\n",
        "To find the coordinates of vector $\\mathbf{v}$ in a new basis $\\{\\mathbf{b_1}, \\mathbf{b_2}, \\mathbf{b_3}\\}$, express $\\mathbf{v}$ as a linear combination of the basis vectors.\n",
        "\n",
        "$$\n",
        "\\mathbf{v} = c_1 \\mathbf{b_1} + c_2 \\mathbf{b_2} + c_3 \\mathbf{b_3}\n",
        "$$\n",
        "\n",
        "The coefficients $c_1, c_2, c_3$ are the coordinates of vector $\\mathbf{v}$ in the new basis.\n",
        "\n",
        "---\n",
        "\n",
        "## Student Exercises\n",
        "\n",
        "A. By what number should vector $\\mathbf{a} = [3, 4]$ be multiplied so that its length is equal to 1?\n",
        "\n",
        "B. Calculate the length of vector $\\mathbf{b} = [1, 1]$ and find the unit vector of this vector.\n",
        "\n",
        "C. Plot the vector and the unit vector from the previous exercise.\n",
        "\n",
        "D. Calculate the length of vector $\\mathbf{c} = [1, 2, 3]$ and find the unit vector of this vector.\n",
        "\n",
        "E. Find the Cartesian coordinates of vector $\\mathbf{v} = [2, 3, 4]$ in the basis $\\{\\mathbf{b_1} = [1, 0, 1], \\mathbf{b_2} = [0, 1, 0], \\mathbf{b_3} = [1, 0, -1]\\}$."
      ]
    },
    {
      "cell_type": "markdown",
      "source": [
        "#${A}$\n",
        "first of all, lets finde the length of its vector\n",
        "\n",
        "$\\vec{a}=(3,4)$\n",
        "\n",
        "$|a|^2=3^2+4^2\\implies \\; |a|=\\sqrt{3^2+4^2} \\implies \\; |a|=\\sqrt{25} \\implies \\; |a|=5$\n",
        "\n",
        "if we want the lenght of the $\\;\\vec{a}\\;$ be equal to 1, we should multiply it by $\\;\\frac{1}{5}$\n",
        "\n",
        "$|a|=\\frac{1}{5}\\cdot5=\\frac{5}{5}=1$"
      ],
      "metadata": {
        "id": "sKdMsvS5oKBd"
      }
    },
    {
      "cell_type": "markdown",
      "source": [
        "#$B$\n",
        "\n",
        "first of all, lets finde the length of its vector\n",
        "\n",
        "$\\vec{b}=(1,1)$\n",
        "\n",
        "$|b|^2=1^2+1^2\\;\\implies\\; |b|=\\sqrt{1^2+1^2}\\;\\implies\\; |b|=\\sqrt{2}$\n",
        "\n",
        "To find the unit vector of a vector, you need to divide the vector by its magnitude.\n",
        "\n",
        "$unit\\;\\vec{b}\\;(\\frac{1}{\\sqrt{2}},\\frac{1}{\\sqrt{2}})$"
      ],
      "metadata": {
        "id": "tTa4BfWvsees"
      }
    },
    {
      "cell_type": "markdown",
      "source": [
        "#${C}$\n",
        "\n",
        "![Снимок экрана 2024-11-17 в 18.54.56.png](data:image/png;base64,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)"
      ],
      "metadata": {
        "id": "6zeZ3cWODREe"
      }
    },
    {
      "cell_type": "markdown",
      "source": [
        "#$D$\n",
        "\n",
        "$\\vec{d}=(1,2,3)$\n",
        "\n",
        "$|d|^2=1^2+2^2+3^2\\;\\implies\\; |d|=\\sqrt{1^2+2^2+3^2}\\;\\implies\\; |d|=\\sqrt{14}$\n",
        "\n",
        "$unit\\;\\vec{d}\\;(\\frac{1}{\\sqrt{14}},\\frac{2}{\\sqrt{14}},\\frac{3}{\\sqrt{14}} )$"
      ],
      "metadata": {
        "id": "JKjuDTGywjDG"
      }
    },
    {
      "cell_type": "markdown",
      "source": [
        "#$E$\n",
        "\n",
        "$\\vec{v}(2,3,4)$\n",
        "\n",
        "first, we should write the system of liner equation acording to given matrix $\\begin{bmatrix} 1 & 0 & 1 \\\\ 0 & 1 & 0 \\\\ 1 & 0 & -1\\end{bmatrix}$\n",
        "\n",
        "it'll look like this:\n",
        "\n",
        "$\\begin{cases}x+z=2 \\\\ y=3 \\\\ x-z=4 \\end{cases}$\n",
        "\n",
        "then we need to solve it:\n",
        "\n",
        "$\\begin{cases}x+z=2 \\\\ y=3 \\\\ x-z=4 \\end{cases} \\qquad\\implies\\qquad\\begin{cases} x=2-z \\\\ y=3 \\\\ 2-z-z=4\\end{cases} \\qquad\\implies\\qquad\\begin{cases} x=2-z \\\\ y=3 \\\\ -2z=2\\end{cases} \\qquad\\implies\\qquad\\begin{cases}x=2-z \\\\ y=3 \\\\ z=-1\\end{cases} \\qquad\\implies\\qquad\\begin{cases}x=2-(-1) \\\\ y=3 \\\\ z=-1\\end{cases} \\qquad\\implies\\qquad\\begin{cases} x=3 \\\\ y=3 \\\\ z=-1 \\end{cases}$\n",
        "\n",
        "and finnaly, we need to put this numbers in uquation of $R^3$ vector:\n",
        "\n",
        "$v=3b_1+3b_2-b_3$"
      ],
      "metadata": {
        "id": "1EqYnJLryUfv"
      }
    }
  ],
  "metadata": {
    "kernelspec": {
      "display_name": ".venv",
      "language": "python",
      "name": "python3"
    },
    "language_info": {
      "codemirror_mode": {
        "name": "ipython",
        "version": 3
      },
      "file_extension": ".py",
      "mimetype": "text/x-python",
      "name": "python",
      "nbconvert_exporter": "python",
      "pygments_lexer": "ipython3",
      "version": "3.11.9"
    },
    "colab": {
      "provenance": []
    }
  },
  "nbformat": 4,
  "nbformat_minor": 0
}