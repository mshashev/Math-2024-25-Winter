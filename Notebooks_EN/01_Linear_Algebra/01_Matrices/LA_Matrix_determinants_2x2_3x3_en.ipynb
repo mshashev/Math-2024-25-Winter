{
  "cells": [
    {
      "cell_type": "markdown",
      "metadata": {
        "id": "cHHxdHQMWcu7"
      },
      "source": [
        "# Determinants of 2x2 and 3x3 matrices\n",
        "\n",
        "### Determinant of a 2x2 Matrix\n",
        "\n",
        "The general formula for the determinant of a 2x2 matrix, where the matrix looks as follows:\n",
        "\n",
        "$$\n",
        "\\mathbf{A} =\n",
        "\\begin{pmatrix}\n",
        "a_{11} & a_{12} \\\\\n",
        "a_{21} & a_{22}\n",
        "\\end{pmatrix}\n",
        "$$\n",
        "\n",
        "The determinant of a 2x2 matrix is calculated using the formula:\n",
        "\n",
        "$$\n",
        "\\text{det}(A) = a_{11} \\cdot a_{22} - a_{12} \\cdot a_{21}\n",
        "$$\n",
        "\n",
        "### Determinant of a 3x3 Matrix\n",
        "\n",
        "The general formula for the determinant of a 3x3 matrix, where the matrix looks as follows:\n",
        "\n",
        "$$\n",
        "\\mathbf{B} =\n",
        "\\begin{pmatrix}\n",
        "a_{11} & a_{12} & a_{13} \\\\\n",
        "a_{21} & a_{22} & a_{23} \\\\\n",
        "a_{31} & a_{32} & a_{33}\n",
        "\\end{pmatrix}\n",
        "$$\n",
        "\n",
        "The determinant of a 3x3 matrix can be calculated using Sarrus' rule or Laplace expansion. Here, we will use Sarrus' rule:\n",
        "\n",
        "$$\n",
        "\\text{det}(B) = a_{11} \\cdot a_{22} \\cdot a_{33} + a_{12} \\cdot a_{23} \\cdot a_{31} + a_{13} \\cdot a_{21} \\cdot a_{32}\n",
        "- a_{13} \\cdot a_{22} \\cdot a_{31} - a_{12} \\cdot a_{21} \\cdot a_{33} - a_{11} \\cdot a_{23} \\cdot a_{32}\n",
        "$$\n",
        "\n",
        "<img src=\"https://upload.wikimedia.org/wikipedia/commons/c/c0/Sarrus_rule1.svg\" alt=\"Image description\" width=\"300\" align=\"center\"/>\n",
        "\n",
        "Note: Sarrus' rule does not work for matrices larger than 3x3.\n",
        "\n",
        "### Calculating Determinants in Python using SymPy\n",
        "\n",
        "Now, using the SymPy library, we will calculate the determinants for 2x2 and 3x3 matrices."
      ]
    },
    {
      "cell_type": "code",
      "execution_count": null,
      "metadata": {
        "id": "hLfSXoCXWcvF",
        "outputId": "ebe61037-0dee-45c4-e25c-86c5f72941b3"
      },
      "outputs": [
        {
          "data": {
            "text/latex": [
              "$\\displaystyle \\left[\\begin{matrix}2 & 3\\\\1 & 4\\end{matrix}\\right]$"
            ],
            "text/plain": [
              "Matrix([\n",
              "[2, 3],\n",
              "[1, 4]])"
            ]
          },
          "execution_count": 1,
          "metadata": {},
          "output_type": "execute_result"
        }
      ],
      "source": [
        "import sympy as sp\n",
        "\n",
        "# Define the matrix\n",
        "A = sp.Matrix([[2, 3], [1, 4]])\n",
        "A # display the matrix"
      ]
    },
    {
      "cell_type": "code",
      "execution_count": null,
      "metadata": {
        "notebookRunGroups": {
          "groupValue": "2"
        },
        "id": "tncHLEy1WcvJ",
        "outputId": "ecf52594-6748-404b-b5be-89dfa9e78c63"
      },
      "outputs": [
        {
          "data": {
            "text/plain": [
              "True"
            ]
          },
          "execution_count": 2,
          "metadata": {},
          "output_type": "execute_result"
        }
      ],
      "source": [
        "# Verify the correctness of the calculations\n",
        "(2*4 - 3*1) == A.det()"
      ]
    },
    {
      "cell_type": "code",
      "source": [
        "import sympy as sp\n",
        "A = sp.Matrix([[2, 3], [1, 4]])\n",
        "(2*4 - 3*1) == A.det()"
      ],
      "metadata": {
        "colab": {
          "base_uri": "https://localhost:8080/"
        },
        "id": "lnE8O2OqWk25",
        "outputId": "dcfe804b-6a04-4809-f5c5-89d9449d6e5f"
      },
      "execution_count": null,
      "outputs": [
        {
          "output_type": "execute_result",
          "data": {
            "text/plain": [
              "True"
            ]
          },
          "metadata": {},
          "execution_count": 4
        }
      ]
    },
    {
      "cell_type": "code",
      "source": [
        "import sympy as sp\n",
        "B = sp.Matrix([[5,6],[7,8]])\n",
        "(5*8 - 7*6) ==B.det()"
      ],
      "metadata": {
        "colab": {
          "base_uri": "https://localhost:8080/"
        },
        "id": "VUaDFTAfXmp0",
        "outputId": "cf0c12e2-eb9b-4659-c1ab-76338f4dab50"
      },
      "execution_count": null,
      "outputs": [
        {
          "output_type": "execute_result",
          "data": {
            "text/plain": [
              "True"
            ]
          },
          "metadata": {},
          "execution_count": 5
        }
      ]
    },
    {
      "cell_type": "code",
      "source": [
        "import sympy as sp\n",
        "C = sp.Matrix([[-1,2],[3,0]])\n",
        "(-1*0 - 2*3) == C.det()"
      ],
      "metadata": {
        "colab": {
          "base_uri": "https://localhost:8080/"
        },
        "id": "8Ga9Ssp0X5Vc",
        "outputId": "61fee0d3-8c18-482f-bc89-01cfd60ae005"
      },
      "execution_count": null,
      "outputs": [
        {
          "output_type": "execute_result",
          "data": {
            "text/plain": [
              "True"
            ]
          },
          "metadata": {},
          "execution_count": 7
        }
      ]
    },
    {
      "cell_type": "code",
      "execution_count": null,
      "metadata": {
        "colab": {
          "base_uri": "https://localhost:8080/",
          "height": 78
        },
        "id": "z7H5DkUtWcvL",
        "outputId": "dad3c473-138d-49dd-ac5d-034409bf9d35"
      },
      "outputs": [
        {
          "output_type": "execute_result",
          "data": {
            "text/plain": [
              "Matrix([\n",
              "[2, 3, 1],\n",
              "[1, 4, 5],\n",
              "[3, 2, 1]])"
            ],
            "text/latex": "$\\displaystyle \\left[\\begin{matrix}2 & 3 & 1\\\\1 & 4 & 5\\\\3 & 2 & 1\\end{matrix}\\right]$"
          },
          "metadata": {},
          "execution_count": 8
        }
      ],
      "source": [
        "# 3x3 Matrix\n",
        "B = sp.Matrix([[2, 3, 1], [1, 4, 5], [3, 2, 1]])\n",
        "B"
      ]
    },
    {
      "cell_type": "code",
      "execution_count": null,
      "metadata": {
        "id": "NTKdspuhWcvM",
        "outputId": "0969987c-02f4-4faf-fd04-4c533e264d26"
      },
      "outputs": [
        {
          "data": {
            "text/plain": [
              "True"
            ]
          },
          "execution_count": 4,
          "metadata": {},
          "output_type": "execute_result"
        }
      ],
      "source": [
        "# Verify the correctness of the calculations\n",
        "(2*4*1 + 3*5*3 + 1*1*2 - 1*4*3 - 5*2*2 - 3*1*1) == B.det()"
      ]
    },
    {
      "cell_type": "code",
      "source": [
        "D = sp.Matrix([[1,0,2],[-1,3,1],[2,4,-2]])\n",
        "(1*3*-2) + (0*1*2) + (2*-1*4) - (2*3*2) - (0*-1*-2) - (1*1*4) == D.det()"
      ],
      "metadata": {
        "colab": {
          "base_uri": "https://localhost:8080/"
        },
        "id": "Dovmyjt4Y_8s",
        "outputId": "9a64a9b1-9a28-42c8-d221-50a342e69a4a"
      },
      "execution_count": null,
      "outputs": [
        {
          "output_type": "execute_result",
          "data": {
            "text/plain": [
              "True"
            ]
          },
          "metadata": {},
          "execution_count": 9
        }
      ]
    },
    {
      "cell_type": "code",
      "source": [
        "E = sp.Matrix([[3,1,-1],[0,2,4],[5,3,2]])\n",
        "(3*2*2) + (1*4*5) + (-1*0*3) - (-1*2*5) - (1*0*2) - (3*4*3) == E.det()"
      ],
      "metadata": {
        "colab": {
          "base_uri": "https://localhost:8080/"
        },
        "id": "qwdKNeTHaZ0B",
        "outputId": "1efae782-b176-4744-aa19-d6956f3444c0"
      },
      "execution_count": null,
      "outputs": [
        {
          "output_type": "execute_result",
          "data": {
            "text/plain": [
              "True"
            ]
          },
          "metadata": {},
          "execution_count": 11
        }
      ]
    },
    {
      "cell_type": "code",
      "source": [
        "F = sp.Matrix([[2,-3,1],[1,4,-2],[1,5,3]])\n",
        "(2*4*3) + (-3*-2*1) + (1*1*5) - (1*4*1) - (-3*1*3) - (2*-2*5) == F.det()"
      ],
      "metadata": {
        "colab": {
          "base_uri": "https://localhost:8080/"
        },
        "id": "MDu6bNxXcV-f",
        "outputId": "67c3d81c-b5d1-4082-e472-dbeff7c85233"
      },
      "execution_count": null,
      "outputs": [
        {
          "output_type": "execute_result",
          "data": {
            "text/plain": [
              "True"
            ]
          },
          "metadata": {},
          "execution_count": 13
        }
      ]
    },
    {
      "cell_type": "markdown",
      "metadata": {
        "id": "n-4-SjN5WcvN"
      },
      "source": [
        "---\n",
        "\n",
        "## Exercises for Students\n",
        "\n",
        "Calculate the determinants for the 2x2 and 3x3 matrices given below.\n",
        "\n",
        "1. 2x2 Matrices:\n",
        "\n",
        "$$\n",
        "\\mathbf{A} =\n",
        "\\begin{pmatrix}\n",
        "2 & 3 \\\\\n",
        "1 & 4\n",
        "\\end{pmatrix}\n",
        ", \\qquad\n",
        "\\mathbf{B} =\n",
        "\\begin{pmatrix}\n",
        "5 & 6 \\\\\n",
        "7 & 8\n",
        "\\end{pmatrix}\n",
        ", \\qquad\n",
        "\\mathbf{C} =\n",
        "\\begin{pmatrix}\n",
        "-1 & 2 \\\\\n",
        "3 & 0\n",
        "\\end{pmatrix}\n",
        "$$\n",
        "\n",
        "2. 3x3 Matrices:\n",
        "\n",
        "\n",
        "$$\n",
        "\\mathbf{D} =\n",
        "\\begin{pmatrix}\n",
        "1 & 0 & 2 \\\\\n",
        "-1 & 3 & 1 \\\\\n",
        "2 & 4 & -2\n",
        "\\end{pmatrix}\n",
        ", \\qquad\n",
        "\\mathbf{E} =\n",
        "\\begin{pmatrix}\n",
        "3 & 1 & -1 \\\\\n",
        "0 & 2 & 4 \\\\\n",
        "5 & 3 & 2\n",
        "\\end{pmatrix}\n",
        ", \\qquad\n",
        "\\mathbf{F} =\n",
        "\\begin{pmatrix}\n",
        "2 & -3 & 1 \\\\\n",
        "1 & 4 & -2 \\\\\n",
        "1 & 5 & 3\n",
        "\\end{pmatrix}\n",
        "$$"
      ]
    },
    {
      "cell_type": "markdown",
      "source": [],
      "metadata": {
        "id": "JEErwwZnbi1u"
      }
    },
    {
      "cell_type": "markdown",
      "source": [],
      "metadata": {
        "id": "W6DHfa7CbimL"
      }
    },
    {
      "cell_type": "markdown",
      "source": [
        "Calculate the determinants for the 2x2 and 3x3 matrices given below.\n",
        "\n",
        "1. 2x2 Matrices:\n",
        "\n",
        "$A =\\begin{pmatrix} 2 & 3 \\\\ 1 & 4 \\end{pmatrix}$\n",
        "\n",
        "$detA = (2\\cdot4)-(1\\cdot3) = 8 - 3 = 5$\n",
        "\n"
      ],
      "metadata": {
        "id": "ErQHObcFRiCg"
      }
    },
    {
      "cell_type": "code",
      "source": [
        "import sympy as sp\n",
        "A = sp.Matrix([[2, 3], [1, 4]])\n",
        "(2*4 - 3*1) == A.det()"
      ],
      "metadata": {
        "id": "lltP5-WuWeXa",
        "outputId": "8e460412-8130-4b3f-dcf1-a5a0a52d44f0",
        "colab": {
          "base_uri": "https://localhost:8080/"
        }
      },
      "execution_count": 1,
      "outputs": [
        {
          "output_type": "execute_result",
          "data": {
            "text/plain": [
              "True"
            ]
          },
          "metadata": {},
          "execution_count": 1
        }
      ]
    },
    {
      "cell_type": "markdown",
      "source": [
        "$B =\\begin{pmatrix}5 & 6 \\\\7 & 8\\end{pmatrix}$\n",
        "\n",
        "$detB = (5\\cdot8)-(7\\cdot6) = 40 - 42 = -2$"
      ],
      "metadata": {
        "id": "JWsLPjkZWUsw"
      }
    },
    {
      "cell_type": "code",
      "source": [
        "import sympy as sp\n",
        "B = sp.Matrix([[5,6],[7,8]])\n",
        "(5*8 - 7*6) ==B.det()"
      ],
      "metadata": {
        "id": "DQ2uAmUYWlxN",
        "outputId": "7e1a3d04-3def-4661-e9a1-6baf3730cf69",
        "colab": {
          "base_uri": "https://localhost:8080/"
        }
      },
      "execution_count": 2,
      "outputs": [
        {
          "output_type": "execute_result",
          "data": {
            "text/plain": [
              "True"
            ]
          },
          "metadata": {},
          "execution_count": 2
        }
      ]
    },
    {
      "cell_type": "markdown",
      "source": [
        "$C =\\begin{pmatrix}-1 & 2 \\\\ 3 & 0\\end{pmatrix}$\n",
        "\n",
        "$detC = (-1\\cdot0)-(3\\cdot2) = 0 - 6 = -6$"
      ],
      "metadata": {
        "id": "PwAn9gH9WYr4"
      }
    },
    {
      "cell_type": "code",
      "source": [
        "import sympy as sp\n",
        "C = sp.Matrix([[-1,2],[3,0]])\n",
        "(-1*0 - 2*3) == C.det()"
      ],
      "metadata": {
        "id": "y5-5FFk1WQbG",
        "outputId": "2f375c17-ea3a-45c7-8881-6465031d9255",
        "colab": {
          "base_uri": "https://localhost:8080/"
        }
      },
      "execution_count": 3,
      "outputs": [
        {
          "output_type": "execute_result",
          "data": {
            "text/plain": [
              "True"
            ]
          },
          "metadata": {},
          "execution_count": 3
        }
      ]
    },
    {
      "cell_type": "markdown",
      "source": [
        "2. 3x3 Matrices:\n",
        "\n",
        "\n",
        "$\\mathbf{D} =\\begin{pmatrix} 1 & 0 & 2 \\\\-1 & 3 & 1 \\\\2 & 4 & -2\\end{pmatrix}$\n",
        "\n",
        "$detD = 1\\cdot \\begin{pmatrix} 3 & 1 \\\\ 4 & -2 \\end{pmatrix} - 0 + 2\\cdot \\begin{pmatrix} -1 & 3 \\\\ 2 & 4 \\end{pmatrix} = 1\\cdot(3\\cdot-2)-(4\\cdot1) -0 + 2\\cdot(-1\\cdot4)-(2\\cdot3) = 1\\cdot (-6-4)-0+2\\cdot(-4-6)= -10 +2\\cdot-10 = 30$"
      ],
      "metadata": {
        "id": "M_1GrVTSTzLF"
      }
    },
    {
      "cell_type": "code",
      "source": [
        "D = sp.Matrix([[1,0,2],[-1,3,1],[2,4,-2]])\n",
        "(1*3*-2) + (0*1*2) + (2*-1*4) - (2*3*2) - (0*-1*-2) - (1*1*4) == D.det()"
      ],
      "metadata": {
        "id": "RQVOf9OhWvAN",
        "outputId": "b44c266c-5807-4d48-dda6-0d5101c39c15",
        "colab": {
          "base_uri": "https://localhost:8080/"
        }
      },
      "execution_count": 4,
      "outputs": [
        {
          "output_type": "execute_result",
          "data": {
            "text/plain": [
              "True"
            ]
          },
          "metadata": {},
          "execution_count": 4
        }
      ]
    },
    {
      "cell_type": "markdown",
      "source": [
        "$E =\\begin{pmatrix}3 & 1 & -1 \\\\0 & 2 & 4 \\\\5 & 3 & 2\\end{pmatrix}$\n",
        "\n",
        "$detE = 3\\cdot\\begin{pmatrix} 2 & 4\\\\ 3 & 2 \\end{pmatrix} - 1\\cdot\\begin{pmatrix} 0 & 4 \\\\ 3 & 2\\end{pmatrix} + -1 \\cdot\\begin{pmatrix} 0 & 2 \\\\ 5 & 3 \\end{pmatrix} = 3\\cdot(2\\cdot2)-(3\\cdot4) -1\\cdot(0\\cdot2)-(3\\cdot4) + -1\\cdot(0\\cdot3)-(5\\cdot2) = 3\\cdot(4-12) -1\\cdot(0-12) -1(0-10)= 3\\cdot-8 -1\\cdot-12 -1\\cdot-10= -24+12+10 = 6$"
      ],
      "metadata": {
        "id": "rAtPoNgYW3aW"
      }
    },
    {
      "cell_type": "code",
      "source": [
        "E = sp.Matrix([[3,1,-1],[0,2,4],[5,3,2]])\n",
        "(3*2*2) + (1*4*5) + (-1*0*3) - (-1*2*5) - (1*0*2) - (3*4*3) == E.det()"
      ],
      "metadata": {
        "id": "L9oig1p2bmKV",
        "outputId": "7b249c7e-797a-452d-d41e-c11d6560a197",
        "colab": {
          "base_uri": "https://localhost:8080/"
        }
      },
      "execution_count": 5,
      "outputs": [
        {
          "output_type": "execute_result",
          "data": {
            "text/plain": [
              "True"
            ]
          },
          "metadata": {},
          "execution_count": 5
        }
      ]
    },
    {
      "cell_type": "markdown",
      "source": [
        "$F =\\begin{pmatrix}2 & -3 & 1 \\\\1 & 4 & -2 \\\\1 & 5 & 3\\end{pmatrix}$\n",
        "\n",
        "$detF = 2\\cdot\\begin{pmatrix} 4 & -2 \\\\ 5 & 3 \\end{pmatrix} + 3\\cdot\\begin{pmatrix} 1 & -2 \\\\ 1 & 3 \\end{pmatrix} + 1 \\cdot\\begin {pmatrix} 1 & 4 \\\\ 1 & 5 \\end{pmatrix} = 2\\cdot(12+10)+ 3\\cdot(3+2) +1\\cdot(5-4)= 44+15+1=60$"
      ],
      "metadata": {
        "id": "nyd0NmpQbmra"
      }
    },
    {
      "cell_type": "code",
      "source": [
        "F = sp.Matrix([[2,-3,1],[1,4,-2],[1,5,3]])\n",
        "(2*4*3) + (-3*-2*1) + (1*1*5) - (1*4*1) - (-3*1*3) - (2*-2*5) == F.det()"
      ],
      "metadata": {
        "id": "xvPd3fTddzo7",
        "outputId": "b7aab92a-4083-423a-98dd-c459fc243cf1",
        "colab": {
          "base_uri": "https://localhost:8080/"
        }
      },
      "execution_count": 6,
      "outputs": [
        {
          "output_type": "execute_result",
          "data": {
            "text/plain": [
              "True"
            ]
          },
          "metadata": {},
          "execution_count": 6
        }
      ]
    }
  ],
  "metadata": {
    "kernelspec": {
      "display_name": "Python 3",
      "language": "python",
      "name": "python3"
    },
    "language_info": {
      "codemirror_mode": {
        "name": "ipython",
        "version": 3
      },
      "file_extension": ".py",
      "mimetype": "text/x-python",
      "name": "python",
      "nbconvert_exporter": "python",
      "pygments_lexer": "ipython3",
      "version": "3.11.9"
    },
    "colab": {
      "provenance": []
    }
  },
  "nbformat": 4,
  "nbformat_minor": 0
}