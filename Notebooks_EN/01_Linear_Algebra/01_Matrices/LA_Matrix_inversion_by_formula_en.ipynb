{
  "cells": [
    {
      "cell_type": "markdown",
      "metadata": {
        "id": "dBFGr4oNEGUl"
      },
      "source": [
        "# Matrix Inversion\n",
        "\n",
        "The inverse of a matrix $A$ is a matrix $A^{-1}$ such that $A \\cdot A^{-1} = A^{-1} \\cdot A = I$, where $I$ is the identity matrix.\n",
        "\n",
        "**Example 1:**"
      ]
    },
    {
      "cell_type": "code",
      "execution_count": null,
      "metadata": {
        "id": "AO-s4BxHEGUs",
        "outputId": "0c176db8-372a-47a8-b8d8-50fa9cc6b0b6"
      },
      "outputs": [
        {
          "data": {
            "text/latex": [
              "$\\displaystyle \\left[\\begin{matrix}2 & 1 & 2\\\\5 & 3 & 1\\\\1 & 1 & 5\\end{matrix}\\right]$"
            ],
            "text/plain": [
              "Matrix([\n",
              "[2, 1, 2],\n",
              "[5, 3, 1],\n",
              "[1, 1, 5]])"
            ]
          },
          "execution_count": 1,
          "metadata": {},
          "output_type": "execute_result"
        }
      ],
      "source": [
        "import sympy as sp # import sympy library\n",
        "k1 = sp.Matrix([[2, 1, 2], [5, 3, 1], [1, 1, 5]]) # create matrix k1\n",
        "k1"
      ]
    },
    {
      "cell_type": "code",
      "execution_count": null,
      "metadata": {
        "id": "yQTfBISKEGUx",
        "outputId": "07890d6a-05e5-4992-cd1d-1056d0e6b4ab"
      },
      "outputs": [
        {
          "data": {
            "text/latex": [
              "$\\displaystyle \\left[\\begin{matrix}\\frac{7}{4} & - \\frac{3}{8} & - \\frac{5}{8}\\\\-3 & 1 & 1\\\\\\frac{1}{4} & - \\frac{1}{8} & \\frac{1}{8}\\end{matrix}\\right]$"
            ],
            "text/plain": [
              "Matrix([\n",
              "[7/4, -3/8, -5/8],\n",
              "[ -3,    1,    1],\n",
              "[1/4, -1/8,  1/8]])"
            ]
          },
          "execution_count": 2,
          "metadata": {},
          "output_type": "execute_result"
        }
      ],
      "source": [
        "inverse_k1 = k1.inv() # calculate the inverse of matrix k1\n",
        "inverse_k1"
      ]
    },
    {
      "cell_type": "code",
      "execution_count": null,
      "metadata": {
        "id": "C91GsRniEGUz",
        "outputId": "b1109ae2-f059-480d-c404-473abda619aa"
      },
      "outputs": [
        {
          "data": {
            "text/latex": [
              "$\\displaystyle \\left[\\begin{matrix}1 & 0 & 0\\\\0 & 1 & 0\\\\0 & 0 & 1\\end{matrix}\\right]$"
            ],
            "text/plain": [
              "Matrix([\n",
              "[1, 0, 0],\n",
              "[0, 1, 0],\n",
              "[0, 0, 1]])"
            ]
          },
          "execution_count": 3,
          "metadata": {},
          "output_type": "execute_result"
        }
      ],
      "source": [
        "k1 * inverse_k1 # verify if multiplying the matrix by its inverse yields the identity matrix"
      ]
    },
    {
      "cell_type": "markdown",
      "metadata": {
        "id": "7RvPr28UEGU0"
      },
      "source": [
        "**Example 2:**"
      ]
    },
    {
      "cell_type": "code",
      "execution_count": null,
      "metadata": {
        "id": "pn7-gv1REGU0",
        "outputId": "c4c9396f-34de-4d1a-df60-86fbed146801"
      },
      "outputs": [
        {
          "data": {
            "text/latex": [
              "$\\displaystyle \\left[\\begin{matrix}\\frac{e i - f h}{a e i - a f h - b d i + b f g + c d h - c e g} & \\frac{- b i + c h}{a e i - a f h - b d i + b f g + c d h - c e g} & \\frac{b f - c e}{a e i - a f h - b d i + b f g + c d h - c e g}\\\\\\frac{- d i + f g}{a e i - a f h - b d i + b f g + c d h - c e g} & \\frac{a i - c g}{a e i - a f h - b d i + b f g + c d h - c e g} & \\frac{- a f + c d}{a e i - a f h - b d i + b f g + c d h - c e g}\\\\\\frac{d h - e g}{a e i - a f h - b d i + b f g + c d h - c e g} & \\frac{- a h + b g}{a e i - a f h - b d i + b f g + c d h - c e g} & \\frac{a e - b d}{a e i - a f h - b d i + b f g + c d h - c e g}\\end{matrix}\\right]$"
            ],
            "text/plain": [
              "Matrix([\n",
              "[ (e*i - f*h)/(a*e*i - a*f*h - b*d*i + b*f*g + c*d*h - c*e*g), (-b*i + c*h)/(a*e*i - a*f*h - b*d*i + b*f*g + c*d*h - c*e*g),  (b*f - c*e)/(a*e*i - a*f*h - b*d*i + b*f*g + c*d*h - c*e*g)],\n",
              "[(-d*i + f*g)/(a*e*i - a*f*h - b*d*i + b*f*g + c*d*h - c*e*g),  (a*i - c*g)/(a*e*i - a*f*h - b*d*i + b*f*g + c*d*h - c*e*g), (-a*f + c*d)/(a*e*i - a*f*h - b*d*i + b*f*g + c*d*h - c*e*g)],\n",
              "[ (d*h - e*g)/(a*e*i - a*f*h - b*d*i + b*f*g + c*d*h - c*e*g), (-a*h + b*g)/(a*e*i - a*f*h - b*d*i + b*f*g + c*d*h - c*e*g),  (a*e - b*d)/(a*e*i - a*f*h - b*d*i + b*f*g + c*d*h - c*e*g)]])"
            ]
          },
          "execution_count": 4,
          "metadata": {},
          "output_type": "execute_result"
        }
      ],
      "source": [
        "import sympy as sp\n",
        "a, b, c, d, e, f, g, h, i = sp.symbols('a b c d e f g h i') # define variables a-i\n",
        "k = sp.Matrix([[a, b, c], [d, e, f], [g, h, i]]) # create matrix k\n",
        "inverse_k = k.inv()\n",
        "inverse_k"
      ]
    },
    {
      "cell_type": "markdown",
      "metadata": {
        "id": "DEXW6be_EGU2"
      },
      "source": [
        "This complex form results from the formula that allows for the calculation of the elements of the inverse matrix. Before we proceed, let's define a few concepts.\n",
        "\n",
        "**Matrix Transposition** is an operation that swaps rows with columns. The transpose of a matrix $A$ is a matrix $A^T$ such that $A^T_{ij} = A_{ji}$."
      ]
    },
    {
      "cell_type": "code",
      "execution_count": null,
      "metadata": {
        "id": "1E9QsgTqEGU3",
        "outputId": "ebec30b9-8038-444a-9abd-09511f1db3fb"
      },
      "outputs": [
        {
          "data": {
            "text/latex": [
              "$\\displaystyle \\left[\\begin{matrix}a & b & c\\\\d & e & f\\\\g & h & i\\end{matrix}\\right]$"
            ],
            "text/plain": [
              "Matrix([\n",
              "[a, b, c],\n",
              "[d, e, f],\n",
              "[g, h, i]])"
            ]
          },
          "execution_count": 5,
          "metadata": {},
          "output_type": "execute_result"
        }
      ],
      "source": [
        "k"
      ]
    },
    {
      "cell_type": "code",
      "execution_count": null,
      "metadata": {
        "id": "tswJKChXEGU4",
        "outputId": "a0de728c-6acd-40f8-e4b0-ec12c8ecaa20"
      },
      "outputs": [
        {
          "data": {
            "text/latex": [
              "$\\displaystyle \\left[\\begin{matrix}a & d & g\\\\b & e & h\\\\c & f & i\\end{matrix}\\right]$"
            ],
            "text/plain": [
              "Matrix([\n",
              "[a, d, g],\n",
              "[b, e, h],\n",
              "[c, f, i]])"
            ]
          },
          "execution_count": 6,
          "metadata": {},
          "output_type": "execute_result"
        }
      ],
      "source": [
        "k.transpose() # transpose matrix k"
      ]
    },
    {
      "cell_type": "markdown",
      "metadata": {
        "id": "iRmMrTwWEGU5"
      },
      "source": [
        "**Minor** of a matrix $A$ is the determinant of the matrix obtained by removing the $i$-th row and $j$-th column. We denote it by $M_{ij}$."
      ]
    },
    {
      "cell_type": "code",
      "execution_count": null,
      "metadata": {
        "id": "5Bq06NzrEGU5",
        "outputId": "d06b49c8-0e1c-4cca-b472-4d326cc2a1a7"
      },
      "outputs": [
        {
          "data": {
            "text/latex": [
              "$\\displaystyle \\left[\\begin{matrix}1 & 2 & 3\\\\4 & 5 & 6\\\\7 & 8 & 9\\end{matrix}\\right]$"
            ],
            "text/plain": [
              "Matrix([\n",
              "[1, 2, 3],\n",
              "[4, 5, 6],\n",
              "[7, 8, 9]])"
            ]
          },
          "execution_count": 7,
          "metadata": {},
          "output_type": "execute_result"
        }
      ],
      "source": [
        "# Minor of matrix $A$ is the determinant of the matrix obtained by removing the $i$-th row and $j$-th column. We denote it by $M_{ij}$.\n",
        "k2 = sp.Matrix([[1, 2, 3], [4, 5, 6], [7, 8, 9]])\n",
        "k2"
      ]
    },
    {
      "cell_type": "code",
      "execution_count": null,
      "metadata": {
        "id": "bS8KLp6-EGU7",
        "outputId": "4bdec283-dea0-433e-b6d0-3ba4651abb81"
      },
      "outputs": [
        {
          "data": {
            "text/latex": [
              "$\\displaystyle \\left[\\begin{matrix}4 & 6\\\\7 & 9\\end{matrix}\\right]$"
            ],
            "text/plain": [
              "Matrix([\n",
              "[4, 6],\n",
              "[7, 9]])"
            ]
          },
          "execution_count": 8,
          "metadata": {},
          "output_type": "execute_result"
        }
      ],
      "source": [
        "M01 = k2.minor_submatrix(0, 1) # calculate minor M01\n",
        "M01"
      ]
    },
    {
      "cell_type": "code",
      "execution_count": null,
      "metadata": {
        "id": "3G-G6RdCEGU8",
        "outputId": "17c1c9c8-b82a-4e7e-96ce-e736e68426e9"
      },
      "outputs": [
        {
          "data": {
            "text/latex": [
              "$\\displaystyle \\left[\\begin{matrix}1 & 2\\\\4 & 5\\end{matrix}\\right]$"
            ],
            "text/plain": [
              "Matrix([\n",
              "[1, 2],\n",
              "[4, 5]])"
            ]
          },
          "execution_count": 9,
          "metadata": {},
          "output_type": "execute_result"
        }
      ],
      "source": [
        "M22 = k2.minor_submatrix(2, 2) # calculate minor M22\n",
        "M22"
      ]
    },
    {
      "cell_type": "code",
      "source": [
        "import sympy as sp\n",
        "k2 = sp.Matrix([[4, -3, 7],\n",
        "               [-1, 6, 3],\n",
        "               [2, 9, 1]])\n",
        "k2.transpose()\n",
        "M01 = k2.minor_submatrix(0, 1)\n",
        "M01\n",
        "M22 = k2.minor_submatrix(2, 2)\n",
        "M22"
      ],
      "metadata": {
        "id": "leCjrBfJJ2Hu",
        "outputId": "b53227eb-1b0f-4003-998f-d7737fc0ebbb",
        "colab": {
          "base_uri": "https://localhost:8080/",
          "height": 58
        }
      },
      "execution_count": null,
      "outputs": [
        {
          "output_type": "execute_result",
          "data": {
            "text/plain": [
              "Matrix([\n",
              "[ 4, -3],\n",
              "[-1,  6]])"
            ],
            "text/latex": "$\\displaystyle \\left[\\begin{matrix}4 & -3\\\\-1 & 6\\end{matrix}\\right]$"
          },
          "metadata": {},
          "execution_count": 18
        }
      ]
    },
    {
      "cell_type": "markdown",
      "metadata": {
        "id": "Mqz6E4inEGU-"
      },
      "source": [
        "**Cofactor** of element $a_{ij} = (-1)^{i+j} \\, M_{ij}$, which is the minor multiplied by $(-1)^{i+j}$.\n",
        "\n",
        "**Rank of a Matrix** is the largest degree of a non-zero minor of the matrix. The rank of a matrix is equal to the number of linearly independent rows or columns in the matrix."
      ]
    },
    {
      "cell_type": "code",
      "execution_count": null,
      "metadata": {
        "id": "U5rvbqFiEGU_",
        "outputId": "7294321a-832b-495f-fea3-2c5e920d30a1"
      },
      "outputs": [
        {
          "data": {
            "text/plain": [
              "2"
            ]
          },
          "execution_count": 10,
          "metadata": {},
          "output_type": "execute_result"
        }
      ],
      "source": [
        "k2.rank() # calculate the rank of matrix k2"
      ]
    },
    {
      "cell_type": "markdown",
      "metadata": {
        "id": "6ocD1nc1EGVB"
      },
      "source": [
        "### Inverse of a 3x3 Matrix\n",
        "\n",
        "Using the transpose of the cofactor matrix (minors):\n",
        "\n",
        "$$K^{-1} =\n",
        "\\begin{bmatrix}\n",
        "a & b & c \\\\\n",
        "d & e & f \\\\\n",
        "g & h & i\n",
        "\\end{bmatrix}^{-1}\n",
        "= \\frac{1}{\\det(\\mathbf{K})}\n",
        "\\begin{bmatrix}\n",
        "A & B & C \\\\\n",
        "D & E & F \\\\\n",
        "G & H & I\n",
        "\\end{bmatrix}^T\n",
        "= \\frac{1}{\\det(\\mathbf{A})}\n",
        "\\begin{bmatrix}\n",
        "A & D & G \\\\\n",
        "B & E & H \\\\\n",
        "C & F & I\n",
        "\\end{bmatrix}\n",
        "$$\n",
        "\n",
        "If the determinant is non-zero, the matrix is invertible, and the elements of the intermediate matrix on the right-hand side of the above formula are determined by:\n",
        "\n",
        "$$\n",
        "\\begin{aligned}\n",
        "A &= \\text{det} \\left( \\begin{bmatrix} e & f \\\\ h & i \\end{bmatrix} \\right) & B &= -\\text{det} \\left( \\begin{bmatrix} d & f \\\\ g & i \\end{bmatrix} \\right) & C &= \\text{det} \\left( \\begin{bmatrix} d & e \\\\ g & h \\end{bmatrix} \\right) \\\\\n",
        "D &= -\\text{det} \\left( \\begin{bmatrix} b & c \\\\ h & i \\end{bmatrix} \\right) & E &= \\text{det} \\left( \\begin{bmatrix} a & c \\\\ g & i \\end{bmatrix} \\right) & F &= -\\text{det} \\left( \\begin{bmatrix} a & b \\\\ g & h \\end{bmatrix} \\right) \\\\\n",
        "G &= \\text{det} \\left( \\begin{bmatrix} b & c \\\\ e & f \\end{bmatrix} \\right) & H &= -\\text{det} \\left( \\begin{bmatrix} a & c \\\\ d & f \\end{bmatrix} \\right) & I &= \\text{det} \\left( \\begin{bmatrix} a & b \\\\ d & e \\end{bmatrix} \\right)\n",
        "\\end{aligned}\n",
        "$$\n",
        "\n",
        "These are the determinants of 2x2 matrices formed by removing the appropriate rows and columns and taking into account the sign $(-1)^{i+j}$.\n",
        "\n",
        "### Inverse of a 2x2 Matrix\n",
        "\n",
        "Similarly, for a 2x2 matrix, the inverse can be calculated using the cofactor matrix:\n",
        "\n",
        "$$\n",
        "\\mathbf{L}^{-1} =\n",
        "\\begin{bmatrix}\n",
        "a & b \\\\\n",
        "c & d\n",
        "\\end{bmatrix}^{-1}\n",
        "= \\frac{1}{\\det(\\mathbf{L})}\n",
        "\\begin{bmatrix}\n",
        "D & C \\\\\n",
        "B & A\n",
        "\\end{bmatrix}^T\n",
        "= \\frac{1}{\\det(\\mathbf{L})}\n",
        "\\begin{bmatrix}\n",
        "D & B \\\\\n",
        "C & A\n",
        "\\end{bmatrix}\n",
        "$$\n",
        "\n",
        "where $\\det(\\mathbf{L}) = ad - bc$\n",
        "\n",
        "If the determinant is non-zero, the matrix is invertible, and the elements of the intermediate matrix are given as:\n",
        "\n",
        "$$\n",
        "\\begin{aligned}\n",
        "A &= \\text{det} \\begin{bmatrix} d \\end{bmatrix} = d, & B &= -\\text{det} \\begin{bmatrix} b \\end{bmatrix} = -b, & C &= -\\text{det} \\begin{bmatrix} c \\end{bmatrix} = -c, &\n",
        "D &= \\text{det} \\begin{bmatrix} a \\end{bmatrix} = a.\n",
        "\\end{aligned}\n",
        "$$\n",
        "\n",
        "These elements are determined by calculating the determinants of 1x1 matrices formed by removing the appropriate rows and columns from the original 2x2 matrix and applying the corresponding signs $(-1)^{i+j}$."
      ]
    },
    {
      "cell_type": "markdown",
      "metadata": {
        "id": "EniF-83iEGVD"
      },
      "source": [
        "---\n",
        "\n",
        "## Exercises for Students\n",
        "\n",
        "1. Find the inverse matrix for\n",
        "\n",
        "$$\n",
        "\\begin{bmatrix}\n",
        "2 & 0 & 1 \\\\\n",
        "0 & 1 & 0 \\\\\n",
        "1 & 2 & 0\n",
        "\\end{bmatrix}\n",
        "$$\n",
        "\n",
        "and verify if the result is correct.\n",
        "\n",
        "2. Using the `det()` command, determine the rank of the matrix below\n",
        "$$\n",
        "A =\n",
        "\\begin{bmatrix}\n",
        "4 & -3 & 7 \\\\\n",
        "-1 & 6 & 3 \\\\\n",
        "2 & 9 & 1\n",
        "\\end{bmatrix}\n",
        "$$"
      ]
    },
    {
      "cell_type": "markdown",
      "source": [
        "1)"
      ],
      "metadata": {
        "id": "uYGt5ExLM7dP"
      }
    },
    {
      "cell_type": "markdown",
      "source": [
        "$A = \\begin{bmatrix} 2 & 0 & 1 \\\\ 0 & 1 & 0 \\\\ 1 & 2 & 0 \\end{bmatrix}$\n",
        "\n",
        "$A^{-1} =  \\begin {bmatrix} +\\begin {pmatrix} 1 & 0 \\\\ 2 & 0 \\end {pmatrix} & -\\begin{pmatrix} 0 & 0 \\\\ 1 & 0 \\end{pmatrix} & +\\begin{pmatrix} 0 & 1 \\\\ 1 & 2 \\end{pmatrix} \\\\ -\\begin {pmatrix} 0 & 1 \\\\ 2 & 0 \\end{pmatrix} & +\\begin{pmatrix} 2 & 1 \\\\ 1 & 0 \\end{pmatrix} & -\\begin {pmatrix} 2 & 0 \\\\ 1 & 2 \\end {pmatrix} \\\\ +\\begin {pmatrix} 0 & 1 \\\\ 1 & 0 \\end {pmatrix} & -\\begin {pmatrix} 2 & 1 \\\\ 0 & 0 \\end {pmatrix} & +\\begin {pmatrix} 2 & 0 \\\\ 0 & 1 \\end{pmatrix} \\end{bmatrix}= \\begin{bmatrix} 0 & 0 & -1 \\\\ 2 & -1 & -4 \\\\ -1 & 0 & 2\\end{bmatrix} = \\begin{bmatrix} 0 & 2 & -1 \\\\ 0 & -1 & 0 \\\\ -1 & -4 & 2 \\end{bmatrix} \\cdot (-1) = \\begin{bmatrix} 0 & -2 & 1 \\\\ 0 & 1 & 0 \\\\ 1 & 4 & -2 \\end{bmatrix}$"
      ],
      "metadata": {
        "id": "LZ7Ey2rGK_IQ"
      }
    },
    {
      "cell_type": "code",
      "source": [
        "import sympy as sp\n",
        "k1 = sp.Matrix([[2, 0, 1],\n",
        "               [0, 1, 0],\n",
        "               [1, 2, 0]])\n",
        "print(\"Matrix k1:\")\n",
        "\n",
        "\n",
        "sp.pretty_print(k1)\n",
        "inverse_k1 = k1.inv()\n",
        "inverse_k1"
      ],
      "metadata": {
        "id": "kgELDm73EOpB",
        "outputId": "4e19076e-e411-4611-de1a-782db2fc03e8",
        "colab": {
          "base_uri": "https://localhost:8080/",
          "height": 180
        }
      },
      "execution_count": null,
      "outputs": [
        {
          "output_type": "stream",
          "name": "stdout",
          "text": [
            "Matrix k1:\n",
            "⎡2  0  1⎤\n",
            "⎢       ⎥\n",
            "⎢0  1  0⎥\n",
            "⎢       ⎥\n",
            "⎣1  2  0⎦\n"
          ]
        },
        {
          "output_type": "execute_result",
          "data": {
            "text/plain": [
              "Matrix([\n",
              "[0, -2,  1],\n",
              "[0,  1,  0],\n",
              "[1,  4, -2]])"
            ],
            "text/latex": "$\\displaystyle \\left[\\begin{matrix}0 & -2 & 1\\\\0 & 1 & 0\\\\1 & 4 & -2\\end{matrix}\\right]$"
          },
          "metadata": {},
          "execution_count": 11
        }
      ]
    },
    {
      "cell_type": "markdown",
      "source": [
        "2)"
      ],
      "metadata": {
        "id": "9xrJPDX5M9FG"
      }
    },
    {
      "cell_type": "code",
      "source": [
        "import sympy as sp\n",
        "k2 = sp.Matrix([[4, -3, 7],\n",
        "               [-1, 6, 3],\n",
        "               [2, 9, 1]])\n",
        "k2.rank()"
      ],
      "metadata": {
        "id": "mi1zQgBdM99G",
        "outputId": "022e5a17-02ab-4836-b061-5fb8bc27782e",
        "colab": {
          "base_uri": "https://localhost:8080/"
        }
      },
      "execution_count": null,
      "outputs": [
        {
          "output_type": "execute_result",
          "data": {
            "text/plain": [
              "3"
            ]
          },
          "metadata": {},
          "execution_count": 20
        }
      ]
    }
  ],
  "metadata": {
    "kernelspec": {
      "display_name": "Python 3",
      "language": "python",
      "name": "python3"
    },
    "language_info": {
      "codemirror_mode": {
        "name": "ipython",
        "version": 3
      },
      "file_extension": ".py",
      "mimetype": "text/x-python",
      "name": "python",
      "nbconvert_exporter": "python",
      "pygments_lexer": "ipython3",
      "version": "3.11.9"
    },
    "colab": {
      "provenance": []
    }
  },
  "nbformat": 4,
  "nbformat_minor": 0
}