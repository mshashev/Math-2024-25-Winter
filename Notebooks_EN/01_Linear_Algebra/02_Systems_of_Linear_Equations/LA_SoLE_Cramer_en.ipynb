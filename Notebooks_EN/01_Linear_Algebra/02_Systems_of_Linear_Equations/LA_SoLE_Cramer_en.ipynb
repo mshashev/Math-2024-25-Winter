{
  "cells": [
    {
      "cell_type": "markdown",
      "metadata": {
        "id": "mMngqVfWbTnn"
      },
      "source": [
        "# Cramer's Rule - Examples for 2x2, 3x3, and 4x4 Systems\n",
        "\n",
        "Cramer's rule is used only when the number of equations is equal to the number of unknowns. In other words, the coefficient matrix must be a square matrix.\n",
        "\n",
        "**These formulas are used only** when the **determinant** of the coefficient matrix is **non-zero**. Otherwise, the system of equations is either inconsistent or indeterminate.\n",
        "\n",
        "## 2x2 System of Equations\n",
        "\n",
        "Consider a system of two equations with two unknowns:\n",
        "\n",
        "$$\n",
        "\\begin{cases}\n",
        "a_{11}x_1 + a_{12}x_2 = b_1 \\\\\n",
        "a_{21}x_1 + a_{22}x_2 = b_2\n",
        "\\end{cases}\n",
        "$$\n",
        "\n",
        "Cramer's rule for the unknowns $ x_1 $ and $ x_2 $ is as follows:\n",
        "\n",
        "$$\n",
        "x_1 = \\frac{\\det(A_1)}{\\det(A)} \\quad \\text{and} \\quad x_2 = \\frac{\\det(A_2)}{\\det(A)}\n",
        "$$\n",
        "\n",
        "Where:\n",
        "\n",
        "$$\n",
        "\\det(A) =\n",
        "\\begin{vmatrix}\n",
        "a_{11} & a_{12} \\\\\n",
        "a_{21} & a_{22}\n",
        "\\end{vmatrix}\n",
        "= a_{11}a_{22} - a_{12}a_{21}\n",
        "$$\n",
        "\n",
        "$$\n",
        "\\det(A_1) =\n",
        "\\begin{vmatrix}\n",
        "b_1 & a_{12} \\\\\n",
        "b_2 & a_{22}\n",
        "\\end{vmatrix}\n",
        "= b_1a_{22} - a_{12}b_2\n",
        "$$\n",
        "\n",
        "$$\n",
        "\\det(A_2) =\n",
        "\\begin{vmatrix}\n",
        "a_{11} & b_1 \\\\\n",
        "a_{21} & b_2\n",
        "\\end{vmatrix}\n",
        "= a_{11}b_2 - b_1a_{21}\n",
        "$$\n",
        "\n",
        "## 3x3 System of Equations\n",
        "\n",
        "Consider a system of three equations with three unknowns:\n",
        "\n",
        "$$\n",
        "\\begin{cases}\n",
        "a_{11}x_1 + a_{12}x_2 + a_{13}x_3 = b_1 \\\\\n",
        "a_{21}x_1 + a_{22}x_2 + a_{23}x_3 = b_2 \\\\\n",
        "a_{31}x_1 + a_{32}x_2 + a_{33}x_3 = b_3\n",
        "\\end{cases}\n",
        "$$\n",
        "\n",
        "Cramer's rule for $ x_1 $, $ x_2 $, and $ x_3 $:\n",
        "\n",
        "$$\n",
        "x_1 = \\frac{\\det(A_1)}{\\det(A)} \\quad x_2 = \\frac{\\det(A_2)}{\\det(A)} \\quad x_3 = \\frac{\\det(A_3)}{\\det(A)}\n",
        "$$\n",
        "\n",
        "Where:\n",
        "\n",
        "$$\n",
        "\\det(A) =\n",
        "\\begin{vmatrix}\n",
        "a_{11} & a_{12} & a_{13} \\\\\n",
        "a_{21} & a_{22} & a_{23} \\\\\n",
        "a_{31} & a_{32} & a_{33}\n",
        "\\end{vmatrix}\n",
        "$$\n",
        "\n",
        "$$\n",
        "\\det(A_1) =\n",
        "\\begin{vmatrix}\n",
        "b_1 & a_{12} & a_{13} \\\\\n",
        "b_2 & a_{22} & a_{23} \\\\\n",
        "b_3 & a_{32} & a_{33}\n",
        "\\end{vmatrix}\n",
        "$$\n",
        "\n",
        "$$\n",
        "\\det(A_2) =\n",
        "\\begin{vmatrix}\n",
        "a_{11} & b_1 & a_{13} \\\\\n",
        "a_{21} & b_2 & a_{23} \\\\\n",
        "a_{31} & b_3 & a_{33}\n",
        "\\end{vmatrix}\n",
        "$$\n",
        "\n",
        "$$\n",
        "\\det(A_3) =\n",
        "\\begin{vmatrix}\n",
        "a_{11} & a_{12} & b_1 \\\\\n",
        "a_{21} & a_{22} & b_2 \\\\\n",
        "a_{31} & a_{32} & b_3\n",
        "\\end{vmatrix}\n",
        "$$\n",
        "\n",
        "## 4x4 System of Equations\n",
        "\n",
        "Consider a system of four equations with four unknowns:\n",
        "\n",
        "$$\n",
        "\\begin{cases}\n",
        "a_{11}x_1 + a_{12}x_2 + a_{13}x_3 + a_{14}x_4 = b_1 \\\\\n",
        "a_{21}x_1 + a_{22}x_2 + a_{23}x_3 + a_{24}x_4 = b_2 \\\\\n",
        "a_{31}x_1 + a_{32}x_2 + a_{33}x_3 + a_{34}x_4 = b_3 \\\\\n",
        "a_{41}x_1 + a_{42}x_2 + a_{43}x_3 + a_{44}x_4 = b_4\n",
        "\\end{cases}\n",
        "$$\n",
        "\n",
        "Cramer's rule for $ x_1 $, $ x_2 $, $ x_3 $, and $ x_4 $:\n",
        "\n",
        "$$\n",
        "x_1 = \\frac{\\det(A_1)}{\\det(A)} \\quad x_2 = \\frac{\\det(A_2)}{\\det(A)} \\quad x_3 = \\frac{\\det(A_3)}{\\det(A)} \\quad x_4 = \\frac{\\det(A_4)}{\\det(A)}\n",
        "$$\n",
        "\n",
        "Where:\n",
        "\n",
        "$$\n",
        "\\det(A) =\n",
        "\\begin{vmatrix}\n",
        "a_{11} & a_{12} & a_{13} & a_{14} \\\\\n",
        "a_{21} & a_{22} & a_{23} & a_{24} \\\\\n",
        "a_{31} & a_{32} & a_{33} & a_{34} \\\\\n",
        "a_{41} & a_{42} & a_{43} & a_{44}\n",
        "\\end{vmatrix}\n",
        "$$\n",
        "\n",
        "$$\n",
        "\\det(A_1) =\n",
        "\\begin{vmatrix}\n",
        "b_1 & a_{12} & a_{13} & a_{14} \\\\\n",
        "b_2 & a_{22} & a_{23} & a_{24} \\\\\n",
        "b_3 & a_{32} & a_{33} & a_{34} \\\\\n",
        "b_4 & a_{42} & a_{43} & a_{44}\n",
        "\\end{vmatrix}\n",
        "$$\n",
        "\n",
        "$$\n",
        "\\det(A_2) =\n",
        "\\begin{vmatrix}\n",
        "a_{11} & b_1 & a_{13} & a_{14} \\\\\n",
        "a_{21} & b_2 & a_{23} & a_{24} \\\\\n",
        "a_{31} & b_3 & a_{33} & a_{34} \\\\\n",
        "a_{41} & b_4 & a_{43} & a_{44}\n",
        "\\end{vmatrix}\n",
        "$$\n",
        "\n",
        "$$\n",
        "\\det(A_3) =\n",
        "\\begin{vmatrix}\n",
        "a_{11} & a_{12} & b_1 & a_{14} \\\\\n",
        "a_{21} & a_{22} & b_2 & a_{24} \\\\\n",
        "a_{31} & a_{32} & b_3 & a_{34} \\\\\n",
        "a_{41} & a_{42} & b_4 & a_{44}\n",
        "\\end{vmatrix}\n",
        "$$\n",
        "\n",
        "$$\n",
        "\\det(A_4) =\n",
        "\\begin{vmatrix}\n",
        "a_{11} & a_{12} & a_{13} & b_1 \\\\\n",
        "a_{21} & a_{22} & a_{23} & b_2 \\\\\n",
        "a_{31} & a_{32} & a_{33} & b_3 \\\\\n",
        "a_{41} & a_{42} & a_{43} & b_4\n",
        "\\end{vmatrix}\n",
        "$$\n",
        "\n",
        "## Example"
      ]
    },
    {
      "cell_type": "code",
      "execution_count": 4,
      "metadata": {
        "colab": {
          "base_uri": "https://localhost:8080/"
        },
        "id": "I7C0k7I3bTnx",
        "outputId": "888277ea-1e60-4a78-d249-1c36fead30de"
      },
      "outputs": [
        {
          "output_type": "stream",
          "name": "stdout",
          "text": [
            "\n"
          ]
        }
      ],
      "source": [
        "import sympy as sp\n",
        "\n",
        "# Define symbols\n",
        "x, y, z = sp.symbols('x y z')\n",
        "\n",
        "# Define the system of equations\n",
        "eq1 = sp.Eq(2*x + 3*y + z, 1)\n",
        "eq2 = sp.Eq(3*x + 2*y + 2*z, 2)\n",
        "eq3 = sp.Eq(x + y + z, 3)\n",
        "\n",
        "# Coefficient matrix of the system\n",
        "A = sp.Matrix([[2, 3, 1], [3, 2, 2], [1, 1, 1]])\n",
        "# Free terms vector\n",
        "b = sp.Matrix([1, 2, 3])\n"
      ]
    },
    {
      "cell_type": "code",
      "execution_count": null,
      "metadata": {
        "id": "lprJfe-YbTn0",
        "outputId": "72c77cc3-ff16-411f-ed69-e50c8737cf00"
      },
      "outputs": [
        {
          "data": {
            "text/latex": [
              "$\\displaystyle \\left[\\begin{matrix}2 & 3 & 1\\\\3 & 2 & 2\\\\1 & 1 & 1\\end{matrix}\\right]$"
            ],
            "text/plain": [
              "Matrix([\n",
              "[2, 3, 1],\n",
              "[3, 2, 2],\n",
              "[1, 1, 1]])"
            ]
          },
          "execution_count": 2,
          "metadata": {},
          "output_type": "execute_result"
        }
      ],
      "source": [
        "A"
      ]
    },
    {
      "cell_type": "code",
      "execution_count": null,
      "metadata": {
        "id": "OXLLJdShbTn3",
        "outputId": "96579659-1e4c-4457-8c49-e36f6a48c5e9"
      },
      "outputs": [
        {
          "data": {
            "text/latex": [
              "$\\displaystyle \\left[\\begin{matrix}1\\\\2\\\\3\\end{matrix}\\right]$"
            ],
            "text/plain": [
              "Matrix([\n",
              "[1],\n",
              "[2],\n",
              "[3]])"
            ]
          },
          "execution_count": 3,
          "metadata": {},
          "output_type": "execute_result"
        }
      ],
      "source": [
        "b"
      ]
    },
    {
      "cell_type": "code",
      "execution_count": null,
      "metadata": {
        "id": "Q_v1fC95bTn4",
        "outputId": "f7b6bf98-af71-44b2-b509-31baea4ca9e4"
      },
      "outputs": [
        {
          "data": {
            "text/latex": [
              "$\\displaystyle \\left[\\begin{matrix}1 & 3 & 1\\\\2 & 2 & 2\\\\3 & 1 & 1\\end{matrix}\\right]$"
            ],
            "text/plain": [
              "Matrix([\n",
              "[1, 3, 1],\n",
              "[2, 2, 2],\n",
              "[3, 1, 1]])"
            ]
          },
          "execution_count": 4,
          "metadata": {},
          "output_type": "execute_result"
        }
      ],
      "source": [
        "# Define matrix A_1\n",
        "A_1 = A.copy() # Copy matrix A\n",
        "A_1[:, 0] = b # Replace the first column of A with vector b\n",
        "A_1 # Check if the replacement was successful"
      ]
    },
    {
      "cell_type": "code",
      "execution_count": null,
      "metadata": {
        "id": "t4mz23RCbTn5",
        "outputId": "5ec57740-d053-40e7-e5a5-9472ec348d3a"
      },
      "outputs": [
        {
          "data": {
            "text/latex": [
              "$\\displaystyle -4$"
            ],
            "text/plain": [
              "-4"
            ]
          },
          "execution_count": 5,
          "metadata": {},
          "output_type": "execute_result"
        }
      ],
      "source": [
        "det_A_1 = A_1.det() # Calculate determinant of A_1\n",
        "sol_x = det_A_1 / A.det() # Calculate x_1\n",
        "sol_x # Calculated value of x_1"
      ]
    },
    {
      "cell_type": "code",
      "execution_count": null,
      "metadata": {
        "id": "wvqJPg40bTn7",
        "outputId": "4dd32e15-1ae7-48ed-e153-b0ca0b1bdb7e"
      },
      "outputs": [
        {
          "data": {
            "text/latex": [
              "$\\displaystyle \\left[\\begin{matrix}2 & 1 & 1\\\\3 & 2 & 2\\\\1 & 3 & 1\\end{matrix}\\right]$"
            ],
            "text/plain": [
              "Matrix([\n",
              "[2, 1, 1],\n",
              "[3, 2, 2],\n",
              "[1, 3, 1]])"
            ]
          },
          "execution_count": 6,
          "metadata": {},
          "output_type": "execute_result"
        }
      ],
      "source": [
        "# Similarly for y\n",
        "A_2 = A.copy()\n",
        "A_2[:, 1] = b\n",
        "A_2 # Check if the replacement was successful"
      ]
    },
    {
      "cell_type": "code",
      "execution_count": null,
      "metadata": {
        "id": "ektRF-AobTn8",
        "outputId": "81b7ee00-4dfe-4757-ef29-7dd21d7d898b"
      },
      "outputs": [
        {
          "data": {
            "text/latex": [
              "$\\displaystyle 1$"
            ],
            "text/plain": [
              "1"
            ]
          },
          "execution_count": 7,
          "metadata": {},
          "output_type": "execute_result"
        }
      ],
      "source": [
        "det_A_2 = A_2.det()\n",
        "sol_y = det_A_2 / A.det()\n",
        "sol_y"
      ]
    },
    {
      "cell_type": "code",
      "execution_count": null,
      "metadata": {
        "id": "VJ8OX-ezbTn9",
        "outputId": "444d95cf-164d-41cd-ec99-8dedf06a1fe6"
      },
      "outputs": [
        {
          "data": {
            "text/latex": [
              "$\\displaystyle 6$"
            ],
            "text/plain": [
              "6"
            ]
          },
          "execution_count": 8,
          "metadata": {},
          "output_type": "execute_result"
        }
      ],
      "source": [
        "# Finally for z\n",
        "A_3 = A.copy()\n",
        "A_3[:, 2] = b\n",
        "det_A_3 = A_3.det()\n",
        "sol_z = det_A_3 / A.det()\n",
        "sol_z"
      ]
    },
    {
      "cell_type": "code",
      "execution_count": null,
      "metadata": {
        "id": "r8rjf-vYbTn-",
        "outputId": "30ffeacb-a0eb-4155-8294-e3fab4b0dfad"
      },
      "outputs": [
        {
          "data": {
            "text/plain": [
              "{x: -4, y: 1, z: 6}"
            ]
          },
          "execution_count": 9,
          "metadata": {},
          "output_type": "execute_result"
        }
      ],
      "source": [
        "# Solve the system of equations\n",
        "sp.solve((eq1, eq2, eq3), (x, y, z))"
      ]
    },
    {
      "cell_type": "markdown",
      "metadata": {
        "id": "cQttOvSjbTn_"
      },
      "source": [
        "---\n",
        "\n",
        "## Exercises for Students\n",
        "\n",
        "1. Solve the system of equations:\n",
        "   $$\n",
        "   \\begin{cases}\n",
        "   2x_1 - 3x_2 = 7 \\\\\n",
        "   3x_1 + 5x_2 = 2\n",
        "   \\end{cases}\n",
        "   $$\n",
        "\n",
        "2. Solve the system of equations:\n",
        "   $$\n",
        "   \\begin{cases}\n",
        "   2x + y - z = 1 \\\\\n",
        "   x - y + 2z = 4 \\\\\n",
        "   3x - 2z = -1\n",
        "   \\end{cases}\n",
        "   $$\n",
        "\n",
        "3. Solve the system of equations:\n",
        "   $$\n",
        "   \\begin{cases}\n",
        "   x + y + z - t = 2 \\\\\n",
        "   x - z + 2t = 6 \\\\\n",
        "   2x - 3y + t = 4 \\\\\n",
        "   3x + y + 3z - 4t = -2\n",
        "   \\end{cases}\n",
        "   $$\n",
        "\n",
        "4. Why can't the following system of equations be solved using Cramer's rule?\n",
        "$$\n",
        "\\begin{cases}\n",
        "x_1 + 2x_2 + 3x_3 = 3 \\\\\n",
        "4x_1 + 5x_2 + 6x_3 = 2 \\\\\n",
        "7x_1 + 8x_2 + 9x_3 = 1\n",
        "\\end{cases}\n",
        "$$"
      ]
    },
    {
      "cell_type": "markdown",
      "source": [],
      "metadata": {
        "id": "5dVdh62DenXO"
      }
    },
    {
      "cell_type": "markdown",
      "source": [],
      "metadata": {
        "id": "dSw6lAfhenRM"
      }
    },
    {
      "cell_type": "markdown",
      "source": [
        "$\\begin{cases}2x_1 - 3x_2 = 7 \\\\ 3x_1 + 5x_2 = 2 \\end{cases}\\qquad x=\\frac{D_x}{D}\\qquad y=\\frac{D_y}{D}$\n",
        "\n",
        "$det=\\begin{vmatrix} 2 & -3 \\\\ 3 & 5 \\end{vmatrix}=10 + 9 = 19$\n",
        "\n",
        "$D_x= \\begin{vmatrix} 7 & -3 \\\\ 2 & 5 \\end{vmatrix}=35+6=41$\n",
        "\n",
        "$D_y= \\begin{vmatrix} 2 & 7 \\\\ 3 & 2 \\end{vmatrix}=4 - 21=-17$\n",
        "\n",
        "##$x=\\frac{41}{19}\\quad y= \\frac{-17}{19}$\n"
      ],
      "metadata": {
        "id": "vlYxmPOxbqng"
      }
    },
    {
      "cell_type": "markdown",
      "source": [
        "$\\begin{cases} 2x + y - z = 1 \\\\ x - y + 2z = 4 \\\\ 3x - 2z = -1 \\end{cases}\\qquad x=\\frac{D_x}{D}\\qquad y=\\frac{D_y}{D}\\qquad z=\\frac{D_z}{D}$\n",
        "\n",
        "$det=\\begin{bmatrix} 2 & 1 & -1 \\\\ 1 & -1 & 2 \\\\ 3 & 0 & -2 \\end{bmatrix}= 2\\cdot \\begin{vmatrix} -1 & 2 \\\\ 0 & -2 \\end{vmatrix} -1\\cdot\\begin{vmatrix} 1 & 2 \\\\ 3 & -2 \\end{vmatrix} -1\\cdot \\begin{vmatrix} 1 & -1 \\\\ 3 & 0 \\end{vmatrix}= 2 \\cdot(2-0)-1\\cdot(-2-6)-1\\cdot 3 = 4 + 8 -3=9 $\n",
        "\n",
        "$D_x= \\begin{bmatrix} 1 & 1 & -1 \\\\ 4 & -1 & 2 \\\\ -1 & 0 & 2 \\end{bmatrix} = 2\\cdot\\begin{vmatrix}-1 & 2 \\\\ 0 & -2\\end{vmatrix} -1\\cdot \\begin{vmatrix} 4 & 2 \\\\ -1 & -2 \\end{vmatrix}-1\\cdot \\begin{vmatrix} 4 & -1 \\\\ -1 & 0 \\end{vmatrix} = 2-1\\cdot(-8+2) -1\\cdot(0-1)=2+6+1=9$\n",
        "\n",
        "$D_y= \\begin{bmatrix} 2 & 1 & -1 \\\\ 1 & 4 & 2 \\\\ 3 & -1 & -2 \\end{bmatrix} = 2\\cdot\\begin{vmatrix} 4 & 2 \\\\ -1 & -2 \\end{vmatrix}-1\\cdot\\begin{vmatrix}1 & 2 \\\\ 3 & -2 \\end{vmatrix} -1\\cdot\\begin{vmatrix}1 & 4 \\\\ 3 & -1 \\end{vmatrix} =2\\cdot(-8+2)-1\\cdot(-2-6)-1\\cdot(-1-12)=-12+8+13=9$\n",
        "\n",
        "$D_z=\\begin{bmatrix} 2 & 1 & 1\\\\ 1 & -1 & 4 \\\\ 3 & 0 & 1 \\end{bmatrix}=2\\cdot\\begin{vmatrix}-1 & 4 \\\\ 0 & 1 \\end{vmatrix} -1\\cdot\\begin{vmatrix}1 & 4 \\\\ 3 & -1\\end{vmatrix} +1\\cdot\\begin{vmatrix}1 & -1 \\\\ 3 & 0 \\end{vmatrix}=2\\cdot(1-0)-1\\cdot(-1-12)+1\\cdot(0+3)=2+13+3=18$\n",
        "\n",
        "##$x=\\frac{9}{9}=1\\qquad y=\\frac{9}{9}= 1\\qquad z=\\frac{18}{9}=2$\n",
        "\n",
        "   "
      ],
      "metadata": {
        "id": "KvIOgUXXekce"
      }
    },
    {
      "cell_type": "markdown",
      "source": [],
      "metadata": {
        "id": "Bmhe5x6QZAY4"
      }
    },
    {
      "cell_type": "markdown",
      "source": [
        " $\\begin{cases}x + y + z - t = 2 \\\\x - z + 2t = 6 \\\\2x - 3y + t = 4\\\\3x + y + 3z - 4t = -2\\end{cases}\\qquad x=\\frac{D_x}{D}\\qquad y=\\frac{D_y}{D}\\qquad z=\\frac{D_z}{D}\\qquad t=\\frac{D_t}{D}$\n",
        "\n",
        "$det=1\\cdot(-1)^{2+1} \\begin{bmatrix} 1 & 1 & -1 \\\\ -3 & 0 & 1 \\\\ 1 & 3 & -4 \\end{bmatrix} +0-1\\cdot(-1)^{2+3} \\begin{bmatrix} 1 & 1 & -1 \\\\ 2 & -3 & 1 \\\\ 3 & 1 & -4 \\end{bmatrix} +2\\cdot(-1)^{2+4}\\begin{bmatrix}1 & 1 & 1 \\\\ 2 & -3 & 0 \\\\ 3 & 1 & 1\\end{bmatrix}=-1\\cdot(-3\\cdot(-1)^{2+1}\\begin{vmatrix}1 & -1 \\\\ 3 & -4\\end{vmatrix}-1\\cdot(-1)^{2+3}\\begin{vmatrix}1 & 1 \\\\ 1 & 3 \\end{vmatrix}) +1\\cdot(1\\cdot(-1)^{1+1}\\begin{vmatrix}-3 & 1 \\\\ 1 & -4\\end{vmatrix}+1\\cdot(-1)^{1+2}\\begin{vmatrix} 2 & 1 \\\\ 3 & -4\\end{vmatrix}-1\\cdot(-1)^{1+3}\\begin{vmatrix} 2 & -3 \\\\ 3 & 1 \\end{vmatrix})+2\\cdot(2\\cdot(-1)^{2+1}\\begin{vmatrix} 1 & 1 \\\\ 1 & 3 \\end{vmatrix}-3\\cdot(-1)^{2+2}\\begin{vmatrix} 1 & 1 \\\\ 3 & 3 \\end{vmatrix})=-1\\cdot(3\\cdot(-4+3)-1\\cdot(3-1))+1\\cdot((12-1)-1\\cdot(-8-3)-1\\cdot(2+9))+2\\cdot(-2\\cdot(3-1)-3\\cdot(3-3))= -1\\cdot(-3-2)+(11+11-11)+2\\cdot(-4)= 5+11-8=8$\n",
        "\n",
        "\n",
        "$D_x=\\begin{bmatrix} 2 & 1 & 1 & -1 \\\\ 6 & 0 & -1 & 2 \\\\ 4 & -3 & 0 & 1 \\\\-2 & 1 & 3 & -4\\end{bmatrix}= 4\\cdot(-1)^{3+1}\\begin{bmatrix}1 & 1 & -1 \\\\ 0 & -1 & 2 \\\\ 1 & 3 & -4\\end{bmatrix}-3\\cdot(-1)^{3+2}\\begin{bmatrix}2 & 1 & -1 \\\\ 6 & -1 & 2 \\\\ -2 & 3 & -4\\end{bmatrix}+1\\cdot(-1)^{3+4}\\begin{bmatrix}2 & 1 & 1 \\\\ 6 & 0 & -1 \\\\ -2 & 1 & 3 \\end{bmatrix}= 4\\cdot(-1\\cdot(-1)^{2+2}\\begin{vmatrix}1 & -1 \\\\ 1 & -4 \\end{vmatrix}+2\\cdot(-1)^{2+3}\\begin{vmatrix}1 & 1 \\\\ 1 & 3\\end{vmatrix})+3\\cdot(2\\cdot(-1)^{1+1}\\begin{vmatrix}-1 & 2 \\\\ 3 & -4\\end{vmatrix}+1\\cdot(-1)^{1+1}\\begin{vmatrix}-1 & 2 \\\\ 3 & -4\\end{vmatrix}+\\cdot(-1)^{1+2}\\begin{vmatrix}6 & 2 \\\\ -2 & -4\\end{vmatrix}-1\\cdot(-1)^{1+3}\\begin{vmatrix}6 & -1 \\\\ -2 & 3\\end{vmatrix})-1\\cdot(6\\cdot(-1)^{2+1}\\begin{vmatrix}1 & 1 \\\\ 1 & 3 \\end{vmatrix}-1\\cdot(-1)^{2+3}\\begin{vmatrix} 2 & 1 \\\\ -2 & 1 \\end{vmatrix})=4\\cdot(-1\\cdot(-4+1)-2\\cdot(3-1))+3\\cdot(2\\cdot(4-6)-1\\cdot(-24+4)-1\\cdot(18-2))-1\\cdot(-6\\cdot(3-1)+1\\cdot(2+2))=4\\cdot(3-4)+3\\cdot(-4+20-16)-1\\cdot(-12+4)=-4+8=4$\n",
        "\n",
        "\n",
        "$D_y=\\begin{bmatrix}1 & 2 & 1 & -1 \\\\ 1 & 6 & -1 & 2 \\\\ 2 & 4 & 0 & 1 \\\\ 3 & -2 & 3 & -4\\end{bmatrix}=2\\cdot(-1)^{3+1}\\begin{bmatrix}2 & 1 & -1 \\\\ 6 & -1 & 2 \\\\ -2 & 3 & -4\\end{bmatrix}+4\\cdot(-1)^{3+2}\\begin{bmatrix}1 & 1 & -1 \\\\ 1 & -1 & 2 \\\\ 3 & 3 & -4\\end{bmatrix}+1\\cdot(-1)^{3+4}\\begin{bmatrix}1 & 2 & 1 \\\\ 1 & 6 & -1 \\\\ 3 & -2 & 3 \\end{bmatrix}=2\\cdot(2\\cdot(-1)^{1+1}\\begin{vmatrix}-1 & 2 \\\\ 3 & -4 \\end{vmatrix} +1\\cdot(-1)^{1+2}\\begin{vmatrix} 6 & 2 \\\\ -2 & -4 \\end{vmatrix}-1\\cdot(-1)^{1+3}\\begin{vmatrix}6 & -1 \\\\ -2 & 3 \\end{vmatrix})-4\\cdot(1\\cdot(-1)^{1+1}\\begin{vmatrix}-1 & 2 \\\\ 3 & -4\\end{vmatrix}+1\\cdot(-1)^{1+2}\\begin{vmatrix}1 & 2 \\\\ 3 & -4\\end{vmatrix}+1\\cdot(-1)^{1+3}\\begin{vmatrix}1 & -1 \\\\ 3 & 3\\end{vmatrix})-1\\cdot(1\\cdot(-1)^{1+1}\\begin{vmatrix}6 & -1 \\\\ 2 & 3 \\end{vmatrix} +2\\cdot(-1)^{1+2}\\begin{vmatrix}1 & -1 \\\\3 & 3 \\end{vmatrix} +1\\cdot(-1)^{1+3}\\begin{vmatrix}1 & 6 \\\\ 3 & -2\\end{vmatrix})= 2\\cdot(2\\cdot(4-6)-1\\cdot(-24+4) -1\\cdot(18-2))-4\\cdot(1\\cdot(4-6)-1\\cdot(-4-6)-1\\cdot(3+3))-1\\cdot(1\\cdot(18-2)-2\\cdot(3+3)+1\\cdot(-2-18))=2\\cdot(-4+20-16)-4\\cdot(-2+10-6)-1\\cdot(16-12-20)=0-8+16=8$\n",
        "\n",
        "$D_z=\\begin{bmatrix}1 & 1 & 2 & -1\\\\ 1 & 0 & 6 & 2 \\\\2 & -3 & 4 & 1 \\\\ 3 & 1 & -2 & -4 \\end{bmatrix}=1\\cdot(-1)^{2+1}\\begin{bmatrix}1 & 2 & -1 \\\\ -3 & 4 & 1 \\\\ 1 & -2 & -4 \\end{bmatrix}+6\\cdot(-1)^{2+3}\\begin{bmatrix} 1 & 1 & -1 \\\\ 2 & -3 & 1 \\\\ 3 & 1 & -4\\end{bmatrix}=2\\cdot(-1)^{2+4}\\begin{bmatrix} 1 & 1 & 2 \\\\ 2 & -3 & 4 \\\\ 3 & 1 & -2 \\end{bmatrix} = -1\\cdot(1\\cdot(-1)^{1+1}\\begin{vmatrix}4 & 1 \\\\ -2 & -4 \\end{vmatrix}+2\\cdot(-1)^{1+2}\\begin{vmatrix}-3 & 1 \\\\ 1 & -4 \\end{vmatrix}-1\\cdot(-1)^{1+3}\\begin{vmatrix} -3 & 4 \\\\ 1 & -2\\end{vmatrix})-6\\cdot(1\\cdot(-1)^{1+1}\\begin{vmatrix}-3 & 1 \\\\ 1 & -4\\end{vmatrix} +1\\cdot(-1)^{1+2}\\begin{vmatrix} 2 & 1 \\\\ 3 & -4 \\end{vmatrix} -1 \\cdot(-1)^{1+3}\\begin{vmatrix} 2 & -3 \\\\ 3 & 1 \\end{vmatrix})+2\\cdot(1\\cdot(-1)^{1+1}\\begin{vmatrix} -3 & 4 \\\\ 1 & -2 \\end{vmatrix} +1\\cdot(-1)^{1+2}\\begin{vmatrix}2 & 4 \\\\ 3 & -2 \\end{vmatrix} +2\\cdot(-1)^{1+3}\\begin{vmatrix}2 & -3 \\\\ 3 & 1 \\end{vmatrix})=-1\\cdot(1\\cdot(-16+2)-2\\cdot(12-1)-1\\cdot(6-4))-6\\cdot(1\\cdot(12-1)-1\\cdot(-8-3)-1\\cdot(2+9))+2\\cdot(1\\cdot(6-4)-1\\cdot(-4-12)=2\\cdot(2+9))= -1\\cdot(-14-22-2)-6\\cdot(11+11-11)+2\\cdot(2+16+22)=38-66+80=52$"
      ],
      "metadata": {
        "id": "ju736zcmKoZh"
      }
    }
  ],
  "metadata": {
    "kernelspec": {
      "display_name": "Python 3",
      "language": "python",
      "name": "python3"
    },
    "language_info": {
      "codemirror_mode": {
        "name": "ipython",
        "version": 3
      },
      "file_extension": ".py",
      "mimetype": "text/x-python",
      "name": "python",
      "nbconvert_exporter": "python",
      "pygments_lexer": "ipython3",
      "version": "3.11.9"
    },
    "colab": {
      "provenance": []
    }
  },
  "nbformat": 4,
  "nbformat_minor": 0
}