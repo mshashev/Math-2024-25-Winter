{
  "cells": [
    {
      "cell_type": "markdown",
      "metadata": {
        "id": "ZRz4AGnnApRA"
      },
      "source": [
        "# Solving Systems of Linear Equations Using the Inverse Matrix Method\n",
        "\n",
        "Converting a system of linear equations to matrix form allows the use of the inverse matrix to find the solution.\n",
        "\n",
        "As an example, consider $A \\cdot X = B$, where the matrix $A_{n \\times n}$ is square and non-singular, and $X$ and $B$ are column matrices:\n",
        "\n",
        "$$\n",
        "X = \\begin{bmatrix} x_1 \\\\ x_2 \\\\ \\vdots \\\\ x_n \\end{bmatrix}, \\qquad B = \\begin{bmatrix} b_1 \\\\ b_2 \\\\ \\vdots \\\\ b_n \\end{bmatrix}\n",
        "$$\n",
        "\n",
        "The solution of the system can be found by multiplying the inverse of $A$ by $B$ on the left side:\n",
        "\n",
        "$$(A^{-1} \\cdot A) \\cdot X = A^{-1} \\cdot B$$\n",
        "\n",
        "$$1 \\cdot X = A^{-1} \\cdot B$$\n",
        "\n",
        "$$X = A^{-1} \\cdot B$$\n",
        "\n",
        "**Example**\n",
        "\n",
        "Consider the system of equations:\n",
        "\n",
        "$$\n",
        "\\begin{cases}\n",
        "x + 2z = 3, \\\\\n",
        "2x + 3y + z = 0, \\\\\n",
        "x + 3z = 1.\n",
        "\\end{cases}\n",
        "$$\n",
        "\n",
        "First, write the system of equations in matrix form:\n",
        "\n",
        "$$\n",
        "\\begin{cases}\n",
        "1 \\cdot x + 0 \\cdot y + 2 \\cdot z = 3, \\\\\n",
        "2 \\cdot x + 3 \\cdot y + 1 \\cdot z = 0, \\\\\n",
        "1 \\cdot x + 0 \\cdot y + 3 \\cdot z = 1.\n",
        "\\end{cases}\n",
        "$$\n",
        "\n",
        "$$\n",
        "\\begin{bmatrix}\n",
        "1 & 0 & 2 \\\\\n",
        "2 & 3 & 1 \\\\\n",
        "1 & 0 & 3\n",
        "\\end{bmatrix}\n",
        "\\begin{bmatrix}\n",
        "x \\\\\n",
        "y \\\\\n",
        "z\n",
        "\\end{bmatrix}\n",
        "=\n",
        "\\begin{bmatrix}\n",
        "3 \\\\\n",
        "0 \\\\\n",
        "1\n",
        "\\end{bmatrix}\n",
        "$$\n",
        "\n",
        "Solve the system by multiplying by the inverse matrix (on the correct side!):\n",
        "\n",
        "$$\n",
        "\\begin{bmatrix}\n",
        "x \\\\\n",
        "y \\\\\n",
        "z\n",
        "\\end{bmatrix}\n",
        "=\n",
        "\\begin{bmatrix}\n",
        "1 & 0 & 2 \\\\\n",
        "2 & 3 & 1 \\\\\n",
        "1 & 0 & 3\n",
        "\\end{bmatrix}^{-1}\n",
        "\\begin{bmatrix}\n",
        "3 \\\\\n",
        "0 \\\\\n",
        "1\n",
        "\\end{bmatrix}\n",
        "$$\n",
        "\n",
        "Calculate the inverse matrix:\n",
        "\n",
        "$$\n",
        "\\begin{bmatrix}\n",
        "1 & 0 & 2 \\\\\n",
        "2 & 3 & 1 \\\\\n",
        "1 & 0 & 3\n",
        "\\end{bmatrix}^{-1}\n",
        "=\n",
        "\\begin{bmatrix}\n",
        " 4 &  0 & -2 \\\\\n",
        "-3 &  1 &  1 \\\\\n",
        "-1 &  0 &  1\n",
        "\\end{bmatrix}\n",
        "$$\n",
        "\n",
        "Multiply the matrices:\n",
        "\n",
        "$$\n",
        "\\begin{bmatrix}\n",
        "x \\\\\n",
        "y \\\\\n",
        "z\n",
        "\\end{bmatrix}\n",
        "=\n",
        "\\begin{bmatrix}\n",
        " 4 &  0 & -2 \\\\\n",
        "-3 &  1 &  1 \\\\\n",
        "-1 &  0 &  1\n",
        "\\end{bmatrix}\n",
        "\\begin{bmatrix}\n",
        "3 \\\\\n",
        "0 \\\\\n",
        "1\n",
        "\\end{bmatrix}\n",
        "=\n",
        "\\begin{bmatrix}\n",
        "7 \\\\\n",
        "-4 \\\\\n",
        "-2\n",
        "\\end{bmatrix}\n",
        "$$"
      ]
    },
    {
      "cell_type": "code",
      "execution_count": null,
      "metadata": {
        "id": "OZTEgADAApRL",
        "outputId": "bd17aba5-58de-46f0-f0fd-d2a57cacb7c3"
      },
      "outputs": [
        {
          "data": {
            "text/latex": [
              "$\\displaystyle \\left[\\begin{matrix}7\\\\-4\\\\-2\\end{matrix}\\right]$"
            ],
            "text/plain": [
              "Matrix([\n",
              "[ 7],\n",
              "[-4],\n",
              "[-2]])"
            ]
          },
          "execution_count": 1,
          "metadata": {},
          "output_type": "execute_result"
        }
      ],
      "source": [
        "# ## Solving Systems of Linear Equations Using the Inverse Matrix Method\n",
        "\n",
        "import sympy as sp\n",
        "\n",
        "# Coefficient matrix\n",
        "A = sp.Matrix([\n",
        "    [1, 0, 2],\n",
        "    [2, 3, 1],\n",
        "    [1, 0, 3]\n",
        "])\n",
        "\n",
        "# Constant terms vector\n",
        "B =  sp.Matrix([\n",
        "    [3],\n",
        "    [0],\n",
        "    [1]\n",
        "])\n",
        "# Inverse matrix\n",
        "A_inv = A.inv()\n",
        "\n",
        "# Solution of the system of equations\n",
        "X = A_inv * B\n",
        "X"
      ]
    },
    {
      "cell_type": "markdown",
      "metadata": {
        "id": "CEhbcsHaApRQ"
      },
      "source": [
        "---\n",
        "\n",
        "## Exercises for Students\n",
        "\n",
        "1. Solve the system of linear equations using the inverse matrix method:\n",
        "\n",
        "$$\n",
        "\\begin{cases}\n",
        "x + 2y + 3z = 5, \\\\\n",
        "2y + 3z = 4, \\\\\n",
        "3z = 3.\n",
        "\\end{cases}\n",
        "$$\n",
        "\n",
        "2. Solve the system of linear equations using the inverse matrix method:\n",
        "\n",
        "$$\n",
        "\\begin{cases}\n",
        "x_1 + 2x_2 + 3x_3 = 41, \\\\\n",
        "4x_1 + 5x_2 + 6x_3 = 93, \\\\\n",
        "7x_1 + 8x_2 + 9x_3 = 145.\n",
        "\\end{cases}\n",
        "$$"
      ]
    },
    {
      "cell_type": "markdown",
      "source": [
        "#1)\n",
        "$\\begin{cases}x + 2y + 3z = 5, \\\\2y + 3z = 4, \\\\3z = 3.\\end{cases} \\qquad\\begin{bmatrix} x \\\\ y \\\\ z \\end{bmatrix} = \\frac{1}{det{A}}\\cdot{A}^{-1}$\n",
        "\n",
        "$\\begin{cases}x + 2y + 3z = 5, \\\\2y + 3z = 4, \\\\3z = 3.\\end{cases}\\qquad\\Rightarrow\\qquad{A}= \\begin{bmatrix} 1 & 2 & 3 \\\\ 0 & 2 & 3 \\\\ 0 & 0 & 3 \\end{bmatrix} \\begin{bmatrix} 5 \\\\ 4 \\\\ 3 \\end{bmatrix}$\n",
        "\n",
        "$det{A}=3\\cdot\\begin{vmatrix}1 & 2 \\\\ 0 & 2 \\end{vmatrix}=3\\cdot2=6$\n",
        "\n",
        "${A}^{-1}=\\begin{bmatrix} +\\begin{vmatrix}2 & 3 \\\\ 0 & 3 \\end{vmatrix} -\\begin{vmatrix}0 & 3 \\\\ 0 & 3 \\end{vmatrix} +\\begin{vmatrix} 0 & 2 \\\\ 0 & 0 \\end{vmatrix} \\\\ -\\begin{vmatrix} 2 & 3 \\\\ 0 & 3 \\end{vmatrix} +\\begin{vmatrix} 1 & 3 \\\\ 0 & 3 \\end{vmatrix} -\\begin{vmatrix} 1 & 2 \\\\ 0 & 0 \\end{vmatrix} \\\\ +\\begin{vmatrix} 2 & 3 \\\\ 2 & 3 \\end{vmatrix} -\\begin{vmatrix} 1 & 3 \\\\ 0 & 3 \\end{vmatrix} +\\begin{vmatrix} 1 & 2 \\\\ 0 & 2 \\end{vmatrix} \\end{bmatrix}=\\begin{bmatrix} 6 & 0 & 0 \\\\ -6 & 3 & 0 \\\\ 0 & -3 & 2 \\end{bmatrix} = \\begin{bmatrix} 6 & -6 & 0 \\\\ 0 & 3 & -3 \\\\ 0 & 0 & 2 \\end{bmatrix} = \\frac{1}{6}\\cdot\\begin{bmatrix} 6 & -6 & 0 \\\\ 0 & 3 & -3 \\\\ 0 & 0 & 2 \\end{bmatrix} = \\begin{bmatrix} 1 & -1 & 0 \\\\ 0 & \\frac{1}{2} & -\\frac{1}{2} \\\\ 0 & 0 & \\frac{1}{3}\\end{bmatrix} \\cdot\\begin{bmatrix}5 \\\\ 4 \\\\ 3 \\end{bmatrix}=\\begin{bmatrix}(1\\cdot5)+(-1\\cdot4)+(0\\cdot3) \\\\ (0\\cdot5)+(\\frac{1}{2}\\cdot4)+(-\\frac{1}{2}\\cdot3) \\\\(0\\cdot5)+(0\\cdot4)+(\\frac{1}{3}\\cdot3)\\end{bmatrix}= \\begin{bmatrix} 1 \\\\ \\frac{1}{2} \\\\ 1 \\end{bmatrix}$\n",
        "\n",
        "#$x=1\\qquad y=\\frac{1}{2} \\qquad z=1$\n"
      ],
      "metadata": {
        "id": "ok0aKYpNAwAR"
      }
    },
    {
      "cell_type": "markdown",
      "source": [
        "the second system of equations can't be solved because the determinant is equal to zero"
      ],
      "metadata": {
        "id": "isSJmGBmFX0-"
      }
    }
  ],
  "metadata": {
    "kernelspec": {
      "display_name": "Python 3",
      "language": "python",
      "name": "python3"
    },
    "language_info": {
      "codemirror_mode": {
        "name": "ipython",
        "version": 3
      },
      "file_extension": ".py",
      "mimetype": "text/x-python",
      "name": "python",
      "nbconvert_exporter": "python",
      "pygments_lexer": "ipython3",
      "version": "3.11.9"
    },
    "colab": {
      "provenance": []
    }
  },
  "nbformat": 4,
  "nbformat_minor": 0
}