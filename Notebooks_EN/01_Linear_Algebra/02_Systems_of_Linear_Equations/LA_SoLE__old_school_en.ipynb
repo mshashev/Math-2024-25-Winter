{
  "cells": [
    {
      "cell_type": "markdown",
      "metadata": {
        "id": "z_wvfxMR77VY"
      },
      "source": [
        "# School Method for Solving Systems of Linear Equations"
      ]
    },
    {
      "cell_type": "code",
      "execution_count": null,
      "metadata": {
        "id": "0Em4q2aK77Vc"
      },
      "outputs": [],
      "source": [
        "import sympy as sp\n",
        "from sympy import symbols, Eq, expand, solve\n",
        "\n",
        "class EnhancedEq(Eq):\n",
        "    def __add__(self, other):\n",
        "        return EnhancedEq(self.lhs + other.lhs, self.rhs + other.rhs)\n",
        "\n",
        "    def __sub__(self, other):\n",
        "        return EnhancedEq(self.lhs - other.lhs, self.rhs - other.rhs)\n",
        "\n",
        "    def __mul__(self, scalar):\n",
        "        return EnhancedEq(scalar * self.lhs, scalar * self.rhs)\n",
        "\n",
        "    def __rmul__(self, scalar):\n",
        "        return self.__mul__(scalar)\n",
        "\n",
        "    def simplify(self):\n",
        "        return EnhancedEq(expand(self.lhs), expand(self.rhs))\n",
        "\n",
        "    def substitute(self, *args, **kwargs):\n",
        "        return EnhancedEq(self.lhs.subs(*args, **kwargs), self.rhs.subs(*args, **kwargs))\n",
        "\n",
        "    def solve_for(self, symbol):\n",
        "        return solve(self, symbol)\n",
        "\n",
        "# Example usage:\n",
        "x, y = symbols('x y')\n",
        "\n",
        "# Define equations\n",
        "eq1 = EnhancedEq(2*x + y, 5)\n",
        "eq2 = EnhancedEq(x - y, 1)"
      ]
    },
    {
      "cell_type": "code",
      "execution_count": null,
      "metadata": {
        "id": "nCCHkntG77Vf",
        "outputId": "2d67550b-1352-40e7-c765-69e4d71fdafb"
      },
      "outputs": [
        {
          "name": "stdout",
          "output_type": "stream",
          "text": [
            "First equation:\n"
          ]
        },
        {
          "data": {
            "text/latex": [
              "$\\displaystyle 2 x + y = 5$"
            ],
            "text/plain": [
              "Eq(2*x + y, 5)"
            ]
          },
          "execution_count": 2,
          "metadata": {},
          "output_type": "execute_result"
        }
      ],
      "source": [
        "print(\"First equation:\")\n",
        "eq1"
      ]
    },
    {
      "cell_type": "code",
      "execution_count": null,
      "metadata": {
        "id": "Is5A2WwR77Vj",
        "outputId": "1a2bde63-6acb-4767-c2df-68c34c76ee32"
      },
      "outputs": [
        {
          "name": "stdout",
          "output_type": "stream",
          "text": [
            "Second equation:\n"
          ]
        },
        {
          "data": {
            "text/latex": [
              "$\\displaystyle x - y = 1$"
            ],
            "text/plain": [
              "Eq(x - y, 1)"
            ]
          },
          "execution_count": 3,
          "metadata": {},
          "output_type": "execute_result"
        }
      ],
      "source": [
        "print(\"Second equation:\")\n",
        "eq2"
      ]
    },
    {
      "cell_type": "code",
      "execution_count": null,
      "metadata": {
        "id": "DWZ6Qa_M77Vl",
        "outputId": "e076e34d-2099-4fa5-d1c8-3c7123b19876"
      },
      "outputs": [
        {
          "data": {
            "text/latex": [
              "$\\displaystyle 3 x = 6$"
            ],
            "text/plain": [
              "Eq(3*x, 6)"
            ]
          },
          "execution_count": 4,
          "metadata": {},
          "output_type": "execute_result"
        }
      ],
      "source": [
        "# Add the equations\n",
        "eq3 = eq1 + eq2\n",
        "eq3"
      ]
    },
    {
      "cell_type": "code",
      "execution_count": null,
      "metadata": {
        "id": "yBlh960Q77Vm",
        "outputId": "4d6954b6-ae26-4a4f-9225-feea4fbc8e75"
      },
      "outputs": [
        {
          "data": {
            "text/latex": [
              "$\\displaystyle 2$"
            ],
            "text/plain": [
              "2"
            ]
          },
          "execution_count": 5,
          "metadata": {},
          "output_type": "execute_result"
        }
      ],
      "source": [
        "# We have an equation with one unknown, so we can solve it\n",
        "sol_x = eq3.solve_for(x)[0]\n",
        "sol_x"
      ]
    },
    {
      "cell_type": "code",
      "execution_count": null,
      "metadata": {
        "id": "DeGHwRyR77Vn",
        "outputId": "e68d8167-a440-4254-dafb-0abdb2887c5d"
      },
      "outputs": [
        {
          "data": {
            "text/latex": [
              "$\\displaystyle 2 - y = 1$"
            ],
            "text/plain": [
              "Eq(2 - y, 1)"
            ]
          },
          "execution_count": 6,
          "metadata": {},
          "output_type": "execute_result"
        }
      ],
      "source": [
        "# Substitute the solution into equation 2\n",
        "eq2 = eq2.substitute(x, sol_x)\n",
        "eq2"
      ]
    },
    {
      "cell_type": "code",
      "execution_count": null,
      "metadata": {
        "id": "LF8YGuOV77Vp",
        "outputId": "7284d386-cf9a-4a0e-f25a-940a25701bfb"
      },
      "outputs": [
        {
          "data": {
            "text/latex": [
              "$\\displaystyle 1$"
            ],
            "text/plain": [
              "1"
            ]
          },
          "execution_count": 7,
          "metadata": {},
          "output_type": "execute_result"
        }
      ],
      "source": [
        "# We get an equation with one unknown, so we can solve it\n",
        "eq2.solve_for(y)[0]"
      ]
    },
    {
      "cell_type": "code",
      "execution_count": null,
      "metadata": {
        "id": "gfZag50077Vq",
        "outputId": "9928de25-8b86-437f-fbf8-fd7f50c67e3e"
      },
      "outputs": [
        {
          "data": {
            "text/plain": [
              "{x: 2, y: 1}"
            ]
          },
          "execution_count": 8,
          "metadata": {},
          "output_type": "execute_result"
        }
      ],
      "source": [
        "# Thus x=2, y=1\n",
        "# Verify with sympy\n",
        "sp.solve([eq1, eq2])"
      ]
    },
    {
      "cell_type": "markdown",
      "metadata": {
        "id": "U2qtQfed77Vs"
      },
      "source": [
        "---\n",
        "\n",
        "### Exercises for Students\n",
        "\n",
        "Solve the following systems of equations similarly to the example above:\n",
        "\n",
        "* $3x-2y=5, \\quad 2x+3y=7$,\n",
        "* $2x-3y=10, \\quad 4x+5y=20$,\n",
        "* $2x - y + z = 3, \\quad x + 2y - z = 1, \\quad 3x - y + 2z = 11$.\n",
        "* $2x-3y+4z+2t=2, \\quad 3x+2y-5z+3t=3, \\quad 4x-3y+2z-5t=4, \\quad 5x+4y-3z+2t=5$."
      ]
    },
    {
      "cell_type": "markdown",
      "source": [
        "#1)\n",
        "\n",
        "$\\begin{cases} 3x-2y=5 \\\\ 2x+3y=7 \\end{cases} $\n",
        "\n",
        "$\\begin{cases} 3x-2y=5|\\cdot3 \\\\ 2x+3y=7|\\cdot2 \\end{cases}\\quad \\Rightarrow\\quad \\begin{cases}9x-6y=15 \\\\ 4x+6y=14 \\end{cases}\\quad \\xrightarrow{add\\;row\\; 1\\; and\\;row\\; 2} \\quad13x=29 \\;\\Rightarrow x=\\frac{29}{13} \\; \\Rightarrow \\begin{cases} x= \\frac{29}{13} \\\\ 2\\cdot\\frac{29}{13}+3y=7 \\end{cases}\\quad \\Rightarrow \\quad \\begin{cases} x= \\frac{29}{13} \\\\ \\frac{58}{13}+3y=7 \\end{cases}\\quad \\Rightarrow \\quad \\begin{cases} x= \\frac{29}{13} \\\\ 3y=\\frac{91-58}{13}\\end{cases} \\quad \\Rightarrow \\quad \\begin{cases} x= \\frac{29}{13} \\\\ 3y=\\frac{33}{13}|\\div3 \\end{cases} \\quad \\Rightarrow \\quad \\begin{cases} x= \\frac{29}{13} \\\\ y=\\frac{11}{13}\\end{cases}  $"
      ],
      "metadata": {
        "id": "W3ggZmrT8bTd"
      }
    },
    {
      "cell_type": "markdown",
      "source": [
        "#2)\n",
        "\n",
        "$\\begin{cases}2x-3y=10 \\\\ 4x+5y=20\\end{cases}$\n",
        "\n",
        "$\\begin{cases}2x-3y=10|\\cdot(-2) \\\\ 4x+5y=20\\end{cases} \\quad\\Rightarrow\\quad \\begin{cases}-4x+6y=-20 \\\\ 4x+5y=20 \\end{cases} \\quad\\xrightarrow{add\\;row\\; 1\\; and\\;row\\; 2}\\quad 11y=0\\quad\\Rightarrow \\quad y=0 \\quad\\Rightarrow\\quad\\begin{cases} -4x+6\\cdot0=-20 \\\\ y = 0 \\end{cases} \\quad\\Rightarrow\\quad\\begin{cases} -4x=-20 \\\\ y=0 \\end{cases} \\quad\\Rightarrow\\quad \\begin{cases}x=5 \\\\ y=0\\end{cases}$\n",
        "\n",
        "\n",
        "\n"
      ],
      "metadata": {
        "id": "JB3GvPA-AZBw"
      }
    },
    {
      "cell_type": "markdown",
      "source": [
        "#3)\n",
        "\n",
        "$\\begin{cases}2x-3y+4z=3 \\\\ x+2y-z=1 \\\\ 3x-y+2z=11\\end{cases}$\n",
        "\n",
        "$\\begin{cases}2x-3y+4z=3 \\\\ x+2y-z=1 \\\\ 3x-y+2z=11\\end{cases}\\quad\\Rightarrow\\quad \\begin{cases} 2x-y+2y+x-1=3 \\\\ z=2y+x-1 \\\\ 3x-y+2(2y+x-1)=11 \\end{cases}\\quad\\Rightarrow\\quad\\begin{cases} 3x+y=4 \\\\ z=2y+x-1 \\\\ 5x+3y=11 \\end{cases}\\quad\\Rightarrow\\quad\\begin{cases}y=4-3x \\\\ x 2(4-3x)+x-1 \\\\ 5x+3(4-3x)=11\\end{cases}\\quad\\Rightarrow\\quad\\begin{cases}y=4-3x \\\\ z=8-6x+x-1 \\\\ -4x=1\\end{cases}\\quad\\Rightarrow\\quad\\begin{cases} y=4-3x \\\\ z=7-5x \\\\ x=-\\frac{1}{4}\\end{cases}\\quad\\Rightarrow\\quad\\begin{cases}y=4+\\frac{3}{4} \\\\z=7+\\frac{5}{4} \\\\ x=-\\frac{1}{4}\\end{cases}\\quad\\Rightarrow\\quad\\begin{cases}y=\\frac{19}{4} \\\\ z=\\frac{33}{4} \\\\ x=-\\frac{1}{4}\\end{cases} $\n"
      ],
      "metadata": {
        "id": "wEv4oyVCCjy0"
      }
    },
    {
      "cell_type": "markdown",
      "source": [
        "#4)\n",
        "\n",
        "$\\begin{cases} 2x-3y+4z+2t=2 \\\\3x+2y-5z+3t=3 \\\\ 4x-3y+2z-5t=4 \\\\ 5x+4y-3z+2t=5\\end{cases}$\n",
        "\n",
        "$\\begin{cases} 2x-3y+4z+2t=2|\\div2 \\\\3x+2y-5z+3t=3 \\\\ 4x-3y+2z-5t=4 \\\\ 5x+4y-3z+2t=5\\end{cases}\\quad\\Rightarrow\\quad\\begin{cases}x-1.5y+2z+t=1 \\\\ 3x+2y-5z+3t=3 \\\\ 4x-3y+2z-5t=4 \\\\ 5x+4y-3z+2t=5\\end{cases}\\quad\\Rightarrow\\quad\\begin{cases}x=1+1.5y-2z+t \\\\ 3(1+1.5y-2z+t)+2y-5z+3t=3 \\\\ 4(1+1.5y-2z+t)-3y+2z-5t=4 \\\\ 5(1+1.5y-2z+t)+4y-3z+2t=5\\end{cases}\\quad\\Rightarrow\\quad\\begin{cases}x=1+1.5y-2z+t \\\\ 3+4,5y-6z+3t+2y-5z+3t=3 \\\\4+6y-8z+4t-3y+2z-5t=4 \\\\ 5+7.5y-10z+5t+4y-3z+2t=5\\end{cases}\\quad\\Rightarrow\\quad\\begin{cases}x=1+1.5y-2z+t \\\\ 6.5y-11z+6t=0 \\\\ 3y-6z-t=0 \\\\ 11.5y-13z+7t=0 \\end{cases}\\quad\\Rightarrow\\quad\\begin{cases}x=1+1.5y-2z+t \\\\ 6.5y-11z+6t=0 \\\\ t=3y-6z \\\\ 11.5y-12z+7t=0 \\end{cases}\\quad\\Rightarrow\\quad\\begin{cases}x=1+1.5y-2z+3y-6z \\\\ 6.5y-11z+6(3y-6z)=0 \\\\ t=3y-6z \\\\ 11.5y-13z+7(3y-6z)=0 \\end{cases}\\quad\\Rightarrow\\quad\\begin{cases}x=1+4.5y-8z \\\\ 24.5y-47z=0 \\\\ t=3y-6z \\\\ 32.5y-55z=0 \\end{cases}\\quad\\Rightarrow\\quad\\begin{cases}x=1+4.5y-8z \\\\ 24.5y-47z=0 \\\\t=3y-6z \\\\ y= \\frac{22}{13}z\\end{cases}\\quad\\Rightarrow\\quad\\begin{cases}x=1+4.5\\frac{22}{13}z-8z \\\\ 24.5\\frac{22}{13}z-47z=0 \\\\ t=3\\frac{22}{13}z-6z \\\\y=\\frac{22}{13}\\end{cases}\\quad\\Rightarrow\\quad\\begin{cases}x=1+\\frac{99}{13}z-8z \\\\ \\frac{539}{13}z-47z=0 \\\\ t=\\frac{66}{13}z-6z \\\\ y=\\frac{22}{13}\\end{cases}\\quad\\Rightarrow\\quad\\begin{cases}x=1-\\frac{5}{13}z \\\\539z-611z=0 \\\\ t=-\\frac{12}{13}z \\\\ y=\\frac{22}{13}\\end{cases}\\quad\\Rightarrow\\quad\\begin{cases}x=1-\\frac{5}{13}\\cdot0 \\\\ z=0 \\\\ t=-\\frac{12}{13}\\cdot0 \\\\ y=\\frac{22}{13}\\cdot0\\end{cases}\\quad\\Rightarrow\\quad\\begin{cases}x=1-0 \\\\ z=0 \\\\ t=0 \\\\ y=0 \\end{cases}\\quad\\Rightarrow\\quad\\begin{cases}x=1 \\\\ z=0 \\\\ t=0 \\\\ y=0 \\end{cases}$"
      ],
      "metadata": {
        "id": "Qo8vAIM0JvQE"
      }
    }
  ],
  "metadata": {
    "kernelspec": {
      "display_name": "Python 3",
      "language": "python",
      "name": "python3"
    },
    "language_info": {
      "codemirror_mode": {
        "name": "ipython",
        "version": 3
      },
      "file_extension": ".py",
      "mimetype": "text/x-python",
      "name": "python",
      "nbconvert_exporter": "python",
      "pygments_lexer": "ipython3",
      "version": "3.11.9"
    },
    "colab": {
      "provenance": []
    }
  },
  "nbformat": 4,
  "nbformat_minor": 0
}