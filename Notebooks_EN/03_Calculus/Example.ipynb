{
  "nbformat": 4,
  "nbformat_minor": 0,
  "metadata": {
    "colab": {
      "provenance": []
    },
    "kernelspec": {
      "name": "python3",
      "display_name": "Python 3"
    },
    "language_info": {
      "name": "python"
    }
  },
  "cells": [
    {
      "cell_type": "markdown",
      "source": [
        "## 20. Limits of Real Functions\n",
        "\n",
        "1. Compute:\n",
        "   - $\\displaystyle\\lim_{x \\to \\infty} \\frac{x^3 + 2x^2}{x^4 - 3x^3}$\n",
        "\n",
        "2. Find:\n",
        "   \n",
        "   - $\\displaystyle \\lim_{x \\to 0} \\frac{\\sin(3x)}{2x+1}$.\n",
        "\n",
        "4. Find the asymptotes of the function:\n",
        "  \n",
        "   - $f(x) = \\frac{x^2 - 1}{x^2 + 1}$\n",
        "   - $g(x) = \\frac{\\sin(x)}{x^2+1}$\n"
      ],
      "metadata": {
        "id": "JlFNCYil3gW3"
      }
    },
    {
      "cell_type": "markdown",
      "source": [
        "1. Compute:\n",
        "   - $\\displaystyle\\lim_{x \\to \\infty} \\frac{x^3 + 2x^2}{x^4 - 3x^3}$\n",
        "\n",
        "Divide numerator and denominator by $x^4$, the highest power of x in the denominator:\n",
        "\n",
        "$ \\frac{x^3 + 2x^2}{x^4 - 3x^3}|\\div x^4=\\frac{\\frac{1}{x}+\\frac{2}{x^2}}{1-\\frac{3}{x}}$\n",
        "\n",
        "As ${x \\to \\infty}$, all terms with $\\frac{1}{x^n}$ where n>0 approach 0. Thus:\n",
        "\n",
        " $\\displaystyle\\lim_{x \\to \\infty} \\frac{x^3 + 2x^2}{x^4 - 3x^3}=\\frac{0+0}{1-0}=0$"
      ],
      "metadata": {
        "id": "uB1yDb_kCZ0L"
      }
    },
    {
      "cell_type": "markdown",
      "source": [
        "2. Find:\n",
        "   \n",
        "   - $\\displaystyle \\lim_{x \\to 0} \\frac{\\sin(3x)}{2x+1}$.\n",
        "\n",
        "\n",
        "As ${x \\to\\ 0}, \\sin(3x)\\rightarrow 3x(since\\; \\sin(kx)\\approx kx\\;for\\;small\\;x):$\n",
        "\n",
        "$\\frac{\\sin(3x)}{2x+1}=\\frac{3x}{2x+1}$\n",
        "\n",
        "Substitute $x=0:$\n",
        "\n",
        "$\\displaystyle \\lim_{x \\to 0} \\frac{\\sin(3x)}{2x+1}=\\frac{3(0)}{2(0)+1}=0$."
      ],
      "metadata": {
        "id": "aE4j92JbGunG"
      }
    }
  ]
}