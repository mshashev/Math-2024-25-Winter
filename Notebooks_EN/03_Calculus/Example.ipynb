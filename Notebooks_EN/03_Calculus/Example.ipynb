{
  "nbformat": 4,
  "nbformat_minor": 0,
  "metadata": {
    "colab": {
      "provenance": []
    },
    "kernelspec": {
      "name": "python3",
      "display_name": "Python 3"
    },
    "language_info": {
      "name": "python"
    }
  },
  "cells": [
    {
      "cell_type": "markdown",
      "source": [
        "## Differential Equations\n",
        "\n",
        "1. Solve the following first-order ordinary differential equations:\n",
        "   - $y'(x)= y$\n",
        "   - $y'(x) = \\frac{1}{2y(x)}$\n",
        "  \n",
        "3. Solve the first-order ordinary differential equations using the method of separation of variables for $x$ and $y=y(x)$:\n",
        "\n",
        "   - $\\frac{dy}{dx} = \\frac{x}{y}$\n",
        "   - $\\frac{dy}{dx} = \\frac{y}{x}$\n",
        "   - $\\frac{dy}{dx} = xy$\n",
        "\n",
        "4. Solve the second-order ordinary differential equations:\n",
        "\n",
        "   * $y''(x) + y'(x) = 0$, with boundary conditions $y(0) = 2$ and $y'(0) = -1$\n",
        "\n",
        "   * $y''(x) - y(x)= 0$, with boundary conditions $y(0) = 2$ and $y'(0) = 0$\n",
        "\n",
        "   * $\\frac{d^2\\,y(x)}{dx^2} = -\\omega^2 y(x)$.\n",
        "\n",
        "5. Check if the function $\\psi(t, x) = A \\cos(\\omega t + kx)$ is a solution of the second-order partial differential equation (the so-called \"wave equation\"), where $v = \\frac{\\omega}{k} = \\frac{2\\pi / T}{2\\pi / \\lambda}$:\n",
        "\n",
        "$$\n",
        "\\frac{\\partial^2 \\psi(t, x)}{\\partial t^2} - v^2 \\frac{\\partial^2 \\psi(t, x)}{\\partial x^2} = 0.\n",
        "$$"
      ],
      "metadata": {
        "id": "NsDlNvkcUI_P"
      }
    }
  ]
}