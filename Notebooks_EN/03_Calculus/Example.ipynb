{
  "nbformat": 4,
  "nbformat_minor": 0,
  "metadata": {
    "colab": {
      "provenance": []
    },
    "kernelspec": {
      "name": "python3",
      "display_name": "Python 3"
    },
    "language_info": {
      "name": "python"
    }
  },
  "cells": [
    {
      "cell_type": "markdown",
      "source": [
        "## 21. Derivatives\n",
        "\n",
        "1. Compute derivatives of functions:\n",
        "   * $y(x) = -3x+3$\n",
        "   * $y(x) = \\pi x + \\sin(1)$\n",
        "   * $y(x) = 4+\\sin(2)$\n",
        "   * $y(x) = 2x^3 - 3x^2 + 8x - 9$\n",
        "   * $y(x) = 6 x^{1/3}$\n",
        "   * $y(x) = \\sqrt{x}$\n",
        "   * $y(x) = \\cos(x) + \\sin(x)$\n",
        "   * $y(x) = 2\\sin(x) \\cos(x)$\n",
        "   * $y(x) = x\\sin(x)$\n",
        "   * $y(x) = (x+1)(x+1)$\n",
        "   * $y(x) = \\frac{x}{x+1}$\n",
        "   * $y(x) = (x+1)\\exp(x)$\n",
        "   * $y(x) = \\sin(x^2)$\n",
        "   * $y(x) = \\exp(-2x)$\n",
        "   * $y(x) = \\frac{1}{\\sin(x+1)}$\n",
        "   * $y(x) = \\sqrt{2x+1}$\n",
        "\n",
        "2. Prove:\n",
        "   - $\\frac{d}{dx} (\\ln(\\sin(x))) = \\cot(x)$\n",
        "\n",
        "3. For $f(x) = \\cos(x)$, verify that $f''(x) = -f(x)$.\n",
        "\n",
        "4. Using de l'Hospital's Rule, find the improper limits:\n",
        "   - $\\displaystyle \\lim_{x\\to 0} \\frac{\\sin{x}}{x}$\n",
        "\n",
        "   - $\\displaystyle \\lim_{x\\to \\infty} \\frac{\\ln x}{x}$\n",
        "\n",
        "   - $\\displaystyle \\lim_{x\\to \\infty} \\frac{\\exp(x)}{x}$\n",
        "\n",
        "5. In physics, the position of a particle is given by $x(t) = 3t^2 - 6t + 1$. Find the velocity $V(t)=x'(t)$ and acceleration $a(t)=V'(t)=x''(t)$ of the particle at time $t = 2$."
      ],
      "metadata": {
        "id": "GBtjFv7rQHXq"
      }
    },
    {
      "cell_type": "markdown",
      "source": [
        "##1. Compute derivatives of functions:\n",
        "   * $y(x) = -3x+3$\n",
        "\n",
        "   $y'(x) = -3$\n",
        "   * $y(x) = \\pi x + \\sin(1)$\n",
        "\n",
        "  $y'(x) = \\pi $\n",
        "   * $y(x) = 4+\\sin(2)$\n",
        "\n",
        "   $y'(x) =\\;$undefined, because cos and sin can't be more than 1\n",
        "   * $y(x) = 2x^3 - 3x^2 + 8x - 9$\n",
        "\n",
        "   $y'(x) =6x^2-6x+8$\n",
        "   * $y(x) = 6 x^{1/3}$\n",
        "\n",
        "   $y'(x) =2x^{-\\frac{2}{3}}=\\frac{2}{\\sqrt{3}{x^2}}$\n",
        "   * $y(x) = \\sqrt{x}$\n",
        "\n",
        "   $y'(x) =\\frac{1}{2\\sqrt{x}}$\n",
        "   * $y(x) = \\cos(x) + \\sin(x)$\n",
        "\n",
        "   $y'(x) = -\\sin(x)+\\cos(x)$\n",
        "   * $y(x) = 2\\sin(x) \\cos(x)$\n",
        "\n",
        "   $y'(x) =2\\cos(x)\\cdot\\cos(x)+2\\sin(x)\\cdot(-\\sin(x))=$\n",
        "   * $y(x) = x\\sin(x)$\n",
        "\n",
        "   $y'(x) =1\\cdot\\sin(x)+x\\cdot\\cos(x)=\\sin(x)+x\\cos(x)$\n",
        "   * $y(x) = (x+1)(x+1)$\n",
        "\n",
        "   $y'(x) =(x+1)^2= 2\\cdot(x+1)$\n",
        "   * $y(x) = \\frac{x}{x+1}$\n",
        "\n",
        "   $y'(x) =\\frac{1\\cdot(x+1)-x\\cdot1}{(x+1)^2}=\\frac{1}{(x+1)^2}$\n",
        "   * $y(x) = (x+1)\\exp(x)$\n",
        "\n",
        "   $y'(x) =1\\cdot\\exp(x)+(x+1)\\exp(x)=(x+2)\\exp(x)$\n",
        "   * $y(x) = \\sin(x^2)$\n",
        "\n",
        "   $y'(x) =\\cos(x^2)\\cdot2x=2x\\cos(x^2)$\n",
        "   * $y(x) = \\exp(-2x)$\n",
        "\n",
        "   $y'(x) =\\exp(-2x)\\cdot(-2)=-2\\exp(-2x)$\n",
        "   * $y(x) = \\frac{1}{\\sin(x+1)}$\n",
        "\n",
        "   $y'(x) = \\sin(x+1)^{-1} = -(\\sin(x-1))^{-2}=-\\sin(x+1)\\cdot\\frac{d}{dx}[\\sin(x+1)]=\\frac{\\cos(x+1)}{-\\sin(x+1)^{2}}=-\\frac{\\cos(x+1)}{\\sin^2(x+1)}$\n",
        "   * $y(x) = \\sqrt{2x+1}$\n",
        "\n",
        "   $y'(x) =(2x+1)^{\\frac{1}{2}}=\\frac{1}{2}\\cdot(2x+1)^{-\\frac{1}{2}}=\\frac{1}{2}\\cdot\\frac{1}{(2x+1)^{\\frac{1}{2}}}=\\frac{1}{2\\sqrt{2x+1}}$\n",
        "   \n",
        "   "
      ],
      "metadata": {
        "id": "wdZNtablQKl-"
      }
    },
    {
      "cell_type": "markdown",
      "source": [
        "##2. Prove:\n",
        "   - $\\frac{d}{dx} (\\ln(\\sin(x))) = \\cot(x)$\n",
        "\n",
        "   $\\frac{d}{dx}(\\ln(\\sin(x)))= \\frac{1}{\\sin(x)}\\cdot\\cos(x) = \\frac{\\cos(x)}{\\sin(x)}=\\cot(x)$"
      ],
      "metadata": {
        "id": "b-mtmfo6QLmf"
      }
    },
    {
      "cell_type": "markdown",
      "source": [
        "##3.\n",
        "For $f(x) = \\cos(x)$, verify that $f''(x) = -f(x)$.\n",
        "\n",
        "$f'(x)=-\\sin(x)$\n",
        "\n",
        "$f''(x)=-\\cos(x)$"
      ],
      "metadata": {
        "id": "TlG29plKQQJX"
      }
    },
    {
      "cell_type": "markdown",
      "source": [
        "##4.\n",
        " Using de l'Hospital's Rule, find the improper limits:\n",
        "   - $\\displaystyle \\lim_{x\\to 0} \\frac{\\sin{x}}{x}$\n",
        "\n",
        "$\\displaystyle\\lim_{x\\to 0} \\frac{\\cos(x)}{1}=\\frac{1}{1}=1$\n",
        "\n",
        "   - $\\displaystyle \\lim_{x\\to \\infty} \\frac{\\ln x}{x}$\n",
        "\n",
        "$\\displaystyle \\lim_{x \\to \\infty}\\frac{\\frac{1}{x}}{1}= \\frac{1}{x}$ as $\\frac{1}{x}$ approaches zero, the whole limit is approaches zero too:\n",
        "$\\displaystyle \\lim_{x \\to \\infty}\\frac{\\ln x}{x}=0$\n",
        "\n",
        "\n",
        "   - $\\displaystyle \\lim_{x\\to \\infty} \\frac{\\exp(x)}{x}$\n",
        "\n",
        "$\\displaystyle \\lim_{x \\to \\infty}\\frac{e^x}{1}=e^x$ as $e^x$ approaches infinity, the whole limit is approaches infinity too: $\\displaystyle \\lim_{x\\to \\infty} \\frac{\\exp(x)}{x}=\\infty$"
      ],
      "metadata": {
        "id": "gP5iRH2BQSO1"
      }
    }
  ]
}