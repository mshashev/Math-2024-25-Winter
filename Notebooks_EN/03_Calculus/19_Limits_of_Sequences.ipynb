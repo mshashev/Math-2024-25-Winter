{
  "nbformat": 4,
  "nbformat_minor": 0,
  "metadata": {
    "colab": {
      "provenance": []
    },
    "kernelspec": {
      "name": "python3",
      "display_name": "Python 3"
    },
    "language_info": {
      "name": "python"
    }
  },
  "cells": [
    {
      "cell_type": "markdown",
      "source": [
        "## 19. Limits of Sequences\n",
        "\n",
        "1. Calculate:\n",
        "   - $\\displaystyle \\lim_{n \\to \\infty} \\frac{n^2 + 3n}{2 n^2 - 2n}$\n",
        "\n",
        "   - $\\displaystyle \\lim_{n \\to \\infty} \\frac{(2n+3)^3}{n^3-1}$\n",
        "\n",
        "2. Prove using the squeeze theorem:\n",
        "   - $\\displaystyle\\lim_{n \\to \\infty} \\frac{\\sin(n)}{n}$\n",
        "\n",
        "4. Find the limit of the sequence:\n",
        "   - $a_n = (1+\\frac{1}{n})^n$"
      ],
      "metadata": {
        "id": "QZ0q7Ij8yyVX"
      }
    },
    {
      "cell_type": "markdown",
      "source": [
        "#1. Calculate:\n",
        "   - $\\displaystyle \\lim_{n \\to \\infty} \\frac{n^2 + 3n}{2 n^2 - 2n}$\n",
        "\n",
        "###Step 1:\n",
        "Factor out the highest power of  in both the numerator and the denominator.\n",
        "\n",
        "The highest power of  in both the numerator and denominator is $n^2$ . Divide through by $n^2$ :\n",
        "\n",
        "$\\displaystyle \\lim_{n \\to \\infty} \\frac{\\frac{n^2}{n^2}+\\frac{3n}{n^2}}{\\frac{2n^2}{n^2}-\\frac{2n}{n^2}}= \\frac{1+\\frac{3}{n}}{2-\\frac{2}{n}}$\n",
        "\n",
        "###Step 2:\n",
        "Take the limit as $\\displaystyle{n \\to \\infty}$.\n",
        "\n",
        "As , the terms $\\frac{3}{n}$ and $\\frac{2}{n}$ approach 0. This simplifies the expression to:\n",
        "\n",
        "$\\displaystyle \\lim_{n \\to \\infty}= \\frac{1+0}{2-0}=\\frac{1}{2}$\n",
        "\n",
        "### Answer is $\\frac{1}{2}$\n",
        "\n",
        "\n",
        "---\n",
        "\n",
        "\n",
        "\n",
        "\n",
        "- $\\displaystyle \\lim_{n \\to \\infty} \\frac{(2n+3)^3}{n^3-1}$\n",
        "\n",
        "###Step 1:\n",
        " Expand the numerator $(2n+3)^3 \\;as\\; (a+b)^3=(a^3+3a^2b+3ab^2+b^3)\\quad\\Rightarrow\\quad (2n+3)^3=(8n^3+3\\cdot (2n)^2\\cdot3+3\\cdot2n\\cdot9+27)=(8n^3+36n^2+54n+27)$\n",
        "\n",
        "###Now we have:\n",
        " $\\displaystyle \\lim{n \\to \\infty}\\frac{(8n^3+36n^2+54n+27)}{n^3-1}$\n",
        "\n",
        "###Step 2:\n",
        " Factor out $n^3$ from both numerator and denominator\n",
        "\n",
        "To simplify, divide the numerator and denominator by $n^3$ :\n",
        "\n",
        "$\\displaystyle \\lim{n \\to \\infty} \\frac{\\frac{8n^3}{n^3}+\\frac{36n^2}{n^3}+\\frac{54n}{n^3}+\\frac{27}{n^3}}{\\frac{n^3}{n^3}-\\frac{1}{n^3}}=\\frac{8+\\frac{36}{n}+\\frac{54}{n^2}+\\frac{27}{n^3}}{1-\\frac{1}{n^3}}$\n",
        "\n",
        "###Step 3:\n",
        "Take the limit as $\\displaystyle{n \\to \\infty}$\n",
        "\n",
        "As , the terms $\\frac{36}{n},\\;\\frac{54}{n^2},\\;\\frac{27}{n^3},\\;\\frac{1}{n^3}$ all approach 0. This simplifies the expression to:\n",
        "\n",
        "$\\displaystyle\\lim{n \\to \\infty} \\frac{8+0+0+0}{1-0}=\\frac{8}{1}=8$\n",
        "\n",
        "###Answer is 8\n",
        "\n",
        "\n",
        "\n",
        "\n",
        "\n"
      ],
      "metadata": {
        "id": "0ddZNg5YzA94"
      }
    },
    {
      "cell_type": "markdown",
      "source": [
        "#2. Prove using the squeeze theorem:\n",
        "   - $\\displaystyle\\lim_{n \\to \\infty} \\frac{\\sin(n)}{n}$\n",
        "\n",
        "###Step 1: Bound\n",
        "\n",
        "The sine function is bounded for all real numbers:\n",
        "\n",
        "$-1\\le \\sin(n)\\le1$\n",
        "\n",
        "Dividing through by n (which is positive for n>0 ):\n",
        "\n",
        "$-\\frac{1}{n}\\le\\frac{\\sin(n)}{n}\\le\\frac{1}{n}$\n",
        "\n",
        "###Step 2: Analyze the bounds\n",
        "\n",
        "As $\\displaystyle{n \\to \\infty}$, both $-\\frac{1}{n}$  and $\\frac{1}{n}$ approach 0:\n",
        "\n",
        "$\\displaystyle\\lim_{n \\to \\infty}-\\frac{1}{n}=0\\quad and \\quad \\displaystyle\\lim_{n \\to \\infty}\\frac{1}{n}=0$\n",
        "\n",
        "Thus, the term $\\frac{\\sin(n)}{n}$ is squeezed between two functions that both converge to 0.\n",
        "\n",
        "###Step 3: Apply the Squeeze Theorem\n",
        "\n",
        "By the Squeeze Theorem, since:\n",
        "\n",
        "$-\\frac{1}{n}\\le\\frac{\\sin(n)}{n}\\le\\frac{1}{n}$\n",
        "\n",
        "and both bounds approach 0 as $\\displaystyle{n \\to \\infty}$ , it follows that:\n",
        "\n",
        "\n",
        "$\\displaystyle\\lim_{n \\to \\infty} \\frac{\\sin(n)}{n}=0$\n",
        "\n",
        "###Answer is 0\n",
        "\n",
        "\n",
        "\n",
        "\n"
      ],
      "metadata": {
        "id": "dSlmNwb5zEEv"
      }
    }
  ]
}
