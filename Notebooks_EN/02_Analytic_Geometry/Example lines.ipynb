{
  "nbformat": 4,
  "nbformat_minor": 0,
  "metadata": {
    "colab": {
      "provenance": []
    },
    "kernelspec": {
      "name": "python3",
      "display_name": "Python 3"
    },
    "language_info": {
      "name": "python"
    }
  },
  "cells": [
    {
      "cell_type": "markdown",
      "source": [
        "# Line or whatever subject\n",
        "\n",
        "Write notes on your own! In each geometry folder make a separate file. Use ChatGPT to generate notes based on list of topics:\n",
        "\n",
        "\tAnalytical Geometry\n",
        "\n",
        "\tLines\n",
        "\tTypes of line equations in the plane.\n",
        "\tGeneral equation of a line.\n",
        "\tCanonical equation of a line.\n",
        "\tLine equation in intercept form on the coordinate axes.\n",
        "\tLine equation in slope form.\n",
        "\tLine equation passing through a given point in a given direction.\n",
        "\tLine equation passing through two given points.\n",
        "\tRelative positions of lines in the plane.\n",
        "\tIntersection of two lines.\n",
        "\tAngle between two lines.\n",
        "\tConditions for parallelism and perpendicularity of two lines.\n",
        "\n",
        "\tPlanes\n",
        "\tPlanes in space.\n",
        "\tVector equation of a plane.\n",
        "\tGeneral equation of a plane.\n",
        "\tPlane equation passing through three points.\n",
        "\tPlane equation in intercept form on the coordinate axes.\n",
        "\tSpecial cases of plane positioning.\n",
        "\tAngle between two planes.\n",
        "\tConditions for parallelism and perpendicularity of two planes.\n",
        "\tLine in space.\n",
        "\tTypes of line equations in space.\n",
        "\tRelative positions of a line and a plane.\n",
        "\tRelative positions of two lines.\n",
        "\tAngle between a line and a plane.\n",
        "\n",
        "\tSecond-Order Curves\n",
        "\tCanonical equations of the circle, ellipse, hyperbola, and parabola.\n",
        "\tEquations of second-order curves with a shifted center.\n",
        "\tReduction of the general second-order curve equation to canonical form.\n",
        "\n",
        "\tSecond-Order Surfaces\n",
        "\tGeneral equations of the ellipsoid, sphere, and hyperboloid.\n",
        "\tRotational surfaces.\n"
      ],
      "metadata": {
        "id": "SVa9rLOXgzJe"
      }
    },
    {
      "cell_type": "markdown",
      "source": [
        "## Magic formula for ChatGPT\n",
        "\n",
        "**Ask ChatpGPT from OpenAI, Cloude, Full Gemini (don't use Gemini here because it is too small model to handle it):**\n",
        "\n",
        "\n",
        "\n",
        "> Please generate me markdown code academic notes, with plenty of equations (harvard student notes!) for the given list of topics below. As I need it for colab and github make sure you give all equations and math formula using $...$ and $$...$$.\n",
        "\n",
        "List of topics to cover:\n",
        "\n",
        "Types of line equations in the plane.\n",
        "General equation of a line.\n",
        "Canonical equation of a line.\n",
        "Line equation in intercept form on the coordinate axes.\n",
        "Line equation in slope form.\n",
        "Line equation passing through a given point in a given direction.\n",
        "Line equation passing through two given points.\n",
        "Relative positions of lines in the plane.\n",
        "Intersection of two lines.\n",
        "Angle between two lines.\n",
        "Conditions for parallelism and perpendicularity of two lines.\n",
        "\n",
        "\n",
        "\n"
      ],
      "metadata": {
        "id": "5SDlikNRhas0"
      }
    },
    {
      "cell_type": "markdown",
      "source": [],
      "metadata": {
        "id": "YBha9MC0howb"
      }
    },
    {
      "cell_type": "code",
      "execution_count": null,
      "metadata": {
        "colab": {
          "base_uri": "https://localhost:8080/"
        },
        "id": "-IWVfobGgyjY",
        "outputId": "efec93f1-b0ca-47ae-c69b-df9b6f27e33d"
      },
      "outputs": [
        {
          "output_type": "execute_result",
          "data": {
            "text/plain": [
              "5"
            ]
          },
          "metadata": {},
          "execution_count": 1
        }
      ],
      "source": [
        "2+3\n"
      ]
    },
    {
      "cell_type": "markdown",
      "source": [
        "# Exercies copied from github markdowns!\n",
        "\n",
        "(that are no openable in colab!) We like everything in one place, so visit your github directly in browser and just enter edit and copy markdown code."
      ],
      "metadata": {
        "id": "6-kVkPFog8NZ"
      }
    },
    {
      "cell_type": "markdown",
      "source": [
        "# Solutions\n",
        "\n",
        "Text..."
      ],
      "metadata": {
        "id": "3wgcdwT5hFQH"
      }
    },
    {
      "cell_type": "code",
      "source": [],
      "metadata": {
        "id": "LqItIWt0g7mb"
      },
      "execution_count": null,
      "outputs": []
    },
    {
      "cell_type": "markdown",
      "source": [
        "#$1)$\n",
        "\n",
        "The line passes through points\n",
        "А\n",
        "(\n",
        "1\n",
        ",\n",
        "2\n",
        ")\n",
        " and\n",
        "Б\n",
        "(\n",
        "3\n",
        ",\n",
        "4\n",
        ")\n",
        ". Find the equation of the line.\n",
        "\n",
        "1. Find the slope (m):\n",
        "\n",
        "$y-y_1=m\\cdot(x-x_1),\\quad y-2=1\\cdot(x-1), \\quad$\n",
        "#$y=x+1$"
      ],
      "metadata": {
        "id": "Yx4L8GR1vbwW"
      }
    },
    {
      "cell_type": "markdown",
      "source": [
        "#$2)$\n",
        "The line passes through point\n",
        "А\n",
        "(\n",
        "1\n",
        ",\n",
        "2\n",
        ")\n",
        " and is parallel to the line\n",
        "y\n",
        "=\n",
        "2\n",
        "x\n",
        "+\n",
        "3\n",
        ". Find the equation of the line\n",
        "\n",
        "Since the lines are parallel, they have the same slope.\n",
        "\n",
        "$m=2 \\quad\\Rightarrow \\quad y-y_1=m\\cdot(x-x_1),\\quad y-2=2\\cdot(x-1), \\quad y=2x-2+2,\\quad y=2x$"
      ],
      "metadata": {
        "id": "jKpLjYg0vdTJ"
      }
    },
    {
      "cell_type": "markdown",
      "source": [
        "#$3)$\n",
        "\n",
        "The line passes through point\n",
        "А\n",
        "(\n",
        "1\n",
        ",\n",
        "2\n",
        ")\n",
        " and is perpendicular to the line\n",
        "y\n",
        "=\n",
        "2\n",
        "x\n",
        "+\n",
        "3\n",
        ". Find the equation of the line.\n",
        "\n",
        "Perpendicular lines have slopes that are negative reciprocals of each other.\n",
        "\n",
        "$m=2\\;(as\\;we\\;want\\;to\\;find\\;the\\;perpendicular)\\quad\\Rightarrow\\quad m=-\\frac{1}{2}$\n",
        "\n",
        "$y-y_1=m\\cdot(x-x_1),\\quad y-2=-\\frac{1}{2}\\cdot(x-1)|\\cdot2,\\quad 2y-4=-1\\cdot(x-1),\\quad 2y=-x+1+4,\\quad x+2y=5$"
      ],
      "metadata": {
        "id": "iuArD889vfqz"
      }
    },
    {
      "cell_type": "markdown",
      "source": [
        "#$4)$\n",
        "\n",
        "We have two lines\n",
        "y\n",
        "=\n",
        "2\n",
        "x\n",
        "+\n",
        "3\n",
        " and\n",
        "y\n",
        "=\n",
        "3\n",
        "x\n",
        "+\n",
        "2\n",
        ". Find the intersection point of these lines and calculate the angle between them.\n",
        "\n",
        "To find the intersection point, we need to solve the system of equations:\n",
        "\n",
        "$\\begin{cases}y=2x+3 \\\\ y=3x+2\\end{cases} let's\\;equate \\quad\\Rightarrow\\quad2x+3=3x+2\\quad\\Rightarrow\\quad1=x\\quad\\Rightarrow\\quad$\n",
        "##$x=1 $\n",
        "$y=2\\cdot 1 +3\\quad\\Rightarrow\\quad y=5\\quad\\Rightarrow\\quad$\n",
        "###$intersection(1,5)$\n",
        "\n",
        "$m_1=2\\\\m_2=3 $\n",
        "\n",
        "$\\tan\\gamma=|{\\frac{m_2-m_1}{1+m_1\\cdot m_2}}|=|\\frac{3-2}{1+2\\cdot3}|=|\\frac{1}{7}|=\\frac{1}{7}$\n",
        "\n",
        "###$\\arctan(\\frac{1}{7})=8.13^0$"
      ],
      "metadata": {
        "id": "3_u1e4s3vgIk"
      }
    },
    {
      "cell_type": "markdown",
      "source": [
        "#$5)$\n",
        "\n",
        "Write the equation of the line passing through point\n",
        "А\n",
        "(\n",
        "1\n",
        ",\n",
        "2\n",
        ")\n",
        " and parallel to the vector\n",
        "v\n",
        "→\n",
        "=\n",
        "[\n",
        "2\n",
        ",\n",
        "3\n",
        "]\n",
        ".\n",
        "\n",
        "1. Find the slope of the line:\n",
        "\n",
        "$m=\\frac{\\Delta y}{\\Delta x}=\\frac{3}{2}=1.5$\n",
        "\n",
        "$y-y_1=m\\cdot(x-x_1),\\quad y-2=1.5(x-1), \\quad y=1.5x-1.5+2,$\n",
        "###$\\quad y=1.5x+0.5$"
      ],
      "metadata": {
        "id": "zxyuxwRvvgi-"
      }
    },
    {
      "cell_type": "markdown",
      "source": [
        "#$6)$\n",
        "\n",
        "We have the line\n",
        "y\n",
        "=\n",
        "2\n",
        "x\n",
        "+\n",
        "3\n",
        ". Find an example of a line perpendicular and parallel to it.\n",
        "\n",
        "\n",
        "Parallel line has the same slope:\n",
        "###$y=2x+7$\n",
        "\n",
        "perpendicular has a negative reciprocal slope:\n",
        "\n",
        "$m=-\\frac{1}{2}\\\\$\n",
        "\n",
        "###$y=-\\frac{1}{2}\\cdot x -4$"
      ],
      "metadata": {
        "id": "fnfmbUEuv-_v"
      }
    },
    {
      "cell_type": "markdown",
      "source": [
        "#$7)$\n",
        "\n",
        "We have the line\n",
        "y\n",
        "=\n",
        "2\n",
        "x\n",
        "+\n",
        "3\n",
        " and point\n",
        "А\n",
        "(\n",
        "1\n",
        ",\n",
        "2\n",
        ")\n",
        ". Find the distance from point\n",
        "А\n",
        " to the line.\n",
        "\n",
        " $Distance\\;=\\frac{|Ax+By+C|}{\\sqrt{A^2+B^2}} where\\;|Ax+By+C|\\;is\\;the\\;equation\\;of\\;the\\;line$\n",
        "\n",
        " $y=2x-3,\\quad -2x+y-3=0, A=-2,\\quad B=1\\quad C=-3$\n",
        "\n",
        " $Distance\\;=\\frac{|-2\\cdot1+1\\cdot2+(-3)|}{\\sqrt{-2^2+1^2}}=\\frac{|-2+2-3|}{\\sqrt{5}}=\\frac{3}{\\sqrt{5}}=$\n",
        "\n",
        "##$=\\frac{3\\sqrt{5}}{5}$"
      ],
      "metadata": {
        "id": "b_H9EW1ZwBm5"
      }
    },
    {
      "cell_type": "markdown",
      "source": [
        "#$8)$\n",
        "\n",
        "The line intersects the coordinate axes at points\n",
        "А\n",
        "(\n",
        "2\n",
        ",\n",
        "0\n",
        ")\n",
        " and\n",
        "Б\n",
        "(\n",
        "0\n",
        ",\n",
        "3\n",
        ")\n",
        ". Find the equation of the line.\n",
        "\n",
        "###$\\frac{x}{a}+\\frac{y}{b}=1$\n",
        "\n",
        "The line intersects the x-axis at A(2, 0), meaning the x-intercept is 2.\n",
        "The line intersects the y-axis at B(0, 3), meaning the y-intercept is 3.\n",
        "\n",
        "###$\\frac{x}{2}+\\frac{y}{3}=1$"
      ],
      "metadata": {
        "id": "hzARa_zwwERy"
      }
    },
    {
      "cell_type": "markdown",
      "source": [
        "#$9)$\n",
        "\n",
        "Calculate the angle between the line\n",
        "у\n",
        "=\n",
        "х\n",
        "+\n",
        "3\n",
        " and the\n",
        "Оx\n",
        "\n",
        " axis.\n",
        "\n",
        "\n",
        " The slope of the line y = x + 3 is 1. The slope represents the tangent of the angle the line makes with the positive x-axis.\n",
        "\n",
        "Therefore, we can use the arctangent function to find the angle:\n",
        "\n",
        "###$\\arctan(1)=45^0$"
      ],
      "metadata": {
        "id": "fbXmgo3MwIWw"
      }
    },
    {
      "cell_type": "markdown",
      "source": [
        "#$10)$\n",
        "\n",
        "Provide a vector perpendicular to the line\n",
        "x\n",
        "+\n",
        "y\n",
        "+\n",
        "1\n",
        "=\n",
        "0\n",
        ".\n",
        "\n",
        "perpendicular has a negative reciprocal slope:\n",
        "\n",
        "$m=-\\frac{1}{1}=-1\\quad\\Rightarrow\\quad -x-y+1=0\\quad\\Rightarrow\\quad y=x-1 $\n",
        "\n",
        "###$(1,1)$"
      ],
      "metadata": {
        "id": "Z3TWz-p1wLCZ"
      }
    }
  ]
}
