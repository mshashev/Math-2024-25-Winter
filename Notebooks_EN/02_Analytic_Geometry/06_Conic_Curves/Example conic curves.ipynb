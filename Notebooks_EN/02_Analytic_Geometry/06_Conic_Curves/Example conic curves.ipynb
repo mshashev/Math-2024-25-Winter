{
  "nbformat": 4,
  "nbformat_minor": 0,
  "metadata": {
    "colab": {
      "provenance": []
    },
    "kernelspec": {
      "name": "python3",
      "display_name": "Python 3"
    },
    "language_info": {
      "name": "python"
    }
  },
  "cells": [
    {
      "cell_type": "markdown",
      "source": [
        "## Tasks related to equations of lines on a plane\n",
        "\n",
        "**Visualize each task.** - Python, GeoGebra, Wolfram Alpha, ...\n",
        "\n",
        "* The line passes through points $A(1, 2)$ and $B(3, 4)$. Find the equation of the line.\n",
        "* The line passes through point $A(1, 2)$ and is parallel to the line $y = 2x + 3$. Find the equation of the line.\n",
        "* The line passes through point $A(1, 2)$ and is perpendicular to the line $y = 2x + 3$. Find the equation of the line.\n",
        "* We have two lines $y = 2x + 3$ and $y = 3x + 2$. Find the intersection point of these lines and calculate the angle between them.\n",
        "* Write the equation of the line passing through point $A(1, 2)$ and parallel to the vector $\\vec{v} = [2, 3]$.\n",
        "* We have the line $y = 2x + 3$. Find an example of a line perpendicular and parallel to it.\n",
        "* We have the line $y = 2x + 3$ and point $A(1, 2)$. Find the distance from point $A$ to the line.\n",
        "* The line intersects the coordinate axes at points $A(2, 0)$ and $B(0, 3)$. Find the equation of the line.\n",
        "* Calculate the angle between the line $y = x + 3$ and the $Ox$ axis.\n",
        "* Provide a vector perpendicular to the line $x + y + 1 = 0$.\n",
        "  "
      ],
      "metadata": {
        "id": "v-5lawiFwOGo"
      }
    },
    {
      "cell_type": "markdown",
      "source": [
        "#$1)$\n",
        "\n",
        "The line passes through points\n",
        "А\n",
        "(\n",
        "1\n",
        ",\n",
        "2\n",
        ")\n",
        " and\n",
        "Б\n",
        "(\n",
        "3\n",
        ",\n",
        "4\n",
        ")\n",
        ". Find the equation of the line.\n",
        "\n",
        "1. Find the slope (m):\n",
        "\n",
        "$y-y_1=m\\cdot(x-x_1),\\quad y-2=1\\cdot(x-1), \\quad$\n",
        "#$y=x+1$"
      ],
      "metadata": {
        "id": "ITFbz4EovgpN"
      }
    },
    {
      "cell_type": "markdown",
      "source": [
        "#$2)$\n",
        "The line passes through point\n",
        "А\n",
        "(\n",
        "1\n",
        ",\n",
        "2\n",
        ")\n",
        " and is parallel to the line\n",
        "y\n",
        "=\n",
        "2\n",
        "x\n",
        "+\n",
        "3\n",
        ". Find the equation of the line\n",
        "\n",
        "Since the lines are parallel, they have the same slope.\n",
        "\n",
        "$m=2 \\quad\\Rightarrow \\quad y-y_1=m\\cdot(x-x_1),\\quad y-2=2\\cdot(x-1), \\quad y=2x-2+2,\\quad y=2x$"
      ],
      "metadata": {
        "id": "vrnQiHlwvj74"
      }
    },
    {
      "cell_type": "markdown",
      "source": [
        "#$3)$\n",
        "\n",
        "The line passes through point\n",
        "А\n",
        "(\n",
        "1\n",
        ",\n",
        "2\n",
        ")\n",
        " and is perpendicular to the line\n",
        "y\n",
        "=\n",
        "2\n",
        "x\n",
        "+\n",
        "3\n",
        ". Find the equation of the line.\n",
        "\n",
        "Perpendicular lines have slopes that are negative reciprocals of each other.\n",
        "\n",
        "$m=2\\;(as\\;we\\;want\\;to\\;find\\;the\\;perpendicular)\\quad\\Rightarrow\\quad m=-\\frac{1}{2}$\n",
        "\n",
        "$y-y_1=m\\cdot(x-x_1),\\quad y-2=-\\frac{1}{2}\\cdot(x-1)|\\cdot2,\\quad 2y-4=-1\\cdot(x-1),\\quad 2y=-x+1+4,\\quad x+2y=5$"
      ],
      "metadata": {
        "id": "ozYPixbivny4"
      }
    },
    {
      "cell_type": "markdown",
      "source": [
        "#$4)$\n",
        "\n",
        "We have two lines\n",
        "y\n",
        "=\n",
        "2\n",
        "x\n",
        "+\n",
        "3\n",
        " and\n",
        "y\n",
        "=\n",
        "3\n",
        "x\n",
        "+\n",
        "2\n",
        ". Find the intersection point of these lines and calculate the angle between them.\n",
        "\n",
        "To find the intersection point, we need to solve the system of equations:\n",
        "\n",
        "$\\begin{cases}y=2x+3 \\\\ y=3x+2\\end{cases} let's\\;equate \\quad\\Rightarrow\\quad2x+3=3x+2\\quad\\Rightarrow\\quad1=x\\quad\\Rightarrow\\quad$\n",
        "##$x=1 $\n",
        "$y=2\\cdot 1 +3\\quad\\Rightarrow\\quad y=5\\quad\\Rightarrow\\quad$\n",
        "###$intersection(1,5)$\n",
        "\n",
        "$m_1=2\\\\m_2=3 $\n",
        "\n",
        "$\\tan\\gamma=|{\\frac{m_2-m_1}{1+m_1\\cdot m_2}}|=|\\frac{3-2}{1+2\\cdot3}|=|\\frac{1}{7}|=\\frac{1}{7}$\n",
        "\n",
        "###$\\arctan(\\frac{1}{7})=8.13^0$"
      ],
      "metadata": {
        "id": "ibvKbq5RvsTv"
      }
    },
    {
      "cell_type": "markdown",
      "source": [
        "#$5)$\n",
        "\n",
        "Write the equation of the line passing through point\n",
        "А\n",
        "(\n",
        "1\n",
        ",\n",
        "2\n",
        ")\n",
        " and parallel to the vector\n",
        "v\n",
        "→\n",
        "=\n",
        "[\n",
        "2\n",
        ",\n",
        "3\n",
        "]\n",
        ".\n",
        "\n",
        "1. Find the slope of the line:\n",
        "\n",
        "$m=\\frac{\\Delta y}{\\Delta x}=\\frac{3}{2}=1.5$\n",
        "\n",
        "$y-y_1=m\\cdot(x-x_1),\\quad y-2=1.5(x-1), \\quad y=1.5x-1.5+2,$\n",
        "###$\\quad y=1.5x+0.5$"
      ],
      "metadata": {
        "id": "AOiCdWVyvwNd"
      }
    },
    {
      "cell_type": "markdown",
      "source": [
        "#$6)$\n",
        "\n",
        "We have the line\n",
        "y\n",
        "=\n",
        "2\n",
        "x\n",
        "+\n",
        "3\n",
        ". Find an example of a line perpendicular and parallel to it.\n",
        "\n",
        "\n",
        "Parallel line has the same slope:\n",
        "###$y=2x+7$\n",
        "\n",
        "perpendicular has a negative reciprocal slope:\n",
        "\n",
        "$m=-\\frac{1}{2}\\\\$\n",
        "\n",
        "###$y=-\\frac{1}{2}\\cdot x -4$"
      ],
      "metadata": {
        "id": "1OXhfGpMvzWu"
      }
    },
    {
      "cell_type": "markdown",
      "source": [
        "#$7)$\n",
        "\n",
        "We have the line\n",
        "y\n",
        "=\n",
        "2\n",
        "x\n",
        "+\n",
        "3\n",
        " and point\n",
        "А\n",
        "(\n",
        "1\n",
        ",\n",
        "2\n",
        ")\n",
        ". Find the distance from point\n",
        "А\n",
        " to the line.\n",
        "\n",
        " $Distance\\;=\\frac{|Ax+By+C|}{\\sqrt{A^2+B^2}} where\\;|Ax+By+C|\\;is\\;the\\;equation\\;of\\;the\\;line$\n",
        "\n",
        " $y=2x-3,\\quad -2x+y-3=0, A=-2,\\quad B=1\\quad C=-3$\n",
        "\n",
        " $Distance\\;=\\frac{|-2\\cdot1+1\\cdot2+(-3)|}{\\sqrt{-2^2+1^2}}=\\frac{|-2+2-3|}{\\sqrt{5}}=\\frac{3}{\\sqrt{5}}=$\n",
        "\n",
        "##$=\\frac{3\\sqrt{5}}{5}$"
      ],
      "metadata": {
        "id": "kKGTemITv2L7"
      }
    },
    {
      "cell_type": "markdown",
      "source": [
        "#$8)$\n",
        "\n",
        "The line intersects the coordinate axes at points\n",
        "А\n",
        "(\n",
        "2\n",
        ",\n",
        "0\n",
        ")\n",
        " and\n",
        "Б\n",
        "(\n",
        "0\n",
        ",\n",
        "3\n",
        ")\n",
        ". Find the equation of the line.\n",
        "\n",
        "###$\\frac{x}{a}+\\frac{y}{b}=1$\n",
        "\n",
        "The line intersects the x-axis at A(2, 0), meaning the x-intercept is 2.\n",
        "The line intersects the y-axis at B(0, 3), meaning the y-intercept is 3.\n",
        "\n",
        "###$\\frac{x}{2}+\\frac{y}{3}=1$"
      ],
      "metadata": {
        "id": "unztLJR5v5n_"
      }
    },
    {
      "cell_type": "markdown",
      "source": [
        "#$9)$\n",
        "\n",
        "Calculate the angle between the line\n",
        "у\n",
        "=\n",
        "х\n",
        "+\n",
        "3\n",
        " and the\n",
        "Оx\n",
        "\n",
        " axis.\n",
        "\n",
        "\n",
        " The slope of the line y = x + 3 is 1. The slope represents the tangent of the angle the line makes with the positive x-axis.\n",
        "\n",
        "Therefore, we can use the arctangent function to find the angle:\n",
        "\n",
        "###$\\arctan(1)=45^0$"
      ],
      "metadata": {
        "id": "usrAVRplv9Pc"
      }
    },
    {
      "cell_type": "markdown",
      "source": [
        "#$10)$\n",
        "\n",
        "Provide a vector perpendicular to the line\n",
        "x\n",
        "+\n",
        "y\n",
        "+\n",
        "1\n",
        "=\n",
        "0\n",
        ".\n",
        "\n",
        "perpendicular has a negative reciprocal slope:\n",
        "\n",
        "$m=-\\frac{1}{1}=-1\\quad\\Rightarrow\\quad -x-y+1=0\\quad\\Rightarrow\\quad y=x-1 $\n",
        "\n",
        "###$(1,1)$"
      ],
      "metadata": {
        "id": "xV6QYiHJwAXw"
      }
    },
    {
      "cell_type": "markdown",
      "source": [
        "## Tasks related to conic sections\n",
        "\n",
        "**Visualize each task.** - Python, GeoGebra, Wolfram Alpha, ...\n",
        "\n",
        "* Find the equation of a circle with center at point $A(1,2)$ and radius $r=3$.\n",
        "* Find the equation of a parabola intersecting the $Ox$ axis at points $x=2$, $x=4$, and passing through point $y(3)=1$.\n",
        "* Find the center of the ellipse with the equation $x^2 + 4y^2 - 4x - 16y + 16 = 0$.\n",
        "* Find the slope ($m>0$) of the line $y=mx-5$ that is tangent to the circle with the equation $x^2 + y^2=1$.\n",
        "* Find the intersection points of the hyperbola $x^2 - y^2 = 1$ with the ellipse's line $x^2 + 4y^2 = 6$.\n",
        "* For the given hyperbola $x^2 - y^2 = 1$, find the distance between its branches."
      ],
      "metadata": {
        "id": "CzONSjQ4Bl19"
      }
    },
    {
      "cell_type": "markdown",
      "source": [
        "#$1)$\n",
        "\n",
        "The standart form of a circle equation looks like:\n",
        "\n",
        "$(x-h)^2+(y-k^2)=r^2$\n",
        "\n",
        "Where $\\;(h,k)\\;$, coordinates of the circle center\n",
        "\n",
        "$\\Rightarrow\\quad (x-1)^2+(y-2)^2=9$"
      ],
      "metadata": {
        "id": "pfjVfFwSBo8D"
      }
    },
    {
      "cell_type": "markdown",
      "source": [
        "![Снимок экрана 2024-11-26 в 22.02.55.png](data:image/png;base64,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)"
      ],
      "metadata": {
        "id": "TB5atSz3EoRN"
      }
    },
    {
      "cell_type": "markdown",
      "source": [
        "https://www.geogebra.org/calculator/dyec3mmm"
      ],
      "metadata": {
        "id": "OgxCGO2_Ertx"
      }
    },
    {
      "cell_type": "markdown",
      "source": [
        "#$2)$\n",
        "\n",
        "Standart form of parabola equation:\n",
        "\n",
        "$y=ax^2+bx+c$\n",
        "\n",
        "$x=2,\\;x=4,\\;y=(3,1)$\n",
        "\n",
        "Since the parabola intersects the x-axis at x=2 and x=4, its equation can be written in factored form as:\n",
        "\n",
        "$y=a(x-2)(x-4)\\quad\\Rightarrow\\quad a=-1$\n",
        "\n",
        "Substitute the value of a into the equation:\n",
        "\n",
        "$y=-(x-2)(x-4)\\quad\\Rightarrow\\quad y=-x^2+6x-8$"
      ],
      "metadata": {
        "id": "OcG3Q6pMEvnh"
      }
    },
    {
      "cell_type": "markdown",
      "source": [
        "#$3)$\n",
        "\n",
        "$\\frac{(x-h)^2}{a^2} + \\frac{(y-k)^2}{b^2} = 1$\n",
        "\n",
        "$(x^2 - 4x) + 4(y^2 - 4y) = -16\\quad\\Rightarrow\\quad(x^2 - 4x + 4) + 4(y^2 - 4y + 4) = -16 + 4 + 16\\quad\\Rightarrow\\quad(x - 2)^2 + 4(y - 2)^2 = 4|\\div4\\quad\\Rightarrow\\quad \\frac{(x - 2)^2}{4} + \\frac{(y - 2)^2}{1} = 1$\n",
        "\n",
        "$\\quad\\Rightarrow\\quad ellipse\\;center\\;=(2,2)$"
      ],
      "metadata": {
        "id": "vcspiRYDXMEV"
      }
    },
    {
      "cell_type": "markdown",
      "source": [
        "#$4)$\n",
        "\n",
        "Step 1: Set up the equation\n",
        "\n",
        "We know that the tangent line intersects the circle at exactly one point. So, we can substitute the equation of the line into the equation of the circle:\n",
        "\n",
        "$x^2 + (mx - 5)^2 = 1$\n",
        "\n",
        "Step 2: Expand and simplify:\n",
        "\n",
        "$x^2 + m^2x^2 - 10mx + 25 = 1\n",
        "(1+m^2)x^2 - 10mx + 24 = 0$\n",
        "\n",
        "Step 3: Use the discriminant:\n",
        "\n",
        "For a tangent line, the quadratic equation should have only one solution. This means the discriminant $(b^2 - 4ac)$ should be equal to zero.\n",
        "\n",
        "$(-10m)^2 - 4(1+m^2)(24) = 0$\n",
        "\n",
        "Step 4: Solve for m:\n",
        "\n",
        "$100m^2 - 96 - 96m^2 = 0\n",
        "4m^2 = 96\n",
        "m^2 = 24$\n",
        "\n",
        "Since we want m > 0, we take the positive square root:\n",
        "\n",
        "m = √24 = 2√6\n",
        "Therefore, the slope of the tangent line is 2√6."
      ],
      "metadata": {
        "id": "kRoAhWIgfm54"
      }
    },
    {
      "cell_type": "markdown",
      "source": [
        "#$5)$\n",
        "\n",
        "To find the intersection points, we need to solve the system of equations:\n",
        "\n",
        "Hyperbola: $x^2 - y^2 = 1$\n",
        "\n",
        "Ellipse: $x^2 + 4y^2 = 6$\n",
        "\n",
        "$\\begin{cases}x^2 - y^2 = 1 \\\\ x^2 + 4y^2 = 6\\end{cases}\\quad\\Rightarrow\\quad\\begin{cases} x^2=1+y^2 \\\\ x^2 + 4y^2 = 6\\end{cases}\\quad\\Rightarrow\\quad\\begin{cases} x^2=1+y^2 \\\\ 1+y^2+4y^2=6 \\end{cases}\\quad\\Rightarrow\\quad\\begin{cases} x^2=1+y^2 \\\\ 5y^2=5|\\div5\\end{cases}\\quad\\Rightarrow\\quad\\begin{cases} x^2=1+y^2 \\\\ y^2=1 \\end{cases}\\quad\\Rightarrow\\quad\\begin{cases} x^2=1+y^2 \\\\ y_1=1 \\\\ y_2=-1 \\end{cases}\\quad\\Rightarrow\\quad\\begin{cases} {x_1}^2=1+1^2 \\\\ {x_2}^2=1+(-1)^2 \\\\ y_1=1 \\\\ y_2=-1 \\end{cases}\\quad\\Rightarrow\\quad\\begin{cases} {x_1}^2=2 \\\\ {x_2}^2=2 \\\\ y_1=1 \\\\ y_2=-1 \\end{cases} \\quad\\Rightarrow\\quad\\begin{cases} x_1=\\pm\\sqrt2 \\\\ x_2=\\pm\\sqrt2 \\\\ y_1=1 \\\\ y_2=-1 \\end{cases}$\n",
        "\n",
        "Intersection Points: $(\\sqrt2,1)(-\\sqrt2,1)(\\sqrt2,-1)(-\\sqrt2,-1)$"
      ],
      "metadata": {
        "id": "ovaLW-D0majp"
      }
    },
    {
      "cell_type": "markdown",
      "source": [
        "#$6)$\n",
        "\n",
        "The distance between the branches of a hyperbola doesn't has a fixed value, as the branches extend infinitely."
      ],
      "metadata": {
        "id": "lyUoKBmgujIx"
      }
    }
  ]
}
