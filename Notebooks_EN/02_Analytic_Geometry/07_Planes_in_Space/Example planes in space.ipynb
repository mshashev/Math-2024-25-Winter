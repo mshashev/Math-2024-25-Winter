{
  "nbformat": 4,
  "nbformat_minor": 0,
  "metadata": {
    "colab": {
      "provenance": []
    },
    "kernelspec": {
      "name": "python3",
      "display_name": "Python 3"
    },
    "language_info": {
      "name": "python"
    }
  },
  "cells": [
    {
      "cell_type": "markdown",
      "source": [
        "## Tasks related to equations of planes in space\n",
        "\n",
        "**Visualize each task.** - Python, GeoGebra, Wolfram Alpha, ...\n",
        "\n",
        "* The plane passes through points $A(1, 2, 3)$, $B(3, 4, 5)$, and $C(2, 1, 4)$. Find the equation of the plane.\n",
        "* The plane passes through point $A(1, 2, 3)$ and is parallel to the plane $2x + 3y + 4z = 5$. Find the equation of the plane.\n",
        "* The plane passes through point $A(1, 2, 3)$ and is perpendicular to the normal vector $\\vec{n} = [2, 3, 4]$. Find the equation of the plane.\n",
        "* We have two planes $2x + 3y + 4z = 5$ and $3x + 4y + 2z = 6$. Find the line of intersection of these planes.\n",
        "* Write the equation of the plane passing through point $A(1, 2, 3)$ and parallel to vectors $\\vec{v_1} = [1, 0, 1]$ and $\\vec{v_2} = [0, 1, -1]$.\n",
        "* We have the plane $2x + 3y + 4z = 5$. Find an example of a plane parallel and perpendicular to it.\n",
        "* We have the plane $2x + 3y + 4z = 5$ and point $A(1, 2, 3)$. Find the distance from point $A$ to this plane.\n",
        "* The plane intersects the coordinate axes at points $A(2, 0, 0)$, $B(0, 3, 0)$, and $C(0, 0, 4)$. Find the equation of the plane.\n",
        "* Calculate the angle between the plane $x + y + z = 1$ and the plane $x = 0$ (i.e., the $yz$ plane).\n",
        "* Find the vector perpendicular to the plane $x + y + z = 1$."
      ],
      "metadata": {
        "id": "ukTW_0wZ-Wnd"
      }
    },
    {
      "cell_type": "markdown",
      "source": [
        "#$1)$\n",
        "\n",
        "The general equation of a plane in 3D space is given by:\n",
        "\n",
        "$Ax + By + Cz + D = 0$\n",
        "\n",
        "To find the equation of a plane, we need to find a normal vector to the plane. We can find a normal vector by taking the cross product of two vectors in the plane.\n",
        "\n",
        "$AB = (3-1, 4-2, 5-3) = (2, 2, 2)$\n",
        "\n",
        "$AC = (2-1, 1-2, 4-3) = (1, -1, 1)$\n",
        "\n",
        "$n = AB \\times AC = (2, 2, 2) \\times (1, -1, 1) = (4, 0, -4)$\n",
        "\n",
        "So, we have:\n",
        "\n",
        "$4x + 0y - 4z + D = 0$\n",
        "\n",
        "To find D, we can use any of the three points. Let's use point A(1, 2, 3):\n",
        "\n",
        "$4(1) + 0(2) - 4(3) + D = 0,\\;\\;\\;\\;4 - 12 + D = 0,\\;\\;\\;D = 8$\n",
        "\n",
        "###$4x - 4z  = -8$\n",
        "\n"
      ],
      "metadata": {
        "id": "JQrh0L5K-aXc"
      }
    },
    {
      "cell_type": "markdown",
      "source": [
        "#$2)$\n",
        "\n",
        "The normal vector of the plane $2x + 3y + 4z = 5 \\;is \\;(2, 3, 4).$\n",
        "\n",
        "Since the plane we want to find is parallel to this plane, it will have the same normal vector.\n",
        "\n",
        "$2x + 3y + 4z + D = 0$\n",
        "\n",
        "To find D, we can substitute the coordinates of point A(1, 2, 3) into the equation:\n",
        "\n",
        "$2(1) + 3(2) + 4(3) + D = 0,\\quad 2 + 6 + 12 + D = 0,\\quad D = -20$\n",
        "\n",
        "###$2x + 3y + 4z = 20$"
      ],
      "metadata": {
        "id": "jJrgl3FTAnz_"
      }
    },
    {
      "cell_type": "markdown",
      "source": [
        "#$3)$\n",
        "\n",
        "Since the plane is perpendicular to the vector n = [2, 3, 4], we can use the components of n as the coefficients A, B, and C:\n",
        "\n",
        "$2x + 3y + 4z + D = 0$\n",
        "\n",
        "To find D, we substitute the coordinates of point A(1, 2, 3) into the equation:\n",
        "\n",
        "$2(1) + 3(2) + 4(3) + D = 0,\\quad 2 + 6 + 12 + D = 0,\\quad D = -20$\n",
        "\n",
        "###$2x + 3y + 4z= 20$"
      ],
      "metadata": {
        "id": "WLJNDaOlBlL2"
      }
    },
    {
      "cell_type": "markdown",
      "source": [
        "#$4)$\n",
        "\n",
        "1)Finding a point on the line:\n",
        "\n",
        "We can set z = 0 and solve the system of equations:\n",
        "\n",
        "$\\begin{cases} 2x + 3y = 5|\\times3 \\\\ 3x + 4y = 6|\\times2 \\end{cases} \\quad\\Rightarrow\\quad \\begin{cases} 6x + 9y = 15 \\\\ 6x + 8y = 12 \\end{cases}  \\quad\\Rightarrow\\quad \\begin{cases} 6x = 15-9y \\\\ 15-9y+8y=12  \\end{cases} \\quad\\Rightarrow\\quad \\begin{cases} 6x=15-9y \\\\ -y=-3  \\end{cases} \\quad\\Rightarrow\\quad \\begin{cases} 6x=15-9y \\\\ y=3 \\end{cases}  \\quad\\Rightarrow\\quad \\begin{cases} 6x=15-9\\cdot3 \\\\ y=3 \\end{cases}  \\quad\\Rightarrow\\quad \\begin{cases} 6x=15-27 \\\\ y=3 \\end{cases}  \\quad\\Rightarrow\\quad \\begin{cases} 6x=-12 \\\\ y=3 \\end{cases}  \\quad\\Rightarrow\\quad \\begin{cases} x=-2 \\\\ y=3 \\end{cases} $\n",
        "\n",
        "Solving this system, we get x = -2 and y = 3. So, a point on the line is (-2, 3, 0).\n",
        "\n",
        "2)Finding the direction vector:\n",
        "\n",
        "$n_1 = [2, 3, 4] \\\\\n",
        "n_2 = [3, 4, 2]$\n",
        "\n",
        "$n_1\\times n_2=\\begin{bmatrix} 3\\cdot2-4\\cdot4 \\\\ 4\\cdot3-2\\cdot2 \\\\ 2\\cdot4-3\\cdot3 \\end{bmatrix} = [-10,8,-1]$\n",
        "\n",
        "$x = x_0 + at \\\\\n",
        "y = y_0 + bt \\\\\n",
        "z = z_0 + ct$\n",
        "\n",
        "Where:\n",
        "\n",
        "$(x_0, y_0, z_0)$ is the point on the line\n",
        "\n",
        "(a, b, c) is the direction vector\n",
        "t is a parameter\n",
        "\n",
        "###$x=-2-10t \\\\\n",
        "y=3+8t \\\\\n",
        "z=-t$\n",
        "\n"
      ],
      "metadata": {
        "id": "-GqI8JriFLtv"
      }
    },
    {
      "cell_type": "markdown",
      "source": [
        "#$5)$\n",
        "\n",
        "$\\vec{v_1}[1, 0, 1] \\times\\vec{v_2} [0, 1, -1] =\\begin{bmatrix} 0\\cdot-1-1\\cdot1  \\\\ 1\\cdot0-1\\cdot-1 \\\\ 1\\cdot1-0\\cdot0 \\end{bmatrix} = [-1,1,1]$.\n",
        "\n",
        "the equation of the plane becomes:\n",
        "\n",
        "$-x + y + z + D = 0,\\quad-1(1) + 1(2) + 1(3) + D = 0,\\quad D=-4$\n",
        "\n",
        "###$-x+y+z=4$"
      ],
      "metadata": {
        "id": "SRCF0ddhaq5e"
      }
    },
    {
      "cell_type": "markdown",
      "source": [
        "#$6)$\n",
        "\n",
        "\n",
        " 1. A plane parallel to $2x + 3y + 4z = 5$:\n",
        "Planes are parallel if they have the same normal vector. Thus, the equation will have the same coefficients for x, y, and z, but a different constant term.\n",
        "\n",
        "• Parallel plane: $2x + 3y + 4z = 10$\n",
        "\n",
        "\n",
        " 2. A plane perpendicular to $2x + 3y + 4z = 5$:\n",
        "Two planes are perpendicular if the dot product of their normal vectors is zero. For this plane, we need a normal vector (a, b, c) such that $(2, 3, 4) \\cdot (a, b, c) = 0$.\n",
        "\n",
        "\n",
        "$(2, 3, 4) \\cdot (a, b, c) = 2a + 3b + 4c = 0$\n",
        "\n",
        "\n",
        " • Let a = 3 and b = -2, then:\n",
        "\n",
        "$2(3) + 3(-2) + 4c = 0 \\quad \\Rightarrow \\quad 6 - 6 + 4c = 0 \\quad \\Rightarrow \\quad c = 0$\n",
        "\n",
        "• Perpendicular plane: $3x - 2y = 7$\n"
      ],
      "metadata": {
        "id": "nWIXUMPydfY6"
      }
    },
    {
      "cell_type": "markdown",
      "source": [
        "#$7)$\n",
        "\n",
        "$2𝑥+3𝑦+4𝑧=5,\\quad point  𝐴(1,2,3) $\n",
        "\n",
        "$Distance = \\frac{|Ax1 + By1 + Cz1 + D|}  {\\sqrt{(A^2 + B^2 + C^2)}}$\n",
        "\n",
        "Where:\n",
        "\n",
        "(x1, y1, z1) are the coordinates of the point\n",
        "A, B, C, and D are the coefficients of the plane equation Ax + By + Cz + D = 0\n",
        "\n",
        "\n",
        "$Distance = \\frac{|2\\cdot1 + 3\\cdot2 + 4\\cdot3 - 5|}  {\\sqrt{(2^2 + 3^2 + 4^2)}}= \\frac{|2 + 6 + 12 - 5|}  {\\sqrt{29}}=\\frac{|15|}{\\sqrt{29}}=\\frac{15\\sqrt{29}}{29}$"
      ],
      "metadata": {
        "id": "GDSeqtxrhOZF"
      }
    },
    {
      "cell_type": "markdown",
      "source": [
        "#$8)$\n",
        "\n",
        "When a plane intersects the axes at points $A(a, 0, 0), B(0, b, 0), and\\; C(0, 0, c),$ the equation of the plane can be directly written in the intercept form:\n",
        "\n",
        "$\\frac{x}{a} + \\frac{y}{b} + \\frac{z}{c} = 1$\n",
        "\n",
        "In this case, a = 2, b = 3, and c = 4. So, the equation of the plane is:\n",
        "\n",
        "$\\frac{x}{2} +\\frac{y}{3} + \\frac{z}{4}=1|\\times12 ,\\quad 6x + 4y + 3z = 12$\n",
        "\n",
        "###$6x+4y+3z-12=0$"
      ],
      "metadata": {
        "id": "1FLbVRISkLai"
      }
    },
    {
      "cell_type": "markdown",
      "source": [
        "#$9)$"
      ],
      "metadata": {
        "id": "910pTG2gmR7V"
      }
    }
  ]
}