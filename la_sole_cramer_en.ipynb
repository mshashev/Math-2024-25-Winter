{
  "cells": [
    {
      "cell_type": "markdown",
      "metadata": {
        "id": "view-in-github",
        "colab_type": "text"
      },
      "source": [
        "<a href=\"https://colab.research.google.com/github/mshashev/Math-2024-25-Winter/blob/main/la_sole_cramer_en.ipynb\" target=\"_parent\"><img src=\"https://colab.research.google.com/assets/colab-badge.svg\" alt=\"Open In Colab\"/></a>"
      ]
    },
    {
      "cell_type": "markdown",
      "metadata": {
        "id": "Krc9ScOtIJrZ"
      },
      "source": [
        "# Cramer's Rule - Examples for 2x2, 3x3, and 4x4 Systems\n",
        "\n",
        "Cramer's rule is used only when the number of equations is equal to the number of unknowns. In other words, the coefficient matrix must be a square matrix.\n",
        "\n",
        "**These formulas are used only** when the **determinant** of the coefficient matrix is **non-zero**. Otherwise, the system of equations is either inconsistent or indeterminate.\n",
        "\n",
        "## 2x2 System of Equations\n",
        "\n",
        "Consider a system of two equations with two unknowns:\n",
        "\n",
        "$$\n",
        "\\begin{cases}\n",
        "a_{11}x_1 + a_{12}x_2 = b_1 \\\\\n",
        "a_{21}x_1 + a_{22}x_2 = b_2\n",
        "\\end{cases}\n",
        "$$\n",
        "\n",
        "Cramer's rule for the unknowns $ x_1 $ and $ x_2 $ is as follows:\n",
        "\n",
        "$$\n",
        "x_1 = \\frac{\\det(A_1)}{\\det(A)} \\quad \\text{and} \\quad x_2 = \\frac{\\det(A_2)}{\\det(A)}\n",
        "$$\n",
        "\n",
        "Where:\n",
        "\n",
        "$$\n",
        "\\det(A) =\n",
        "\\begin{vmatrix}\n",
        "a_{11} & a_{12} \\\\\n",
        "a_{21} & a_{22}\n",
        "\\end{vmatrix}\n",
        "= a_{11}a_{22} - a_{12}a_{21}\n",
        "$$\n",
        "\n",
        "$$\n",
        "\\det(A_1) =\n",
        "\\begin{vmatrix}\n",
        "b_1 & a_{12} \\\\\n",
        "b_2 & a_{22}\n",
        "\\end{vmatrix}\n",
        "= b_1a_{22} - a_{12}b_2\n",
        "$$\n",
        "\n",
        "$$\n",
        "\\det(A_2) =\n",
        "\\begin{vmatrix}\n",
        "a_{11} & b_1 \\\\\n",
        "a_{21} & b_2\n",
        "\\end{vmatrix}\n",
        "= a_{11}b_2 - b_1a_{21}\n",
        "$$\n",
        "\n",
        "## 3x3 System of Equations\n",
        "\n",
        "Consider a system of three equations with three unknowns:\n",
        "\n",
        "$$\n",
        "\\begin{cases}\n",
        "a_{11}x_1 + a_{12}x_2 + a_{13}x_3 = b_1 \\\\\n",
        "a_{21}x_1 + a_{22}x_2 + a_{23}x_3 = b_2 \\\\\n",
        "a_{31}x_1 + a_{32}x_2 + a_{33}x_3 = b_3\n",
        "\\end{cases}\n",
        "$$\n",
        "\n",
        "Cramer's rule for $ x_1 $, $ x_2 $, and $ x_3 $:\n",
        "\n",
        "$$\n",
        "x_1 = \\frac{\\det(A_1)}{\\det(A)} \\quad x_2 = \\frac{\\det(A_2)}{\\det(A)} \\quad x_3 = \\frac{\\det(A_3)}{\\det(A)}\n",
        "$$\n",
        "\n",
        "Where:\n",
        "\n",
        "$$\n",
        "\\det(A) =\n",
        "\\begin{vmatrix}\n",
        "a_{11} & a_{12} & a_{13} \\\\\n",
        "a_{21} & a_{22} & a_{23} \\\\\n",
        "a_{31} & a_{32} & a_{33}\n",
        "\\end{vmatrix}\n",
        "$$\n",
        "\n",
        "$$\n",
        "\\det(A_1) =\n",
        "\\begin{vmatrix}\n",
        "b_1 & a_{12} & a_{13} \\\\\n",
        "b_2 & a_{22} & a_{23} \\\\\n",
        "b_3 & a_{32} & a_{33}\n",
        "\\end{vmatrix}\n",
        "$$\n",
        "\n",
        "$$\n",
        "\\det(A_2) =\n",
        "\\begin{vmatrix}\n",
        "a_{11} & b_1 & a_{13} \\\\\n",
        "a_{21} & b_2 & a_{23} \\\\\n",
        "a_{31} & b_3 & a_{33}\n",
        "\\end{vmatrix}\n",
        "$$\n",
        "\n",
        "$$\n",
        "\\det(A_3) =\n",
        "\\begin{vmatrix}\n",
        "a_{11} & a_{12} & b_1 \\\\\n",
        "a_{21} & a_{22} & b_2 \\\\\n",
        "a_{31} & a_{32} & b_3\n",
        "\\end{vmatrix}\n",
        "$$\n",
        "\n",
        "## 4x4 System of Equations\n",
        "\n",
        "Consider a system of four equations with four unknowns:\n",
        "\n",
        "$$\n",
        "\\begin{cases}\n",
        "a_{11}x_1 + a_{12}x_2 + a_{13}x_3 + a_{14}x_4 = b_1 \\\\\n",
        "a_{21}x_1 + a_{22}x_2 + a_{23}x_3 + a_{24}x_4 = b_2 \\\\\n",
        "a_{31}x_1 + a_{32}x_2 + a_{33}x_3 + a_{34}x_4 = b_3 \\\\\n",
        "a_{41}x_1 + a_{42}x_2 + a_{43}x_3 + a_{44}x_4 = b_4\n",
        "\\end{cases}\n",
        "$$\n",
        "\n",
        "Cramer's rule for $ x_1 $, $ x_2 $, $ x_3 $, and $ x_4 $:\n",
        "\n",
        "$$\n",
        "x_1 = \\frac{\\det(A_1)}{\\det(A)} \\quad x_2 = \\frac{\\det(A_2)}{\\det(A)} \\quad x_3 = \\frac{\\det(A_3)}{\\det(A)} \\quad x_4 = \\frac{\\det(A_4)}{\\det(A)}\n",
        "$$\n",
        "\n",
        "Where:\n",
        "\n",
        "$$\n",
        "\\det(A) =\n",
        "\\begin{vmatrix}\n",
        "a_{11} & a_{12} & a_{13} & a_{14} \\\\\n",
        "a_{21} & a_{22} & a_{23} & a_{24} \\\\\n",
        "a_{31} & a_{32} & a_{33} & a_{34} \\\\\n",
        "a_{41} & a_{42} & a_{43} & a_{44}\n",
        "\\end{vmatrix}\n",
        "$$\n",
        "\n",
        "$$\n",
        "\\det(A_1) =\n",
        "\\begin{vmatrix}\n",
        "b_1 & a_{12} & a_{13} & a_{14} \\\\\n",
        "b_2 & a_{22} & a_{23} & a_{24} \\\\\n",
        "b_3 & a_{32} & a_{33} & a_{34} \\\\\n",
        "b_4 & a_{42} & a_{43} & a_{44}\n",
        "\\end{vmatrix}\n",
        "$$\n",
        "\n",
        "$$\n",
        "\\det(A_2) =\n",
        "\\begin{vmatrix}\n",
        "a_{11} & b_1 & a_{13} & a_{14} \\\\\n",
        "a_{21} & b_2 & a_{23} & a_{24} \\\\\n",
        "a_{31} & b_3 & a_{33} & a_{34} \\\\\n",
        "a_{41} & b_4 & a_{43} & a_{44}\n",
        "\\end{vmatrix}\n",
        "$$\n",
        "\n",
        "$$\n",
        "\\det(A_3) =\n",
        "\\begin{vmatrix}\n",
        "a_{11} & a_{12} & b_1 & a_{14} \\\\\n",
        "a_{21} & a_{22} & b_2 & a_{24} \\\\\n",
        "a_{31} & a_{32} & b_3 & a_{34} \\\\\n",
        "a_{41} & a_{42} & b_4 & a_{44}\n",
        "\\end{vmatrix}\n",
        "$$\n",
        "\n",
        "$$\n",
        "\\det(A_4) =\n",
        "\\begin{vmatrix}\n",
        "a_{11} & a_{12} & a_{13} & b_1 \\\\\n",
        "a_{21} & a_{22} & a_{23} & b_2 \\\\\n",
        "a_{31} & a_{32} & a_{33} & b_3 \\\\\n",
        "a_{41} & a_{42} & a_{43} & b_4\n",
        "\\end{vmatrix}\n",
        "$$\n",
        "\n",
        "## Example"
      ]
    },
    {
      "cell_type": "code",
      "execution_count": null,
      "metadata": {
        "id": "7zWll8-hIJrj"
      },
      "outputs": [],
      "source": [
        "import sympy as sp\n",
        "\n",
        "# Define symbols\n",
        "x, y, z = sp.symbols('x y z')\n",
        "\n",
        "# Define the system of equations\n",
        "eq1 = sp.Eq(2*x + 3*y + z, 1)\n",
        "eq2 = sp.Eq(3*x + 2*y + 2*z, 2)\n",
        "eq3 = sp.Eq(x + y + z, 3)\n",
        "\n",
        "# Coefficient matrix of the system\n",
        "A = sp.Matrix([[2, 3, 1], [3, 2, 2], [1, 1, 1]])\n",
        "# Free terms vector\n",
        "b = sp.Matrix([1, 2, 3])"
      ]
    },
    {
      "cell_type": "code",
      "execution_count": null,
      "metadata": {
        "colab": {
          "base_uri": "https://localhost:8080/",
          "height": 139
        },
        "id": "1OqVrIbPIJrn",
        "outputId": "33df8682-c427-41c8-def8-d55f2c9258b3"
      },
      "outputs": [
        {
          "output_type": "error",
          "ename": "NameError",
          "evalue": "name 'A' is not defined",
          "traceback": [
            "\u001b[0;31m---------------------------------------------------------------------------\u001b[0m",
            "\u001b[0;31mNameError\u001b[0m                                 Traceback (most recent call last)",
            "\u001b[0;32m<ipython-input-1-7d157d7c000a>\u001b[0m in \u001b[0;36m<cell line: 1>\u001b[0;34m()\u001b[0m\n\u001b[0;32m----> 1\u001b[0;31m \u001b[0mA\u001b[0m\u001b[0;34m\u001b[0m\u001b[0;34m\u001b[0m\u001b[0m\n\u001b[0m",
            "\u001b[0;31mNameError\u001b[0m: name 'A' is not defined"
          ]
        }
      ],
      "source": [
        "A"
      ]
    },
    {
      "cell_type": "code",
      "execution_count": null,
      "metadata": {
        "id": "0kW5LZOCIJrq",
        "outputId": "910e2934-e933-40a0-ca1f-789e5e511787"
      },
      "outputs": [
        {
          "data": {
            "text/latex": [
              "$\\displaystyle \\left[\\begin{matrix}1\\\\2\\\\3\\end{matrix}\\right]$"
            ],
            "text/plain": [
              "Matrix([\n",
              "[1],\n",
              "[2],\n",
              "[3]])"
            ]
          },
          "execution_count": 3,
          "metadata": {},
          "output_type": "execute_result"
        }
      ],
      "source": [
        "b"
      ]
    },
    {
      "cell_type": "code",
      "execution_count": null,
      "metadata": {
        "id": "qe0nRz4lIJrs",
        "outputId": "878852b9-cad5-4f1f-836e-b1b08754f104"
      },
      "outputs": [
        {
          "data": {
            "text/latex": [
              "$\\displaystyle \\left[\\begin{matrix}1 & 3 & 1\\\\2 & 2 & 2\\\\3 & 1 & 1\\end{matrix}\\right]$"
            ],
            "text/plain": [
              "Matrix([\n",
              "[1, 3, 1],\n",
              "[2, 2, 2],\n",
              "[3, 1, 1]])"
            ]
          },
          "execution_count": 4,
          "metadata": {},
          "output_type": "execute_result"
        }
      ],
      "source": [
        "# Define matrix A_1\n",
        "A_1 = A.copy() # Copy matrix A\n",
        "A_1[:, 0] = b # Replace the first column of A with vector b\n",
        "A_1 # Check if the replacement was successful"
      ]
    },
    {
      "cell_type": "code",
      "execution_count": null,
      "metadata": {
        "id": "xBWklnb_IJrt",
        "outputId": "135108fa-aad2-4003-de40-9d65d4b75be2"
      },
      "outputs": [
        {
          "data": {
            "text/latex": [
              "$\\displaystyle -4$"
            ],
            "text/plain": [
              "-4"
            ]
          },
          "execution_count": 5,
          "metadata": {},
          "output_type": "execute_result"
        }
      ],
      "source": [
        "det_A_1 = A_1.det() # Calculate determinant of A_1\n",
        "sol_x = det_A_1 / A.det() # Calculate x_1\n",
        "sol_x # Calculated value of x_1"
      ]
    },
    {
      "cell_type": "code",
      "execution_count": null,
      "metadata": {
        "id": "jH2IclfmIJrv",
        "outputId": "1480b529-356d-4e78-c6a4-23c133a026f6"
      },
      "outputs": [
        {
          "data": {
            "text/latex": [
              "$\\displaystyle \\left[\\begin{matrix}2 & 1 & 1\\\\3 & 2 & 2\\\\1 & 3 & 1\\end{matrix}\\right]$"
            ],
            "text/plain": [
              "Matrix([\n",
              "[2, 1, 1],\n",
              "[3, 2, 2],\n",
              "[1, 3, 1]])"
            ]
          },
          "execution_count": 6,
          "metadata": {},
          "output_type": "execute_result"
        }
      ],
      "source": [
        "# Similarly for y\n",
        "A_2 = A.copy()\n",
        "A_2[:, 1] = b\n",
        "A_2 # Check if the replacement was successful"
      ]
    },
    {
      "cell_type": "code",
      "execution_count": null,
      "metadata": {
        "id": "DINdW90KIJrx",
        "outputId": "b5dbb20b-2e01-4f1c-e390-0775db78e98c"
      },
      "outputs": [
        {
          "data": {
            "text/latex": [
              "$\\displaystyle 1$"
            ],
            "text/plain": [
              "1"
            ]
          },
          "execution_count": 7,
          "metadata": {},
          "output_type": "execute_result"
        }
      ],
      "source": [
        "det_A_2 = A_2.det()\n",
        "sol_y = det_A_2 / A.det()\n",
        "sol_y"
      ]
    },
    {
      "cell_type": "code",
      "execution_count": null,
      "metadata": {
        "id": "KI6tT1PJIJry",
        "outputId": "ae9810d6-146e-40d4-b335-cfe1b23cfe00"
      },
      "outputs": [
        {
          "data": {
            "text/latex": [
              "$\\displaystyle 6$"
            ],
            "text/plain": [
              "6"
            ]
          },
          "execution_count": 8,
          "metadata": {},
          "output_type": "execute_result"
        }
      ],
      "source": [
        "# Finally for z\n",
        "A_3 = A.copy()\n",
        "A_3[:, 2] = b\n",
        "det_A_3 = A_3.det()\n",
        "sol_z = det_A_3 / A.det()\n",
        "sol_z"
      ]
    },
    {
      "cell_type": "code",
      "source": [
        "import sympy as sp\n",
        "x, y, z = sp.symbols('x y z')"
      ],
      "metadata": {
        "id": "RqhbTgFMKoa4"
      },
      "execution_count": null,
      "outputs": []
    },
    {
      "cell_type": "code",
      "execution_count": null,
      "metadata": {
        "colab": {
          "base_uri": "https://localhost:8080/"
        },
        "id": "UU8MuGltIJrz",
        "outputId": "fd225333-5962-4355-ad43-b8a30b39e9cd"
      },
      "outputs": [
        {
          "output_type": "stream",
          "name": "stdout",
          "text": [
            "Matrix([[35/19, 6/19], [-21/19, 4/19]])\n"
          ]
        }
      ],
      "source": [
        "import sympy as sp\n",
        "x, y = sp.symbols('x y')\n",
        "\n",
        "eq1 = sp.Eq(2*x - 3*x, 7)\n",
        "eq2 = sp.Eq(3*x + 5*x, 2)\n",
        "A = sp.Matrix([[2,-3], [3, 5]])\n",
        "b = sp.Matrix([7, 2])\n",
        "A = A.inv()\n",
        "\n",
        "A[:, 0] = A[:, 0] * b[0]\n",
        "A[:, 1] = A[:, 1] * b[1]\n",
        "\n",
        "sp.solve((eq1, eq2), (x, y))\n",
        "print(A)"
      ]
    },
    {
      "cell_type": "code",
      "source": [],
      "metadata": {
        "id": "i_mg4_hWY2kS"
      },
      "execution_count": null,
      "outputs": []
    },
    {
      "cell_type": "markdown",
      "metadata": {
        "id": "6Wjrtl_AIJr0"
      },
      "source": [
        "---\n",
        "\n",
        "## Exercises for Students\n",
        "\n",
        "1. Solve the system of equations:\n",
        "   $$\n",
        "   \\begin{cases}\n",
        "   2x_1 - 3x_2 = 7 \\\\\n",
        "   3x_1 + 5x_2 = 2\n",
        "   \\end{cases}\n",
        "   $$\n",
        "\n",
        "2. Solve the system of equations:\n",
        "   $$\n",
        "   \\begin{cases}\n",
        "   2x + y - z = 1 \\\\\n",
        "   x - y + 2z = 4 \\\\\n",
        "   3x - 2z = -1\n",
        "   \\end{cases}\n",
        "   $$\n",
        "\n",
        "3. Solve the system of equations:\n",
        "   $$\n",
        "   \\begin{cases}\n",
        "   x + y + z - t = 2 \\\\\n",
        "   x - z + 2t = 6 \\\\\n",
        "   2x - 3y + t = 4 \\\\\n",
        "   3x + y + 3z - 4t = -2\n",
        "   \\end{cases}\n",
        "   $$\n",
        "\n",
        "4. Why can't the following system of equations be solved using Cramer's rule?\n",
        "$$\n",
        "\\begin{cases}\n",
        "x_1 + 2x_2 + 3x_3 = 3 \\\\\n",
        "4x_1 + 5x_2 + 6x_3 = 2 \\\\\n",
        "7x_1 + 8x_2 + 9x_3 = 1\n",
        "\\end{cases}\n",
        "$$"
      ]
    },
    {
      "cell_type": "code",
      "source": [
        "import sympy as sp\n",
        "x, y, z = sp.symbols('x y z')\n",
        "eq1 = sp.Eq(2*x + y - z, 1)\n",
        "eq2 = sp.Eq(x - y + 2*z, 4)\n",
        "eq3 = sp.Eq(3*x - 2*z, -1)\n",
        "A = sp.Matrix([[2, 1, -1], [1, -1, 2], [3, 0, -2]])\n",
        "b = sp.Matrix([[1], [4], [-1]])\n",
        "\n",
        "A = A.inv()\n",
        "A = A.inv() * b\n",
        "sp.solve([eq1, eq2, eq3], (x, y, z))\n",
        "\n",
        "print(A)"
      ],
      "metadata": {
        "colab": {
          "base_uri": "https://localhost:8080/"
        },
        "id": "138tYHImZEZ-",
        "outputId": "28433bbe-eae7-4bb2-d0c0-a9c389420326"
      },
      "execution_count": 3,
      "outputs": [
        {
          "output_type": "stream",
          "name": "stdout",
          "text": [
            "Matrix([[7], [-5], [5]])\n"
          ]
        }
      ]
    },
    {
      "cell_type": "code",
      "source": [
        "import sympy as sp\n",
        "x, y = sp.symbols('x y')\n",
        "\n",
        "eq1 = sp.Eq(2*x - 3*x, 7)\n",
        "eq2 = sp.Eq(3*x + 5*x, 2)\n",
        "A = sp.Matrix([[2,-3], [3, 5]])\n",
        "b = sp.Matrix([[7], [2]])\n",
        "A = A.inv()\n",
        "\n",
        "A = A.inv() * b\n",
        "\n",
        "sp.solve((eq1, eq2), (x, y))\n",
        "print(A)"
      ],
      "metadata": {
        "colab": {
          "base_uri": "https://localhost:8080/"
        },
        "id": "erao7tniKYri",
        "outputId": "66cc6a15-12ee-40b2-f7b1-0c7025a1c88c"
      },
      "execution_count": 4,
      "outputs": [
        {
          "output_type": "stream",
          "name": "stdout",
          "text": [
            "Matrix([[8], [31]])\n"
          ]
        }
      ]
    },
    {
      "cell_type": "markdown",
      "source": [
        "Steps to Solve a System of Equations in SymPy:\n",
        "Define the variables used in the equations.\n",
        "Write the equations you want to solve.\n",
        "Use the solve() function to find the solutions.\n",
        "Example: Solve a System of Linear Equations\n",
        "Suppose we have the following system of equations:\n",
        "\n",
        "x\n",
        "+\n",
        "y\n",
        "=\n",
        "2\n",
        "2\n",
        "x\n",
        "−\n",
        "y\n",
        "=\n",
        "1\n",
        "\n",
        "x+y\n",
        "2x−y\n",
        "​\n",
        "  \n",
        "=2\n",
        "=1\n",
        "​\n",
        "\n",
        "Step-by-Step Python Code:\n",
        "python\n",
        "Копировать код\n",
        "import sympy as sp\n",
        "\n",
        "# Step 1: Define the variables\n",
        "x, y = sp.symbols('x y')\n",
        "\n",
        "# Step 2: Write the equations\n",
        "eq1 = sp.Eq(x + y, 2)    # First equation: x + y = 2\n",
        "eq2 = sp.Eq(2*x - y, 1)  # Second equation: 2x - y = 1\n",
        "\n",
        "# Step 3: Solve the system of equations\n",
        "solutions = sp.solve([eq1, eq2], (x, y))\n",
        "\n",
        "# Step 4: Print the solutions\n",
        "print(\"Solutions:\")\n",
        "sp.pprint(solutions)\n",
        "Output:\n",
        "yaml\n",
        "Копировать код\n",
        "Solutions:\n",
        "{x: 1, y: 1}\n",
        "Explanation:\n",
        "Define variables: We declare x and y as symbols using sp.symbols('x y').\n",
        "Write the equations: Use sp.Eq() to represent the equations\n",
        "x\n",
        "+\n",
        "y\n",
        "=\n",
        "2\n",
        "x+y=2 and\n",
        "2\n",
        "x\n",
        "−\n",
        "y\n",
        "=\n",
        "1\n",
        "2x−y=1.\n",
        "Solve the equations: The sp.solve() function takes a list of equations and the variables to solve for. It returns the values of x and y that satisfy both equations.\n",
        "Print the solutions: The result is a dictionary showing that\n",
        "x\n",
        "=\n",
        "1\n",
        "x=1 and\n",
        "y\n",
        "=\n",
        "1\n",
        "y=1.\n",
        "Example with More Variables:\n",
        "For a system of three equations with three variables:\n",
        "\n",
        "x\n",
        "+\n",
        "2\n",
        "y\n",
        "+\n",
        "z\n",
        "=\n",
        "4\n",
        "2\n",
        "x\n",
        "−\n",
        "y\n",
        "+\n",
        "3\n",
        "z\n",
        "=\n",
        "5\n",
        "3\n",
        "x\n",
        "+\n",
        "y\n",
        "+\n",
        "2\n",
        "z\n",
        "=\n",
        "7\n",
        "\n",
        "x+2y+z\n",
        "2x−y+3z\n",
        "3x+y+2z\n",
        "​\n",
        "  \n",
        "=4\n",
        "=5\n",
        "=7\n",
        "​\n",
        "\n",
        "The steps are the same, but with more variables and equations.\n",
        "\n",
        "python\n",
        "Копировать код\n",
        "# Step 1: Define variables\n",
        "x, y, z = sp.symbols('x y z')\n",
        "\n",
        "# Step 2: Write the equations\n",
        "eq1 = sp.Eq(x + 2*y + z, 4)\n",
        "eq2 = sp.Eq(2*x - y + 3*z, 5)\n",
        "eq3 = sp.Eq(3*x + y + 2*z, 7)\n",
        "\n",
        "# Step 3: Solve the system\n",
        "solutions = sp.solve([eq1, eq2, eq3], (x, y, z))\n",
        "\n",
        "# Step 4: Print the solutions\n",
        "print(\"Solutions:\")\n",
        "sp.pprint(solutions)\n",
        "This would solve the system and return the values of x, y, and z.\n",
        "\n",
        "Summary:\n",
        "Step 1: Define the variables (symbols).\n",
        "Step 2: Write the equations using sp.Eq().\n",
        "Step 3: Use sp.solve() to solve the system of equations.\n",
        "Step 4: Print the solutions.\n",
        "SymPy automatically solves the system and provides the values for each variable. This method works for both linear and non-linear systems!"
      ],
      "metadata": {
        "id": "9dhwTW5-KV88"
      }
    }
  ],
  "metadata": {
    "kernelspec": {
      "display_name": "Python 3",
      "language": "python",
      "name": "python3"
    },
    "language_info": {
      "codemirror_mode": {
        "name": "ipython",
        "version": 3
      },
      "file_extension": ".py",
      "mimetype": "text/x-python",
      "name": "python",
      "nbconvert_exporter": "python",
      "pygments_lexer": "ipython3",
      "version": "3.11.9"
    },
    "colab": {
      "provenance": [],
      "include_colab_link": true
    }
  },
  "nbformat": 4,
  "nbformat_minor": 0
}